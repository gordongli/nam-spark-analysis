{
 "cells": [
  {
   "cell_type": "code",
   "execution_count": 16,
   "metadata": {},
   "outputs": [
    {
     "data": {
      "text/plain": [
       "DataFrame[author: string, author_flair_css_class: string, author_flair_text: string, body: string, controversiality: bigint, created_utc: bigint, distinguished: string, edited: string, gilded: bigint, id: string, link_id: string, parent_id: string, retrieved_on: bigint, score: bigint, stickied: boolean, subreddit: string, subreddit_id: string, ups: bigint]"
      ]
     },
     "execution_count": 16,
     "metadata": {},
     "output_type": "execute_result"
    }
   ],
   "source": [
    "rc_2007_01 = spark.read.format('json').load('hdfs://orion11:15000/rc/2007/RC_2007-01.bz2')\n",
    "rc_2007_01.cache()"
   ]
  },
  {
   "cell_type": "code",
   "execution_count": 21,
   "metadata": {},
   "outputs": [],
   "source": [
    "rc = spark.read.format('json').load('hdfs://orion11:15000/rc/*')"
   ]
  },
  {
   "cell_type": "code",
   "execution_count": 25,
   "metadata": {},
   "outputs": [
    {
     "data": {
      "text/plain": [
       "DataFrame[archived: boolean, author: string, author_flair_css_class: string, author_flair_text: string, body: string, controversiality: bigint, created_utc: string, distinguished: string, downs: bigint, edited: string, gilded: bigint, id: string, link_id: string, name: string, parent_id: string, removal_reason: string, retrieved_on: bigint, score: bigint, score_hidden: boolean, stickied: boolean, subreddit: string, subreddit_id: string, ups: bigint]"
      ]
     },
     "execution_count": 25,
     "metadata": {},
     "output_type": "execute_result"
    }
   ],
   "source": [
    "rc"
   ]
  },
  {
   "cell_type": "code",
   "execution_count": 120,
   "metadata": {
    "scrolled": true
   },
   "outputs": [],
   "source": [
    "rc_samp = rc.sample(False, .1)"
   ]
  },
  {
   "cell_type": "code",
   "execution_count": 121,
   "metadata": {},
   "outputs": [
    {
     "data": {
      "text/plain": [
       "DataFrame[archived: boolean, author: string, author_flair_css_class: string, author_flair_text: string, body: string, controversiality: bigint, created_utc: string, distinguished: string, downs: bigint, edited: string, gilded: bigint, id: string, link_id: string, name: string, parent_id: string, removal_reason: string, retrieved_on: bigint, score: bigint, score_hidden: boolean, stickied: boolean, subreddit: string, subreddit_id: string, ups: bigint]"
      ]
     },
     "execution_count": 121,
     "metadata": {},
     "output_type": "execute_result"
    }
   ],
   "source": [
    "rc_samp.cache()"
   ]
  },
  {
   "cell_type": "code",
   "execution_count": 125,
   "metadata": {},
   "outputs": [],
   "source": [
    "rc_samp.write.format('json').save('hdfs://orion11:15000/rc_samp')"
   ]
  },
  {
   "cell_type": "code",
   "execution_count": 9,
   "metadata": {},
   "outputs": [
    {
     "data": {
      "text/plain": [
       "['author',\n",
       " 'author_flair_css_class',\n",
       " 'author_flair_text',\n",
       " 'body',\n",
       " 'controversiality',\n",
       " 'created_utc',\n",
       " 'distinguished',\n",
       " 'edited',\n",
       " 'gilded',\n",
       " 'id',\n",
       " 'link_id',\n",
       " 'parent_id',\n",
       " 'retrieved_on',\n",
       " 'score',\n",
       " 'stickied',\n",
       " 'subreddit',\n",
       " 'subreddit_id',\n",
       " 'ups']"
      ]
     },
     "execution_count": 9,
     "metadata": {},
     "output_type": "execute_result"
    }
   ],
   "source": [
    "type(rc_2007_01)\n",
    "rc_2007_01.columns"
   ]
  },
  {
   "cell_type": "code",
   "execution_count": 7,
   "metadata": {},
   "outputs": [],
   "source": [
    "rc_2007_01.createOrReplaceTempView(\"rc_2007_01\")"
   ]
  },
  {
   "cell_type": "code",
   "execution_count": 17,
   "metadata": {},
   "outputs": [
    {
     "data": {
      "text/plain": [
       "[('key', 81341)]"
      ]
     },
     "execution_count": 17,
     "metadata": {},
     "output_type": "execute_result"
    }
   ],
   "source": [
    "rc_2007_01.rdd \\\n",
    "    .map(lambda comment: ('key', 1)) \\\n",
    "    .reduceByKey(lambda accum, n: accum + n) \\\n",
    "    .collect()"
   ]
  },
  {
   "cell_type": "code",
   "execution_count": 22,
   "metadata": {},
   "outputs": [
    {
     "name": "stdout",
     "output_type": "stream",
     "text": [
      "+--------+\n",
      "|count(1)|\n",
      "+--------+\n",
      "|   81341|\n",
      "+--------+\n",
      "\n"
     ]
    }
   ],
   "source": [
    "spark.sql(\"\\\n",
    "SELECT COUNT(*) \\\n",
    "FROM rc_2007_01\").show()"
   ]
  },
  {
   "cell_type": "code",
   "execution_count": 30,
   "metadata": {
    "scrolled": true
   },
   "outputs": [],
   "source": [
    "sub_count_mr = rc_2007_01.rdd \\\n",
    "    .map(lambda comment: (comment['subreddit'], 1)) \\\n",
    "    .reduceByKey(lambda accum, n: accum + n) \\\n",
    "    .collect()"
   ]
  },
  {
   "cell_type": "code",
   "execution_count": 147,
   "metadata": {},
   "outputs": [
    {
     "name": "stdout",
     "output_type": "stream",
     "text": [
      "23 [('programming', 7650), ('reddit.com', 70939), ('science', 2018), ('tr', 30), ('sl', 24), ('lipstick.com', 98), ('pl', 7), ('fr', 11), ('ja', 138), ('freeculture', 101), ('joel', 54), ('request', 36), ('arxiv', 4), ('features', 156), ('nl', 2), ('de', 34), ('nsfw', 7), ('it', 11), ('es', 2), ('zh', 1), ('rlc', 1), ('ru', 15), ('sv', 2)]\n"
     ]
    }
   ],
   "source": [
    "print(len(sub_count_mr), sub_count_mr)"
   ]
  },
  {
   "cell_type": "code",
   "execution_count": 34,
   "metadata": {},
   "outputs": [
    {
     "data": {
      "text/plain": [
       "23"
      ]
     },
     "execution_count": 34,
     "metadata": {},
     "output_type": "execute_result"
    }
   ],
   "source": [
    "len(sub_count_mr)"
   ]
  },
  {
   "cell_type": "code",
   "execution_count": 47,
   "metadata": {},
   "outputs": [],
   "source": [
    "sub_count_sql = spark.sql(\"\\\n",
    "SELECT subreddit, COUNT(*) as cnt \\\n",
    "FROM rc_2007_01 \\\n",
    "GROUP BY subreddit\").collect()"
   ]
  },
  {
   "cell_type": "code",
   "execution_count": 48,
   "metadata": {},
   "outputs": [
    {
     "data": {
      "text/plain": [
       "[Row(subreddit='sl', cnt=24),\n",
       " Row(subreddit='pl', cnt=7),\n",
       " Row(subreddit='arxiv', cnt=4),\n",
       " Row(subreddit='programming', cnt=7650),\n",
       " Row(subreddit='lipstick.com', cnt=98),\n",
       " Row(subreddit='reddit.com', cnt=70939),\n",
       " Row(subreddit='tr', cnt=30),\n",
       " Row(subreddit='de', cnt=34),\n",
       " Row(subreddit='es', cnt=2),\n",
       " Row(subreddit='nsfw', cnt=7),\n",
       " Row(subreddit='request', cnt=36),\n",
       " Row(subreddit='science', cnt=2018),\n",
       " Row(subreddit='it', cnt=11),\n",
       " Row(subreddit='sv', cnt=2),\n",
       " Row(subreddit='nl', cnt=2),\n",
       " Row(subreddit='freeculture', cnt=101),\n",
       " Row(subreddit='ru', cnt=15),\n",
       " Row(subreddit='features', cnt=156),\n",
       " Row(subreddit='joel', cnt=54),\n",
       " Row(subreddit='zh', cnt=1),\n",
       " Row(subreddit='fr', cnt=11),\n",
       " Row(subreddit='ja', cnt=138),\n",
       " Row(subreddit='rlc', cnt=1)]"
      ]
     },
     "execution_count": 48,
     "metadata": {},
     "output_type": "execute_result"
    }
   ],
   "source": [
    "sub_count_sql"
   ]
  },
  {
   "cell_type": "code",
   "execution_count": 46,
   "metadata": {},
   "outputs": [
    {
     "name": "stdout",
     "output_type": "stream",
     "text": [
      "+-------------------------+\n",
      "|count(DISTINCT subreddit)|\n",
      "+-------------------------+\n",
      "|                       23|\n",
      "+-------------------------+\n",
      "\n"
     ]
    }
   ],
   "source": [
    "spark.sql(\"\\\n",
    "SELECT COUNT(DISTINCT subreddit) \\\n",
    "FROM rc_2007_01\").show()"
   ]
  },
  {
   "cell_type": "code",
   "execution_count": 133,
   "metadata": {},
   "outputs": [
    {
     "name": "stdout",
     "output_type": "stream",
     "text": [
      "CPU times: user 50.4 ms, sys: 9.97 ms, total: 60.3 ms\n",
      "Wall time: 59.1 s\n"
     ]
    }
   ],
   "source": [
    "%%time\n",
    "\n",
    "import string\n",
    "\n",
    "def screamer_sub_mapper(comment):\n",
    "    n_upper = len(list(filter(lambda c: c in string.ascii_uppercase, comment['body'])))\n",
    "    n_alpha = len(list(filter(lambda c: c in string.ascii_letters, comment['body'])))\n",
    "    return (comment['subreddit'], (n_upper, n_alpha))\n",
    "\n",
    "def screamer_reducer(value_list):\n",
    "    total_upper = 0\n",
    "    total_alpha = 0\n",
    "    for value in value_list:\n",
    "        (n_upper, n_alpha) = value\n",
    "        total_upper += n_upper\n",
    "        total_alpha += n_alpha\n",
    "    screamer_score = total_upper / total_alpha if total_alpha else 0\n",
    "    return (screamer_score, len(value_list))\n",
    "    \n",
    "screamer_subs = rc_samp.rdd \\\n",
    "    .map(screamer_sub_mapper) \\\n",
    "    .groupByKey() \\\n",
    "    .mapValues(screamer_reducer) \\\n",
    "\n",
    "screamer_subs.cache()"
   ]
  },
  {
   "cell_type": "code",
   "execution_count": 144,
   "metadata": {},
   "outputs": [
    {
     "data": {
      "text/plain": [
       "[('spacedicks', (0.5781305686052163, 1385)),\n",
       " ('circlejerk', (0.18934631577970992, 45861)),\n",
       " ('googleplusinvites', (0.11052298941380945, 1089))]"
      ]
     },
     "execution_count": 144,
     "metadata": {},
     "output_type": "execute_result"
    }
   ],
   "source": [
    "screamer_subs \\\n",
    "    .filter(lambda key0_rval1: key0_rval1[1][1] > 1000) \\\n",
    "    .sortBy(lambda key0_rval1: key0_rval1[1][0], False) \\\n",
    "    .take(3)"
   ]
  },
  {
   "cell_type": "code",
   "execution_count": null,
   "metadata": {},
   "outputs": [],
   "source": []
  }
 ],
 "metadata": {
  "kernelspec": {
   "display_name": "Python 3",
   "language": "python",
   "name": "python3"
  },
  "language_info": {
   "codemirror_mode": {
    "name": "ipython",
    "version": 3
   },
   "file_extension": ".py",
   "mimetype": "text/x-python",
   "name": "python",
   "nbconvert_exporter": "python",
   "pygments_lexer": "ipython3",
   "version": "3.6.5"
  }
 },
 "nbformat": 4,
 "nbformat_minor": 2
}
