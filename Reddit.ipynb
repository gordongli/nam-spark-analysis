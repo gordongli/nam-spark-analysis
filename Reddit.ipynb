{
 "cells": [
  {
   "cell_type": "markdown",
   "metadata": {},
   "source": [
    "# Social Network Analysis with Spark"
   ]
  },
  {
   "cell_type": "markdown",
   "metadata": {},
   "source": [
    "## Dataset: Reddit comments"
   ]
  },
  {
   "cell_type": "markdown",
   "metadata": {},
   "source": [
    "## Dataset: Reddit comments\n",
    "\n",
    "The dataset consists of about 250 million comments on the social media website Reddit from 2007 to 2011. Each comment is represented as a JSON object which includes fields indicated below: "
   ]
  },
  {
   "cell_type": "code",
   "execution_count": 21,
   "metadata": {},
   "outputs": [],
   "source": [
    "rc = spark.read.format('json').load('hdfs://orion11:15000/rc/*')"
   ]
  },
  {
   "cell_type": "code",
   "execution_count": 25,
   "metadata": {},
   "outputs": [
    {
     "data": {
      "text/plain": [
       "DataFrame[archived: boolean, author: string, author_flair_css_class: string, author_flair_text: string, body: string, controversiality: bigint, created_utc: string, distinguished: string, downs: bigint, edited: string, gilded: bigint, id: string, link_id: string, name: string, parent_id: string, removal_reason: string, retrieved_on: bigint, score: bigint, score_hidden: boolean, stickied: boolean, subreddit: string, subreddit_id: string, ups: bigint]"
      ]
     },
     "execution_count": 25,
     "metadata": {},
     "output_type": "execute_result"
    }
   ],
   "source": [
    "rc"
   ]
  },
  {
   "cell_type": "markdown",
   "metadata": {},
   "source": [
    "### Samples\n",
    "We create samples of successively smaller size for more efficient analysis, creating subsequent subsets from previous subsets in a cacheable pipeline."
   ]
  },
  {
   "cell_type": "code",
   "execution_count": 120,
   "metadata": {
    "scrolled": true
   },
   "outputs": [],
   "source": [
    "rc_samp = rc.sample(False, .1)\n",
    "rc_samp.write.format('json').save('hdfs://orion11:15000/rc_samp')"
   ]
  },
  {
   "cell_type": "code",
   "execution_count": 164,
   "metadata": {},
   "outputs": [
    {
     "name": "stdout",
     "output_type": "stream",
     "text": [
      "26237538\n",
      "CPU times: user 12 ms, sys: 2.97 ms, total: 15 ms\n",
      "Wall time: 57.4 s\n"
     ]
    }
   ],
   "source": [
    "%%time\n",
    "rc_samp = spark.read.format('json').load('hdfs://orion11:15000/rc_samp/*')\n",
    "# rc_samp.cache()\n",
    "print(rc_samp.count())"
   ]
  },
  {
   "cell_type": "code",
   "execution_count": null,
   "metadata": {},
   "outputs": [],
   "source": [
    "rc_s = rc_samp.sample(False, .1)\n",
    "rc_s.write.format('json').save('hdfs://orion11:15000/rc_s')"
   ]
  },
  {
   "cell_type": "code",
   "execution_count": 1,
   "metadata": {},
   "outputs": [
    {
     "name": "stdout",
     "output_type": "stream",
     "text": [
      "2622716\n",
      "CPU times: user 5.8 ms, sys: 3.14 ms, total: 8.94 ms\n",
      "Wall time: 15.8 s\n"
     ]
    }
   ],
   "source": [
    "%%time\n",
    "rc_s = spark.read.format('json').load('hdfs://orion11:15000/rc_s/*')\n",
    "rc_s.cache()\n",
    "print(rc_s.count())"
   ]
  },
  {
   "cell_type": "code",
   "execution_count": 126,
   "metadata": {},
   "outputs": [],
   "source": [
    "rc_t = rc_s.sample(False, .1)\n",
    "rc_t.write.format('json').save('hdfs://orion11:15000/rc_t')"
   ]
  },
  {
   "cell_type": "code",
   "execution_count": 1,
   "metadata": {},
   "outputs": [
    {
     "name": "stdout",
     "output_type": "stream",
     "text": [
      "262372\n",
      "CPU times: user 3.26 ms, sys: 445 µs, total: 3.7 ms\n",
      "Wall time: 9.71 s\n"
     ]
    }
   ],
   "source": [
    "%%time\n",
    "rc_t = spark.read.format('json').load('hdfs://orion11:15000/rc_t/*')\n",
    "rc_t.cache()\n",
    "print(rc_t.count())"
   ]
  },
  {
   "cell_type": "code",
   "execution_count": 38,
   "metadata": {},
   "outputs": [],
   "source": [
    "rc_u = rc_t.sample(False, .1)\n",
    "rc_u.write.format('json').save('hdfs://orion11:15000/rc_u')"
   ]
  },
  {
   "cell_type": "code",
   "execution_count": 39,
   "metadata": {
    "scrolled": true
   },
   "outputs": [
    {
     "name": "stdout",
     "output_type": "stream",
     "text": [
      "26273\n",
      "CPU times: user 1.71 ms, sys: 1.17 ms, total: 2.88 ms\n",
      "Wall time: 1.56 s\n"
     ]
    }
   ],
   "source": [
    "%%time\n",
    "rc_u = spark.read.format('json').load('hdfs://orion11:15000/rc_u/*')\n",
    "rc_u.cache()\n",
    "print(rc_u.count())"
   ]
  },
  {
   "cell_type": "code",
   "execution_count": 75,
   "metadata": {},
   "outputs": [
    {
     "name": "stdout",
     "output_type": "stream",
     "text": [
      "10000\n"
     ]
    }
   ],
   "source": [
    "rc_v = sc.parallelize(rc_t.take(10000))\n",
    "rc_v.cache()\n",
    "print(rc_v.count())"
   ]
  },
  {
   "cell_type": "markdown",
   "metadata": {},
   "source": [
    "## Spark API\n",
    "We explore how Spark enables data analysis with different paradigms, with the API for RDDs, SQL, and DataFrames."
   ]
  },
  {
   "cell_type": "markdown",
   "metadata": {},
   "source": [
    "### Number of comments\n",
    "We find the number of records with the Spark API for RDDs (Map-Reduce style), SQL, and DataFrames."
   ]
  },
  {
   "cell_type": "code",
   "execution_count": 135,
   "metadata": {},
   "outputs": [
    {
     "data": {
      "text/plain": [
       "[('key', 262372)]"
      ]
     },
     "execution_count": 135,
     "metadata": {},
     "output_type": "execute_result"
    }
   ],
   "source": [
    "rc_t.rdd \\\n",
    "    .map(lambda comment: ('key', 1)) \\\n",
    "    .reduceByKey(lambda accum, n: accum + n) \\\n",
    "    .collect()"
   ]
  },
  {
   "cell_type": "code",
   "execution_count": 136,
   "metadata": {},
   "outputs": [],
   "source": [
    "rc_t.createOrReplaceTempView('rc_t')"
   ]
  },
  {
   "cell_type": "code",
   "execution_count": 139,
   "metadata": {},
   "outputs": [
    {
     "data": {
      "text/plain": [
       "[Row(count(1)=262372)]"
      ]
     },
     "execution_count": 139,
     "metadata": {},
     "output_type": "execute_result"
    }
   ],
   "source": [
    "spark.sql(\"\\\n",
    "SELECT COUNT(*) \\\n",
    "FROM rc_t\").collect()"
   ]
  },
  {
   "cell_type": "code",
   "execution_count": 138,
   "metadata": {},
   "outputs": [
    {
     "data": {
      "text/plain": [
       "262372"
      ]
     },
     "execution_count": 138,
     "metadata": {},
     "output_type": "execute_result"
    }
   ],
   "source": [
    "rc_t.count()"
   ]
  },
  {
   "cell_type": "markdown",
   "metadata": {},
   "source": [
    "### Number of subreddits, subreddits' comments\n",
    "Likewise, we use the Spark RDD/SQL/DataFrame API to find the number of records grouped by field and the number of groups. "
   ]
  },
  {
   "cell_type": "code",
   "execution_count": 149,
   "metadata": {
    "scrolled": true
   },
   "outputs": [],
   "source": [
    "sub_count_mr = rc_t.rdd \\\n",
    "    .map(lambda comment: (comment['subreddit'], 1)) \\\n",
    "    .reduceByKey(lambda accum, n: accum + n) \\\n",
    "    .collect()"
   ]
  },
  {
   "cell_type": "code",
   "execution_count": 157,
   "metadata": {},
   "outputs": [
    {
     "name": "stdout",
     "output_type": "stream",
     "text": [
      "4097\n",
      "[('AskReddit', 38907), ('pics', 18693), ('reddit.com', 16228), ('politics', 10680), ('gaming', 10358), ('funny', 9590), ('IAmA', 7895), ('fffffffuuuuuuuuuuuu', 6876), ('atheism', 6753), ('WTF', 6696), ('trees', 4824), ('worldnews', 4191), ('videos', 3849), ('starcraft', 3246), ('programming', 2715), ('todayilearned', 2622), ('science', 2619), ('Minecraft', 2479), ('technology', 2211), ('gonewild', 1961), ('TwoXChromosomes', 1937), ('leagueoflegends', 1701), ('Music', 1485), ('Fitness', 1370), ('sex', 1273), ('guns', 1188), ('canada', 1144), ('movies', 1142), ('nfl', 1134), ('Android', 1090), ('soccer', 1041), ('tf2', 1027), ('Libertarian', 1023), ('DoesAnybodyElse', 1022), ('mylittlepony', 1022), ('skyrim', 1014), ('Economics', 958), ('askscience', 879), ('offbeat', 816), ('battlefield3', 742), ('AdviceAnimals', 739), ('Christianity', 718), ('apple', 717), ('relationship_advice', 716), ('entertainment', 713), ('self', 682), ('linux', 668), ('wow', 636), ('MensRights', 631), ('news', 628), ('comics', 602), ('business', 595), ('circlejerk', 586), ('books', 570), ('malefashionadvice', 563), ('scifi', 560), ('buildapc', 558), ('aww', 550), ('food', 549), ('nsfw', 548), ('Frugal', 539), ('lgbt', 521), ('doctorwho', 515), ('geek', 508), ('australia', 504), ('sports', 502), ('CFB', 466), ('photography', 463), ('bicycling', 459), ('hockey', 457), ('relationships', 427), ('motorcycles', 416), ('loseit', 412), ('philosophy', 406), ('pokemon', 395), ('conspiracy', 393), ('anime', 392), ('Drugs', 372), ('amiugly', 371), ('magicTCG', 354), ('environment', 354), ('occupywallstreet', 352), ('Guitar', 349), ('tf2trade', 338), ('explainlikeimfive', 334), ('firstworldproblems', 317), ('MMA', 317), ('WeAreTheMusicMakers', 316), ('Marijuana', 313), ('fantasyfootball', 305), ('techsupport', 304), ('shittyadvice', 300), ('Metal', 299), ('gameofthrones', 296), ('web_design', 291), ('swtor', 291), ('beer', 290), ('unitedkingdom', 286), ('gadgets', 281), ('seduction', 281), ('Cooking', 279), ('harrypotter', 276), ('nyc', 274), ('gifs', 271), ('TrueReddit', 270), ('secretsanta', 265), ('baseball', 265), ('DotA2', 263), ('math', 257), ('Anarchism', 247), ('nba', 245), ('HeroesofNewerth', 235), ('toronto', 235), ('bestof', 233), ('space', 233), ('keto', 230), ('DIY', 230), ('iphone', 228), ('nosleep', 225), ('tipofmytongue', 222), ('Seattle', 221), ('startrek', 219), ('chicago', 212), ('gaymers', 211), ('dubstep', 209), ('gameswap', 207), ('DebateAChristian', 205), ('ShitRedditSays', 204), ('india', 204), ('rpg', 202), ('PS3', 202), ('OkCupid', 201), ('history', 199), ('DebateReligion', 199), ('Homebrewing', 199), ('Random_Acts_Of_Pizza', 196), ('Eve', 195), ('truegaming', 193), ('hiphopheads', 189), ('travel', 188), ('itookapicture', 188), ('hardware', 187), ('islam', 185), ('cars', 184), ('worldpolitics', 182), ('Health', 181), ('running', 180), ('Autos', 180), ('wikipedia', 179), ('breakingbad', 178), ('Austin', 178), ('sysadmin', 173), ('Parenting', 173), ('fitnesscirclejerk', 170), ('Art', 167), ('community', 164), ('Israel', 163), ('badcompany2', 161), ('skeptic', 160), ('asoiaf', 160), ('answers', 160), ('learnprogramming', 159), ('humor', 158), ('comicbooks', 158), ('codbo', 157), ('darksouls', 156), ('blog', 155), ('gamernews', 155), ('Military', 154), ('PoliticalDiscussion', 153), ('Portland', 152), ('creepy', 151), ('ForeverAlone', 151), ('boston', 150), ('GoneWildPlus', 147), ('netsec', 146), ('cripplingalcoholism', 142), ('formula1', 141), ('mw3', 138), ('Diablo', 137), ('writing', 135), ('Games', 135), ('Design', 134), ('Favors', 131), ('promos', 131), ('vinyl', 128), ('SquaredCircle', 127), ('tattoos', 126), ('LosAngeles', 121), ('electronicmusic', 121), ('listentothis', 120), ('energy', 119), ('MLS', 119), ('philadelphia', 117), ('newzealand', 116), ('cats', 112), ('SuicideWatch', 112), ('dwarffortress', 111), ('gamedev', 111), ('LadyBoners', 110), ('zelda', 110), ('drunk', 109), ('ireland', 109), ('Python', 108), ('exmormon', 108), ('ukpolitics', 107), ('japan', 107), ('economy', 106), ('4chan', 104), ('Atlanta', 104), ('vancouver', 101), ('r4r', 101), ('cigars', 100), ('happy', 100), ('dogs', 99), ('washingtondc', 98), ('EarthPorn', 97), ('montreal', 97), ('psychology', 96), ('pokemontrades', 96), ('gamecollecting', 96), ('playitforward', 95), ('treecomics', 95), ('Ubuntu', 95), ('ronpaul', 95), ('lost', 93), ('Buddhism', 93), ('vegan', 92), ('depression', 92), ('poker', 91), ('Bitcoin', 90), ('Pets', 89), ('xbox360', 88), ('twincitiessocial', 88), ('AmISexy', 87), ('3DS', 86), ('Warhammer', 85), ('obama', 85), ('mexico', 85), ('zombies', 85), ('law', 83), ('london', 83), ('television', 82), ('Bad_Cop_No_Donut', 81), ('actuallesbians', 81), ('collapse', 81), ('Physics', 81), ('shutupandtakemymoney', 81), ('investing', 81), ('cogsci', 80), ('photocritique', 80), ('ottawa', 80), ('StarWars', 80), ('thewalkingdead', 79), ('engineering', 79), ('runescape', 78), ('MW2', 77), ('needadvice', 77), ('YouShouldKnow', 76), ('climbing', 76), ('GuessTheMovie', 76), ('Terraria', 76), ('Denver', 75), ('personalfinance', 75), ('woahdude', 75), ('software', 75), ('Conservative', 74), ('mcservers', 73), ('houston', 73), ('applehelp', 73), ('GetMotivated', 72), ('Assistance', 72), ('jobs', 72), ('longboarding', 71), ('gardening', 70), ('microgrowery', 69), ('announcements', 68), ('redditoroftheday', 68), ('snowboarding', 68), ('asktransgender', 68), ('FoodPorn', 67), ('OneY', 67), ('battlestations', 67), ('feminisms', 67), ('sandiego', 66), ('socialism', 65), ('WebGames', 65), ('aviation', 65), ('halo', 64), ('IWantToLearn', 64), ('ipad', 64), ('Dallas', 63), ('Dexter', 63), ('boardgames', 62), ('tf2items', 62), ('rit', 62), ('BDSMcommunity', 62), ('DJs', 62), ('TheoryOfReddit', 61), ('evedreddit', 61), ('RedditLaqueristas', 60), ('Documentaries', 60), ('GameDeals', 60), ('Paleo', 60), ('stopsmoking', 60), ('Equality', 59), ('DAE', 59), ('brisbane', 59), ('Psychonaut', 58), ('dating_advice', 57), ('Fantasy', 57), ('teenagers', 57), ('education', 56), ('sanfrancisco', 56), ('TheSimpsons', 56), ('religion', 56), ('google', 55), ('MTB', 55), ('sydney', 55), ('talesfromtechsupport', 55), ('radiohead', 54), ('Boobies', 54), ('LifeProTips', 54), ('trance', 53), ('AMA', 53), ('biology', 53), ('mac', 53), ('skateboarding', 53), ('Rift', 53), ('confession', 52), ('pittsburgh', 52), ('googleplus', 51), ('redditguild', 51), ('wicked_edge', 51), ('DebateAnAtheist', 51), ('linguistics', 51), ('Anarcho_Capitalism', 51), ('FixedGearBicycle', 51), ('SteamGameSwap', 51), ('classicalmusic', 51), ('MakeupAddiction', 50), ('SF4', 50), ('picrequests', 49), ('golf', 49), ('masseffect', 49), ('progressive', 49), ('askseddit', 49), ('rugbyunion', 49), ('NoFap', 48), ('webdev', 48), ('Jokes', 48), ('PHP', 47), ('BabyBumps', 47), ('aiclass', 47), ('Astronomy', 47), ('saplings', 47), ('Bass', 47), ('women', 47), ('Gunners', 46), ('drums', 46), ('haskell', 46), ('gossip', 46), ('somethingimade', 46), ('MvC3', 46), ('RandomKindness', 46), ('europe', 45), ('UniversityofReddit', 45), ('kindle', 45), ('CampingandHiking', 45), ('electronics', 45), ('IWantOut', 45), ('Portal', 45), ('Watches', 45), ('UIUC', 44), ('meetup', 44), ('javascript', 44), ('ILiveIn', 44), ('Guildwars2', 44), ('ideasfortheadmins', 44), ('wallpapers', 44), ('trackers', 44), ('melbourne', 43), ('CHIBears', 43), ('compsci', 43), ('adventuretime', 43), ('sweden', 43), ('Coffee', 43), ('bjj', 42), ('Scotch', 42), ('90daysgoal', 42), ('furry', 42), ('discgolf', 41), ('bayarea', 41), ('IndieGaming', 41), ('prowrestling', 41), ('49ers', 40), ('punk', 40), ('chemistry', 40), ('OperationGrabAss', 40), ('newjersey', 40), ('Winnipeg', 40), ('Romania', 39), ('LiverpoolFC', 39), ('kpop', 39), ('freebies', 39), ('slashdiablo', 39), ('NetflixBestOf', 38), ('worstof', 38), ('cordcutters', 38), ('texas', 38), ('metanarchism', 38), ('transgender', 38), ('DnB', 37), ('daddit', 37), ('architecture', 37), ('weightroom', 37), ('homestuck', 37), ('Columbus', 36), ('recipes', 36), ('Fallout', 36), ('GearsOfWar', 36), ('civ', 36), ('horror', 36), ('catpictures', 35), ('Team_Awesome', 35), ('Cartalk', 35), ('eagles', 35), ('TopGear', 35), ('China', 35), ('knives', 34), ('madisonwi', 34), ('StLouis', 34), ('ColbertRally', 34), ('Enhancement', 34), ('LondonSocialClub', 34), ('ECE', 34), ('Bacon', 34), ('treesgonewild', 33), ('arresteddevelopment', 33), ('Mommit', 33), ('futurama', 32), ('CityPorn', 32), ('SteamTrade', 32), ('ifyoulikeblank', 32), ('ask', 32), ('audiophile', 32), ('UFOs', 32), ('WikiLeaks', 32), ('ass', 32), ('Rateme', 32), ('knitting', 31), ('Fishing', 31), ('design_critiques', 31), ('Filmmakers', 31), ('Calgary', 31), ('baltimore', 31), ('nostalgia', 31), ('phish', 31), ('linux4noobs', 31), ('googleplusinvites', 31), ('Steam', 30), ('Stargate', 30), ('climateskeptics', 30), ('firefly', 30), ('entwives', 30), ('CollegeBasketball', 30), ('whatsthisbug', 30), ('Playdate', 29), ('networking', 29), ('skiing', 29), ('lolcats', 29), ('martialarts', 29), ('BipolarReddit', 29), ('howto', 29), ('fifthworldproblems', 29), ('cincinnati', 29), ('help', 29), ('PhilosophyofScience', 29), ('Wordpress', 29), ('Entrepreneur', 29), ('exmuslim', 29), ('OnePiece', 29), ('snackexchange', 29), ('TrollXChromosomes', 28), ('AskWomen', 28), ('classicrage', 28), ('BreakUps', 28), ('Freethought', 28), ('Edmonton', 28), ('NewOrleans', 28), ('startups', 27), ('Cricket', 27), ('Feminism', 27), ('ads', 27), ('fashion', 27), ('offmychest', 27), ('spacedicks', 27), ('gatech', 27), ('windows', 27), ('ents', 27), ('linuxquestions', 27), ('Sacramento', 26), ('LegalTeens', 26), ('mcpublic', 26), ('booksuggestions', 26), ('orlando', 26), ('stopdrinking', 26), ('StandUpComedy', 26), ('HomeworkHelp', 26), ('polyamory', 26), ('yugioh', 26), ('sailing', 26), ('WeAreTheFilmMakers', 26), ('crossfit', 26), ('SaltLakeCity', 26), ('RealGirls', 26), ('ArcherFX', 26), ('orangecounty', 26), ('BuyItForLife', 25), ('video', 25), ('fnv', 25), ('firefox', 25), ('chess', 25), ('vegetarian', 25), ('custommagic', 25), ('batman', 25), ('de', 25), ('bisexual', 24), ('fffffffuuuuuuuuuuuud', 24), ('mylittleandysonic1', 24), ('xkcd', 24), ('Baking', 24), ('thick', 24), ('ragenovels', 24), ('airsoft', 24), ('LawSchool', 24), ('fringe', 24), ('forhire', 24), ('Catholicism', 24), ('beerporn', 24), ('PostCollapse', 24), ('AndroidQuestions', 24), ('statistics', 24), ('chrome', 23), ('Judaism', 23), ('Poetry', 23), ('firstimpression', 23), ('singapore', 23), ('dungeondefenders', 23), ('Michigan', 23), ('LongDistance', 23), ('progmetal', 23), ('korea', 23), ('wisconsin', 22), ('MachinePorn', 22), ('Naruto', 22), ('Foodforthought', 22), ('aves', 22), ('Meditation', 22), ('photoshop', 22), ('IDAP', 22), ('RUGC_Midwest', 22), ('ruby', 22), ('oklahoma', 22), ('cheatatmathhomework', 22), ('Charlotte', 22), ('SOPA', 22), ('ReviewThis', 21), ('gaybears', 21), ('wallpaper', 21), ('medicine', 21), ('surfing', 21), ('arduino', 21), ('BarefootRunning', 21), ('NSFW_GIF', 21), ('manga', 21), ('archlinux', 21), ('beards', 21), ('finance', 21), ('HumanPorn', 21), ('printSF', 21), ('Deusex', 21), ('Pottermore', 21), ('roguelikes', 21), ('gamingpc', 21), ('sanantonio', 21), ('buildapcsales', 21), ('uwaterloo', 21), ('spaceporn', 21), ('androiddev', 21), ('xxfitness', 21), ('NewToTF2', 21), ('lego', 21), ('ps3bf3', 21), ('cannabis', 21), ('P90X', 21), ('til', 20), ('Jazz', 20), ('AskEngineers', 20), ('windowshots', 20), ('JRPG', 20), ('starcraft2_class', 20), ('opensource', 20), ('learnmath', 20), ('forza', 20), ('GreenBayPackers', 20), ('vim', 20), ('Miami', 20), ('webcomics', 20), ('Paranormal', 20), ('literature', 20), ('tea', 20), ('Accounting', 19), ('Hawaii', 19), ('Republican', 19), ('fsu', 19), ('perth', 19), ('futurebeats', 19), ('RedditThroughHistory', 19), ('torrents', 19), ('Aquariums', 19), ('TrueBlood', 19), ('hookah', 19), ('Boxing', 19), ('electrohouse', 19), ('cyberlaws', 19), ('audioengineering', 19), ('PennStateUniversity', 19), ('UTAustin', 19), ('unt', 19), ('berkeley', 19), ('EngineeringStudents', 19), ('gaymersgonewild', 19), ('crochet', 19), ('realdubstep', 19), ('Connecticut', 19), ('Cleveland', 19), ('Denmark', 18), ('TheLastAirbender', 18), ('gamemusic', 18), ('MapPorn', 18), ('Maine', 18), ('germany', 18), ('Louisville', 18), ('pcgaming', 18), ('GrandTheftAutoV', 18), ('halifax', 18), ('ForeverAloneDating', 18), ('ultimate', 18), ('dvdcollection', 18), ('starcraft2', 18), ('electronic_cigarette', 18), ('triangle', 18), ('24hoursupport', 18), ('MCNSA', 18), ('ginger', 18), ('operabrowser', 17), ('RandomActsOfChristmas', 17), ('perl', 17), ('penis', 17), ('auto', 17), ('LearnJapanese', 17), ('woodworking', 17), ('malehairadvice', 17), ('BMW', 17), ('ClopClop', 17), ('jailbreak', 17), ('911truth', 17), ('TechNewsToday', 17), ('aggies', 17), ('mflb', 17), ('GNV', 17), ('rva', 17), ('bodybuilding', 16), ('DepthHub', 16), ('languagelearning', 16), ('wp7', 16), ('oblivion', 16), ('indianapolis', 16), ('sharedota2', 16), ('Barca', 16), ('fantasybaseball', 16), ('piano', 16), ('ffxiv', 16), ('C25K', 16), ('HardcoreSMP', 16), ('Hunting', 16), ('kansascity', 16), ('milwaukee', 16), ('netflix', 16), ('shittyaskscience', 15), ('florida', 15), ('femalefashionadvice', 15), ('ancientworldproblems', 15), ('Quebec', 15), ('AnythingGoesNews', 15), ('vegas', 15), ('redditrequest', 15), ('quotes', 15), ('PostHardcore', 15), ('BritishTV', 15), ('webdesign', 15), ('VictoriaBC', 15), ('VirginiaTech', 15), ('france', 15), ('corgi', 15), ('HIMYM', 15), ('edmproduction', 15), ('BurningMan', 15), ('Celebs', 15), ('GT5', 15), ('Swimming', 14), ('scooters', 14), ('amateurradio', 14), ('Tgirls', 14), ('nursing', 14), ('AskFeminists', 14), ('RealEstate', 14), ('java', 14), ('Nootropics', 14), ('Graffiti', 14), ('AdvancedFitness', 14), ('assassinscreed', 14), ('geology', 14), ('Boise', 14), ('chelseafc', 14), ('boulder', 14), ('UCSD', 14), ('MMFB', 14), ('Screenwriting', 14), ('diabetes', 14), ('Maplestory', 14), ('AskSocialScience', 14), ('Philippines', 14), ('howardstern', 14), ('nova', 14), ('CCW', 13), ('leafs', 13), ('computers', 13), ('BostonBruins', 13), ('EnoughPaulSpam', 13), ('asmr', 13), ('argentina', 13), ('subaru', 13), ('uktrees', 13), ('Purdue', 13), ('Detroit', 13), ('Jeep', 13), ('wine', 13), ('GuildWars', 13), ('botcirclejerk', 13), ('microsoft', 13), ('doodleordie', 13), ('darknetplan', 13), ('KarmaStarcraft', 13), ('gamingnews', 13), ('tampa', 13), ('LucidDreaming', 13), ('MLPLounge', 13), ('BarCraft', 13), ('FIFA12', 13), ('RPI', 13), ('glee', 13), ('southpark', 13), ('AlienBlue', 13), ('SEO', 13), ('ps3bc2', 12), ('gue', 12), ('cosplay', 12), ('TheHub', 12), ('treemusic', 12), ('rutgers', 12), ('AlbumArtPorn', 12), ('ravens', 12), ('LGBTrees', 12), ('lisp', 12), ('exjw', 12), ('asheville', 12), ('scuba', 12), ('RomeSweetRome', 12), ('nature', 12), ('weddingplanning', 12), ('ihaveissues', 12), ('Omaha', 12), ('Lubbock', 12), ('Adelaide', 12), ('masculism', 12), ('IASIP', 12), ('mashups', 12), ('patientgamers', 12), ('WhiteRights', 12), ('SFGiants', 12), ('PornOverlords', 12), ('UMD', 12), ('glutenfree', 12), ('Inglip', 12), ('Rabbits', 12), ('SubredditDrama', 12), ('alternativeart', 12), ('Scotland', 12), ('RATS', 12), ('bestof2010', 12), ('canucks', 12), ('disney', 11), ('UTSA', 11), ('Slender_Man', 11), ('nutrition', 11), ('ucla', 11), ('NEU', 11), ('buffy', 11), ('nanowrimo', 11), ('Hamilton', 11), ('rpg_gamers', 11), ('londonontario', 11), ('AskAcademia', 11), ('Dogfort', 11), ('nintendo', 11), ('Velo', 11), ('nugs', 11), ('lostgeneration', 11), ('modnews', 11), ('footballmanagergames', 11), ('baconreader', 11), ('Deepconnection', 11), ('Gore', 11), ('ADD', 11), ('randomsexiness', 11), ('UofT', 11), ('Rochester', 11), ('milf', 11), ('coys', 11), ('brink', 11), ('moviecritic', 11), ('nuzlocke', 11), ('berlin', 11), ('UCDavis', 11), ('newreddits', 11), ('BSG', 11), ('Braves', 11), ('intj', 11), ('eatsandwiches', 10), ('modhelp', 10), ('French', 10), ('TheAgora', 10), ('250r', 10), ('computing', 10), ('chiptunes', 10), ('Ska', 10), ('EFLcomics', 10), ('leangains', 10), ('italy', 10), ('Supplements', 10), ('SketchDaily', 10), ('musictheory', 10), ('phillies', 10), ('AskElectronics', 10), ('LGBTGoneWild', 10), ('DesktopDetective', 10), ('christmashunt', 10), ('Lovecraft', 10), ('Sexy', 10), ('poppunkers', 10), ('futuregarage', 10), ('FTH', 10), ('EA_NHL', 10), ('americanpirateparty', 10), ('coding', 10), ('LSD', 10), ('paintball', 10), ('socialmedia', 10), ('pilots', 10), ('SuggestALaptop', 10), ('portugal', 10), ('youtube', 10), ('stencils', 10), ('hugeboobs', 10), ('malaysia', 10), ('pic', 10), ('EmmaWatson', 10), ('redheads', 10), ('scientology', 10), ('government', 10), ('MachineLearning', 10), ('wii', 10), ('Norway', 10), ('Magic', 10), ('TheFacebookDelusion', 10), ('Cyberpunk', 10), ('bleach', 10), ('steamdeals', 10), ('pakistan', 10), ('cycling', 10), ('typography', 10), ('westtoo', 10), ('PrettyGirls', 10), ('California', 10), ('Archaeology', 9), ('england', 9), ('AsianHotties', 9), ('apathy', 9), ('Eugene', 9), ('pokemonrp', 9), ('Tribes', 9), ('BeardPorn', 9), ('buffalobills', 9), ('demonssouls', 9), ('AbandonedPorn', 9), ('soccergaming', 9), ('RDDT', 9), ('lookatmydog', 9), ('resumes', 9), ('troubledteens', 9), ('totalwar', 9), ('truetf2', 9), ('RepublicOfReddit', 9), ('RedditBrigade', 9), ('Chattanooga', 9), ('DunderMifflin', 9), ('paris', 9), ('bmx', 9), ('TMBR', 9), ('progresspics', 9), ('yoga', 9), ('phoenix', 9), ('relationshipadvice', 9), ('Rowing', 9), ('minecraftseeds', 9), ('closetswap', 9), ('survivorzero', 9), ('gif', 9), ('hackintosh', 9), ('beatles', 9), ('Sonsofanarchy', 9), ('redstone', 9), ('Morrowind', 9), ('rant', 9), ('AcademicPhilosophy', 9), ('SanJoseSharks', 9), ('Arkansas', 9), ('mycology', 9), ('asustransformer', 9), ('graphic_design', 9), ('WritersGroup', 9), ('Pieces', 9), ('camwhores', 9), ('Tucson', 9), ('Patriots', 9), ('LeagueofLegendsMeta', 9), ('birdpics', 9), ('panthers', 9), ('django', 9), ('ems', 9), ('teaching', 9), ('northernireland', 9), ('Amateur', 9), ('triathlon', 9), ('HongKong', 9), ('LadyBashing', 9), ('penpals', 9), ('ggggg', 8), ('whatsthisworth', 8), ('rule34', 8), ('marketing', 8), ('csshelp', 8), ('nsfw_gifs', 8), ('UGA', 8), ('HistoryPorn', 8), ('carlhprogramming', 8), ('guitarlessons', 8), ('cpp', 8), ('alcohol', 8), ('proper', 8), ('animation', 8), ('Project420', 8), ('yankees', 8), ('Palestine', 8), ('memphis', 8), ('KerbalSpaceProgram', 8), ('DOTA', 8), ('InteriorDesign', 8), ('HuntsvilleAlabama', 8), ('worldevents', 8), ('es', 8), ('bodymods', 8), ('FancyFollicles', 8), ('Iowa', 8), ('rollerderby', 8), ('relationship_tips', 8), ('dragonage', 8), ('nin', 8), ('museum', 8), ('aaaaaatheismmmmmmmmmm', 8), ('GuessMyFirstName', 8), ('AskMen', 8), ('QuakeLive', 8), ('TexasRangers', 8), ('medicalschool', 8), ('NASCAR', 8), ('arizona', 8), ('confessions', 8), ('Borderlands', 8), ('crossdressing', 8), ('Rainmeter', 8), ('JapaneseFood', 8), ('AmericanHorrorStory', 8), ('AnnArbor', 8), ('WoT', 8), ('santacruz', 8), ('hiking', 8), ('beertrade', 8), ('Green', 8), ('craftit', 8), ('audio', 8), ('Thailand', 8), ('minnesotavikings', 8), ('conspiratard', 8), ('moderatepolitics', 8), ('OSU', 8), ('hardbodies', 8), ('vertical', 8), ('Scholar', 8), ('postrock', 8), ('ArtCrit', 8), ('nashville', 8), ('PipeTobacco', 8), ('waterloo', 8), ('editors', 8), ('ladybonersgw', 8), ('robotics', 8), ('tennis', 8), ('uofmn', 8), ('minnesotatwins', 8), ('russia', 8), ('osx', 8), ('BodyAcceptance', 8), ('Transhuman', 8), ('basement', 8), ('esports', 8), ('cableporn', 8), ('Buffalo', 8), ('gonewildstories', 8), ('SomebodyMakeThis', 8), ('Objectivism', 7), ('minnesota', 7), ('veg', 7), ('breastfeeding', 7), ('beermoney', 7), ('WomenOfColor', 7), ('entgaming', 7), ('movieclub', 7), ('caps', 7), ('Dreams', 7), ('Cascadia', 7), ('spiral_knights', 7), ('Louisiana', 7), ('sabres', 7), ('venturacounty', 7), ('UCONN', 7), ('metarage', 7), ('RUG_Leeds', 7), ('ADHD', 7), ('againstmensrights', 7), ('homestead', 7), ('Learnmusic', 7), ('letsplay', 7), ('bakedart', 7), ('Frisson', 7), ('belgium', 7), ('Chargers', 7), ('WorldofTanks', 7), ('kde', 7), ('rapecounseling', 7), ('tf2au', 7), ('synthesizers', 7), ('evolution', 7), ('harrypotheads', 7), ('coversongs', 7), ('malelifestyle', 7), ('Colorado', 7), ('Drexel', 7), ('test', 7), ('TheWire', 7), ('Twitter', 7), ('metacirclejerk', 7), ('Bondage', 7), ('tolkienfans', 7), ('Dogtraining', 7), ('ar15', 7), ('Battlefield', 7), ('UCSantaBarbara', 7), ('Entomology', 7), ('Anxiety', 7), ('STD', 7), ('Anthropology', 7), ('voluptuous', 7), ('videography', 7), ('opendirectories', 7), ('Northwestern', 7), ('androidapps', 7), ('gentlemanboners', 7), ('shamelessplug', 7), ('SelfSufficiency', 7), ('Huskers', 7), ('skyrimmods', 7), ('starcraft_strategy', 7), ('mylittlefanfic', 7), ('TransphobiaProject', 7), ('Albuquerque', 7), ('zen', 7), ('Permaculture', 7), ('RenewableEnergy', 7), ('fitmeals', 7), ('DnD', 7), ('gratefuldead', 7), ('femmit', 7), ('tulsa', 7), ('Cardinals', 7), ('alaska', 7), ('chile', 7), ('ffxi', 7), ('ToolBand', 7), ('BooksAMA', 7), ('redorchestra', 7), ('TrueFilm', 7), ('Supernatural', 7), ('AceOfSpades', 7), ('pornvids', 6), ('tf2replays', 6), ('BTFC', 6), ('herpetology', 6), ('fantasyfb', 6), ('astoria', 6), ('Warmachine', 6), ('ukulele', 6), ('wedding', 6), ('taiwan', 6), ('CrappyDesign', 6), ('longisland', 6), ('learnart', 6), ('picturesofiansleeping', 6), ('Pensacola', 6), ('androidthemes', 6), ('lampwork', 6), ('rugc_greatlakes', 6), ('MapleLinks', 6), ('geocaching', 6), ('matlab', 6), ('nerdfighters', 6), ('cmu', 6), ('reddithax', 6), ('AdrenalinePorn', 6), ('AskUsers', 6), ('Switzerland', 6), ('PandR', 6), ('Pitt', 6), ('nookcolor', 6), ('PropagandaPosters', 6), ('TheDarkTower', 6), ('capstone', 6), ('norfolk', 6), ('greece', 6), ('stonerrock', 6), ('childfree', 6), ('lotro', 6), ('saskatoon', 6), ('finddit', 6), ('msu', 6), ('bestofthefray', 6), ('pkmntcg', 6), ('batonrouge', 6), ('tonightsdinner', 6), ('burlington', 6), ('redditgw', 6), ('GlobalOffensive', 6), ('Animals', 6), ('GaymersGoneMild', 6), ('MinecraftWars', 6), ('reddeadredemption', 6), ('ReverseEngineering', 6), ('artstore', 6), ('Pareidolia', 6), ('freemasonry', 6), ('Ohio', 6), ('day9', 6), ('SciFiScroll', 6), ('mountandblade', 6), ('ASU', 6), ('MoviePosterPorn', 6), ('iran', 6), ('manchester', 6), ('rocksmith', 6), ('gainit', 6), ('FortCollins', 6), ('transformice', 6), ('reddevils', 6), ('QuotesPorn', 6), ('Iceland', 6), ('Tacoma', 6), ('SRSBusiness', 6), ('Catacombs', 6), ('udub', 6), ('bicycletouring', 6), ('minimalism', 6), ('Galaxy_S', 6), ('dayton', 6), ('NarFFL', 6), ('AnimalPorn', 6), ('Flyers', 6), ('mylittlefortress', 6), ('metalmusicians', 6), ('Proofreading', 6), ('blender', 6), ('Urbandead', 6), ('Torontoevents', 6), ('ProjectEnrichment', 6), ('emacs', 6), ('homebrew', 6), ('ProjectCairo', 6), ('agnosticism', 6), ('FL_Studio', 6), ('NYGiants', 6), ('rally', 6), ('waterporn', 6), ('GoneWildCD', 6), ('UWMadison', 6), ('IowaCity', 6), ('experimentalmusic', 6), ('blackberry', 6), ('highseddit', 6), ('new_right', 6), ('Virginia', 6), ('BDSMGW', 6), ('Scrubs', 6), ('crafts', 5), ('malemodels', 5), ('thesims', 5), ('GalaxyNexus', 5), ('computergraphics', 5), ('spicy', 5), ('askmeaboutmyjob', 5), ('newhampshire', 5), ('glassheads', 5), ('lists', 5), ('features', 5), ('coestar', 5), ('Rolla', 5), ('Torontobluejays', 5), ('groovesharkplaylists', 5), ('Pictures', 5), ('bengals', 5), ('ilstu', 5), ('ipv6', 5), ('blues', 5), ('dirtypenpals', 5), ('FortWorth', 5), ('BoardwalkEmpire', 5), ('TellMeSomethingGood', 5), ('Albany', 5), ('redditisland', 5), ('dogpictures', 5), ('Lawrence', 5), ('it', 5), ('SLO', 5), ('ChineseLanguage', 5), ('lotr', 5), ('Wellington', 5), ('porn', 5), ('fantasyhockey', 5), ('linuxadmin', 5), ('oregon', 5), ('ScamWatch', 5), ('infiniteapples', 5), ('OFWGKTA', 5), ('tipofmypenis', 5), ('GirlGamers', 5), ('BayAreaSeddit', 5), ('Piracy', 5), ('Pandemic', 5), ('TournamentOfMemes', 5), ('bugs', 5), ('CalPoly', 5), ('UBreddit', 5), ('neuro', 5), ('grandrapids', 5), ('MilitaryPorn', 5), ('Suomi', 5), ('ProjectAwesome', 5), ('athensohio', 5), ('wave', 5), ('limbojerk', 5), ('alltheleft', 5), ('hardwareswap', 5), ('f7u12', 5), ('lgbtsex', 5), ('vmware', 5), ('devils', 5), ('aberoth', 5), ('Idliketobeatree', 5), ('lockpicking', 5), ('NSFW_nospam', 5), ('HoustonSocials', 5), ('Polska', 5), ('cylonsstolemybaby', 5), ('Waco', 5), ('postprocessing', 5), ('transformers', 5), ('craigslist', 5), ('overpopulation', 5), ('seinfeld', 5), ('WKU', 5), ('Parkour', 5), ('Brooklyn', 5), ('Policy2011', 5), ('UnsentLetters', 5), ('moped', 5), ('Egalitarianism', 5), ('centralpa', 5), ('santacruzlocals', 5), ('piercing', 5), ('lectures', 5), ('SomethingNew', 5), ('hawks', 5), ('MST3K', 5), ('INTP', 5), ('democrats', 5), ('Anticonsumption', 5), ('Bluegrass', 5), ('grunge', 5), ('HealthProject', 5), ('AnarchistNews', 5), ('Temple', 5), ('utdallas', 5), ('AskHistorians', 5), ('Gunpla', 5), ('oxford', 5), ('backpacking', 5), ('CR48', 5), ('UniversityOfHouston', 5), ('Techno', 5), ('SanJose', 5), ('reggae', 5), ('codboPM', 5), ('StarcraftFeedback', 5), ('GradSchool', 5), ('whichbike', 5), ('malegrooming', 5), ('rdtclan', 5), ('softscience', 5), ('bikesgonewild', 5), ('introvert', 5), ('grammar', 5), ('stocks', 5), ('santarosa', 5), ('pokemonleague', 5), ('MinecraftInventions', 5), ('NewYorkMets', 5), ('redditdefiants', 5), ('AmericanPolitics', 5), ('filmmaking', 5), ('Food_Pantry', 5), ('usa', 5), ('Knoxville', 5), ('highschool', 5), ('ProjectReddit', 5), ('shareastory', 5), ('frugalmalefashion', 5), ('HIFW', 5), ('detroitlions', 5), ('latin', 5), ('classicfilms', 5), ('Theatre', 5), ('sportsbook', 5), ('pathofexile', 5), ('festivals', 4), ('freelance', 4), ('PlacetoStay', 4), ('atheist', 4), ('PHXMeetup', 4), ('NewcastleUponTyne', 4), ('House', 4), ('spaceflight', 4), ('DragonNest', 4), ('treecipes', 4), ('sewing', 4), ('SBU', 4), ('EmoScreamo', 4), ('spacechem', 4), ('advertising', 4), ('APB', 4), ('LaTeX', 4), ('Horses', 4), ('Clemson', 4), ('macgaming', 4), ('Wasteland', 4), ('indonesia', 4), ('NonAustrianEconomics', 4), ('crosswords', 4), ('entourage', 4), ('drupal', 4), ('radiocontrol', 4), ('KSU', 4), ('nyjets', 4), ('GeekPorn', 4), ('browsers', 4), ('financialindependence', 4), ('helpit', 4), ('bartenders', 4), ('Songwriters', 4), ('abletonlive', 4), ('Nationals', 4), ('EDC', 4), ('govcon', 4), ('ineedafavor', 4), ('StonerEngineering', 4), ('NexusOne', 4), ('ICanDrawThat', 4), ('Hammocks', 4), ('Inception', 4), ('OrthodoxChristianity', 4), ('Pizza', 4), ('violinist', 4), ('HIPSTERGURLZ', 4), ('prop19', 4), ('bloodlinechampions', 4), ('spiders', 4), ('UofArizona', 4), ('PowerMetal', 4), ('farscape', 4), ('eu3', 4), ('subredditoftheday', 4), ('BitcoinMining', 4), ('SonicTheHedgehog', 4), ('TheHobbit', 4), ('FuckThis', 4), ('baduk', 4), ('vexillology', 4), ('reasoners', 4), ('sociology', 4), ('crypto', 4), ('AnimalRights', 4), ('happygirls', 4), ('MINI', 4), ('DestructionPorn', 4), ('bigbangtheory', 4), ('mtred', 4), ('camping', 4), ('SRSDiscussion', 4), ('DeepSpaceNine', 4), ('Redskins', 4), ('csuf', 4), ('uofm', 4), ('Luthier', 4), ('Bellingham', 4), ('Transmogrification', 4), ('Metroid', 4), ('AnythingGoesUltimate', 4), ('southafrica', 4), ('realmadrid', 4), ('alien_swarm', 4), ('ThisIsOurMusic', 4), ('PHPhelp', 4), ('shanghai', 4), ('windsorontario', 4), ('MeetLGBT', 4), ('FAU', 4), ('Turkey', 4), ('TeamRedditTeams', 4), ('SkyrimHelp', 4), ('racism', 4), ('alcoholism', 4), ('tech', 4), ('IPY', 4), ('nextdoorasians', 4), ('learnpython', 4), ('terranova', 4), ('freeculture', 4), ('EndlessWar', 4), ('gleany', 4), ('CFL', 4), ('singing', 4), ('ForeignMovies', 4), ('Indiana', 4), ('smashbros', 4), ('makinghiphop', 4), ('SexPositive', 4), ('Pottery', 4), ('KansasCityChiefs', 4), ('2XLookbook', 4), ('gangsnstuff', 4), ('halloween', 4), ('grime', 4), ('cowboys', 4), ('Hungergames', 4), ('shittingadvice', 4), ('IndianaUniversity', 4), ('greed', 4), ('jacksonville', 4), ('happyhardcore', 4), ('tattoo', 4), ('GonewildRequest', 4), ('irc', 4), ('realasians', 4), ('firstgradeproblems', 4), ('ucf', 4), ('treemovies', 4), ('MovieSuggestions', 4), ('fibro', 4), ('treepunchers', 4), ('misc', 4), ('StanleyKubrick', 4), ('Serendipity', 4), ('LSU', 4), ('MDMA', 4), ('TEFL', 4), ('Brewers', 4), ('rape', 4), ('ComputerSecurity', 4), ('bloomington', 4), ('TwinCities', 4), ('bdsm', 4), ('legaladvice', 4), ('RandomActsOfGaming', 4), ('UniSeddit', 4), ('kettlebell', 4), ('Jaguars', 4), ('bachelor_chow', 4), ('SummerGlau', 4), ('dbz', 4), ('PoliticalHumor', 4), ('Nerf', 4), ('industrialmusic', 4), ('mizzou', 4), ('reloading', 4), ('LoLCodeTrade', 4), ('l4d2', 4), ('donaldglover', 4), ('opiates', 4), ('RedditCarpool', 4), ('opengl', 4), ('touhou', 4), ('hacking', 4), ('facebook', 4), ('violentacrez', 4), ('Reno', 4), ('LV426', 4), ('steelers', 4), ('SecurityAnalysis', 4), ('shiba', 4), ('Etab', 4), ('northdakota', 4), ('NNNNNNNEEEEEEEEEEEEWS', 4), ('cambridge_uni', 4), ('whedon', 4), ('RedditPost', 4), ('weightlifting', 4), ('theredditor', 4), ('Miata', 4), ('appstate', 4), ('venturebros', 4), ('nethack', 4), ('NorthCarolina', 4), ('privacy', 4), ('AnimeSketch', 4), ('photoit', 4), ('fossworldproblems', 4), ('AFL', 4), ('LosAngelesSeddit', 4), ('linux_gaming', 4), ('BotanicalPorn', 4), ('PlaydateEU', 4), ('ReligionInAmerica', 3), ('30ROCK', 3), ('BinghamtonUniversity', 3), ('redditdev', 3), ('BigBrother13', 3), ('Fitocracy', 3), ('StopSelfHarm', 3), ('whalebait', 3), ('lfg', 3), ('eyes', 3), ('MLPdrawingschool', 3), ('treedibles', 3), ('digg', 3), ('SkyDiving', 3), ('providence', 3), ('ThankYou', 3), ('tourdefrance', 3), ('BBQers', 3), ('environmental_science', 3), ('gggg', 3), ('hentai', 3), ('misfitstv', 3), ('trailerparkboys', 3), ('DetroitRedWings', 3), ('hardstyle', 3), ('pobweekend', 3), ('tldr', 3), ('Occupy', 3), ('Hooping', 3), ('ImGoingToHellForThis', 3), ('neopets', 3), ('ontario', 3), ('Audi', 3), ('dcuonline', 3), ('raleigh', 3), ('ludology', 3), ('RedditToTheFuture', 3), ('Thetruthishere', 3), ('GameOffers', 3), ('TrueAskReddit', 3), ('rangers', 3), ('Bakersfield', 3), ('askaway', 3), ('Austria', 3), ('neopagan', 3), ('nonprofit', 3), ('naturepics', 3), ('GameswapUK', 3), ('AlmostRelevant', 3), ('PORLAPUTA', 3), ('InsightfulQuestions', 3), ('duluth', 3), ('bookexchange', 3), ('GirlswithGlasses', 3), ('chicagobulls', 3), ('columbiamo', 3), ('cocktails', 3), ('VideoEditing', 3), ('Zune', 3), ('bikewrench', 3), ('cute', 3), ('FantasyPL', 3), ('BigotryShowcase', 3), ('RUGC', 3), ('DebateaCommunist', 3), ('fishtank', 3), ('IAmAFiction', 3), ('gangstuff', 3), ('ColoradoSprings', 3), ('computertechs', 3), ('QualityPhotos', 3), ('bostontrees', 3), ('Survivalist', 3), ('culture', 3), ('beadsprites', 3), ('vermont', 3), ('ChronicPain', 3), ('Archery', 3), ('Entroductions', 3), ('BlackAtheism', 3), ('psytrance', 3), ('LANL_German', 3), ('toys', 3), ('neoprogs', 3), ('spotify', 3), ('slackerrecipes', 3), ('japanlife', 3), ('smallbusiness', 3), ('ru', 3), ('joel', 3), ('thirdworldproblems', 3), ('askamerica', 3), ('droid', 3), ('seattlents', 3), ('Trichsters', 3), ('metalgearsolid', 3), ('DealsReddit', 3), ('StateOfTheUnion', 3), ('Cuckold', 3), ('judo', 3), ('Drifting', 3), ('RedditDayOf', 3), ('Eragon', 3), ('Seahawks', 3), ('fasting', 3), ('whatisthisthing', 3), ('saudiarabia', 3), ('RepublicOfPolitics', 3), ('pinkfloyd', 3), ('MAME', 3), ('SpecArt', 3), ('chuck', 3), ('DallasMeetups', 3), ('alpinism', 3), ('duke', 3), ('InfrastructurePorn', 3), ('serialkillers', 3), ('canes', 3), ('magicgathering', 3), ('askphilosophy', 3), ('Reformed', 3), ('mylittlecirclejerk', 3), ('Blowjobs', 3), ('gaygeek', 3), ('redditrepublic', 3), ('HackBloc', 3), ('championball', 3), ('maryland', 3), ('AdPorn', 3), ('RoomPorn', 3), ('n900', 3), ('Marquette', 3), ('Pokeents', 3), ('lakers', 3), ('DenverBroncos', 3), ('steampunk', 3), ('basslessons', 3), ('LetsTalkMusic', 3), ('DYR', 3), ('redditcon', 3), ('foreskin', 3), ('redditatwork', 3), ('Metalcore', 3), ('lightshow', 3), ('ocaml', 3), ('popping', 3), ('AquariumFish', 3), ('FIlm', 3), ('norge', 3), ('Tokyo', 3), ('UWMilwaukee', 3), ('Amsterdam', 3), ('OpenChristian', 3), ('incest', 3), ('proghouse', 3), ('babylon5', 3), ('listentous', 3), ('futurefunkairlines', 3), ('radioreddit', 3), ('redditmusicclub', 3), ('gmu', 3), ('mcpubliccirclejerk', 3), ('Cornell', 3), ('houstonents', 3), ('tf2west', 3), ('hiphop', 3), ('GameRanks', 3), ('ImaginaryMonsters', 3), ('metamoderatorjerk', 3), ('Youngluck', 3), ('GiveMe40Days', 3), ('southcarolina', 3), ('itellall', 3), ('progrockmusic', 3), ('godmode', 3), ('dating', 3), ('summercamphunt', 3), ('redditlogos', 3), ('REDDITEXCHANGE', 3), ('PictureChallenge', 3), ('LastNight', 3), ('MobileAL', 3), ('kickassday', 3), ('duckduckgo', 3), ('OccupyBoston', 3), ('killzone', 3), ('SOS', 3), ('Birmingham', 3), ('Pokemoncollege', 3), ('Quakecon', 3), ('pinball', 3), ('gloveslap', 3), ('Cheap_Meals', 3), ('aprilfools2011', 3), ('flying', 3), ('christmas', 3), ('Photocollectionblog', 3), ('AskMe', 3), ('Volkswagen', 3), ('drawing', 3), ('headphones', 3), ('Chefit', 3), ('coupons', 3), ('nerdlass', 3), ('nyu', 3), ('losangeleskings', 3), ('logo', 3), ('VolleyballGirls', 3), ('Magicdeckbuilding', 3), ('jmu', 3), ('barista', 3), ('Vocaloid', 3), ('pornfree', 3), ('MAZA', 3), ('tumblr', 3), ('ragetoons', 3), ('northkorea', 3), ('CommonLaw', 3), ('kelowna', 3), ('sportslogos', 3), ('IIT', 3), ('KingOfTheHill', 3), ('FinancialPlanning', 3), ('Brazil', 3), ('Delaware', 3), ('photoclass', 3), ('NotSafeForNature', 3), ('football', 3), ('OCD', 3), ('CallOfDuty', 3), ('trapmuzik', 3), ('TimAndEric', 3), ('southpaws', 3), ('survivor', 3), ('BitMarket', 3), ('StonerPhilosophy', 3), ('legal', 3), ('liquor', 3), ('Database', 3), ('hungary', 3), ('conan', 3), ('oakland', 3), ('blogs', 3), ('Punny', 3), ('NIU', 3), ('omegle', 3), ('banjo', 3), ('Liberal', 3), ('chicagotrees', 3), ('Browns', 3), ('productivity', 3), ('food2', 3), ('HighHeels', 3), ('bostoncollege', 3), ('VillagePorn', 3), ('Pegging', 3), ('Planetside', 3), ('science2', 3), ('Charleston', 3), ('timbers', 3), ('Hotchickswithtattoos', 3), ('ABDL', 3), ('RageOps', 3), ('amishsmp', 3), ('Survival', 3), ('Bonsai', 3), ('p90', 3), ('cscareerquestions', 3), ('austrian_economics', 3), ('metametacirclejerk', 3), ('bestoftribunal', 3), ('linux_devices', 3), ('gotminecraft', 3), ('airmc', 3), ('MideastPeace', 3), ('texttranscripts', 3), ('nsfwoutfits', 3), ('newfoundland', 3), ('ArtisanVideos', 3), ('doommetal', 3), ('edmontonsocialclub', 3), ('DesignPorn', 3), ('ferrets', 3), ('jhu', 3), ('Ijustwatched', 3), ('iastate', 3), ('cfs', 3), ('autism', 3), ('bourbon', 3), ('gnu', 3), ('Petloss', 3), ('Forts', 3), ('uAlberta', 3), ('Firefighting', 3), ('oooooooyyyyyyyyyyyy', 3), ('GenderEgalitarian', 3), ('spain', 3), ('RedditGameJam', 3), ('USF', 3), ('rainbowbar', 3), ('nsfw_wtf', 3), ('Norse', 3), ('love', 3), ('CrohnsDisease', 3), ('deadisland', 3), ('IndianBabes', 3), ('CemeteryPorn', 3), ('chemhelp', 3), ('biblestudy', 3), ('ps3homebrew', 3), ('askagirl', 3), ('IBD', 3), ('FapDeciders', 3), ('Spokane', 3), ('UofO', 3), ('egalitarian', 3), ('Boxer', 3), ('coins', 3), ('bookshelf', 3), ('Punkskahardcore', 3), ('karmaparty', 3), ('topwalls', 3), ('KitchenConfidential', 3), ('okcnoobs', 3), ('actuary', 3), ('TibiaMMO', 3), ('sustainability', 3), ('fresno', 3), ('redsox', 3), ('demsocialist', 3), ('excel', 3), ('Trackdays', 3), ('warehouse13', 3), ('wordplay', 3), ('savannah', 3), ('SJSU', 3), ('thestockmarket', 3), ('USC', 3), ('Pantyfetish', 3), ('sysor', 2), ('Standup', 2), ('Christian', 2), ('harmonica', 2), ('YouthRights', 2), ('christinahendricks', 2), ('enthouse', 2), ('Cypher', 2), ('Dredmor', 2), ('aspergers', 2), ('weather', 2), ('nerdia', 2), ('gtamarketplace', 2), ('Zappa', 2), ('slotrees', 2), ('sushi', 2), ('ripcity', 2), ('Catholic', 2), ('WWU', 2), ('oliviawilde', 2), ('cwru', 2), ('madmen', 2), ('alberta', 2), ('unmoderatedanarchism', 2), ('linuxmint', 2), ('freebietalk', 2), ('swinghouse', 2), ('minot', 2), ('chapelhill', 2), ('TextForSex', 2), ('benfica', 2), ('NerdLeagues', 2), ('Coldplay', 2), ('A858DE45F56D9BC9', 2), ('ja', 2), ('Chinese', 2), ('Diary', 2), ('mcgill', 2), ('Makeup', 2), ('DebateIt', 2), ('rap', 2), ('boltedontits', 2), ('Panama', 2), ('species', 2), ('breakcore', 2), ('Smyrna', 2), ('iosgaming', 2), ('IslamicStudies', 2), ('newbrunswickcanada', 2), ('RioGrandeValley', 2), ('Bikeporn', 2), ('dp_dr', 2), ('D2T', 2), ('youngatheists', 2), ('falcons', 2), ('gamereviews', 2), ('f1hotlap', 2), ('cumsluts', 2), ('cumfetish', 2), ('SceneGirls', 2), ('blackgirls', 2), ('DownloadThis', 2), ('RoCirclejerk', 2), ('BellaThorne', 2), ('torontoraptors', 2), ('sto', 2), ('folkmetal', 2), ('redditchan', 2), ('things', 2), ('MMJ', 2), ('hackers', 2), ('TheRedditProject', 2), ('AirForce', 2), ('electionreform', 2), ('OnceUponATime', 2), ('Gear4Sale', 2), ('GodlessWomen', 2), ('tarheels', 2), ('RowanUniversity', 2), ('NCSU', 2), ('gaynsfw', 2), ('PowerShell', 2), ('jgallant', 2), ('MRR', 2), ('JungleFever', 2), ('urt', 2), ('missouri', 2), ('mlclass', 2), ('freegames', 2), ('evilsithoverlords', 2), ('longbeach', 2), ('LasVegas', 2), ('ko', 2), ('morrissey', 2), ('ZenHabits', 2), ('ColoradoRockies', 2), ('MTGTournaments', 2), ('ruleastwokings', 2), ('AcademicPsychology', 2), ('maui', 2), ('Tulane', 2), ('russian', 2), ('turtle', 2), ('democracy', 2), ('wordcount', 2), ('KWBookClub', 2), ('bioinformatics', 2), ('ProbablyHittingOnYou', 2), ('Kiteboarding', 2), ('Umphreys', 2), ('MLPvectors', 2), ('menandwomen', 2), ('Outdoors', 2), ('gso', 2), ('bindingofisaac', 2), ('pirateradio', 2), ('Teachers', 2), ('arabic', 2), ('jwproblems', 2), ('SpivakStudyGroup', 2), ('stupidquestions', 2), ('meme', 2), ('worldbuilding', 2), ('REDDITORSINRECOVERY', 2), ('uwo', 2), ('getting_over_it', 2), ('HypotheticalReddit', 2), ('heady', 2), ('Redlands', 2), ('InlandEmpire', 2), ('sodypop', 2), ('rage', 2), ('ECEProfessionals', 2), ('FolkPunk', 2), ('Ornithology', 2), ('videogames', 2), ('Reprap', 2), ('calvinandhobbes', 2), ('dirtysmall', 2), ('longboardingGEAR', 2), ('summonerschool', 2), ('SaintsRow', 2), ('AncientGreek', 2), ('LibraryofBabel', 2), ('collegesluts', 2), ('foak', 2), ('craftexchange', 2), ('2012CFBOnlineDynasty', 2), ('ShinyPorn', 2), ('3cs', 2), ('bitch', 2), ('cade', 2), ('saab', 2), ('htpc', 2), ('treephilly', 2), ('Bowling', 2), ('TOMTcoldcase', 2), ('mixcd', 2), ('WriteDaily', 2), ('PSO', 2), ('missoula', 2), ('hometheater', 2), ('led_zeppelin', 2), ('bookporn', 2), ('Dentistry', 2), ('SeaList', 2), ('pitbulls', 2), ('scifi_bookclub', 2), ('vuvuzela', 2), ('nook', 2), ('beijing', 2), ('RapingWomen', 2), ('Jailbaitisforpervs', 2), ('Coachella', 2), ('meta', 2), ('chomsky', 2), ('musicians', 2), ('semanticweb', 2), ('emulation', 2), ('WVU', 2), ('Delinquents', 2), ('AskComputerScience', 2), ('fortlauderdale', 2), ('Tempe', 2), ('justvent', 2), ('RandomActsOfCookies', 2), ('Cheatmode', 2), ('canberra', 2), ('fastfood', 2), ('taoism', 2), ('NationState', 2), ('reddittf2league', 2), ('EastcoastTF2', 2), ('NPR', 2), ('LegitMinecraft', 2), ('communism', 2), ('technews', 2), ('TodayIWore', 2), ('Colts', 2), ('fantasymma', 2), ('touchpad', 2), ('AusBeer', 2), ('WingChun', 2), ('sharks', 2), ('urbanexploration', 2), ('nude', 2), ('bollywood', 2), ('foreveraloneteens', 2), ('botany', 2), ('folk', 2), ('identifythisfont', 2), ('massachusetts', 2), ('geography', 2), ('Anarchist', 2), ('lowcar', 2), ('haskell_proposals', 2), ('Norwich', 2), ('Beatmatch', 2), ('SFBayHousing', 2), ('INDYCAR', 2), ('scheme', 2), ('Tree', 2), ('IronChef', 2), ('seedstock', 2), ('NaziHunting', 2), ('meat', 2), ('Drawit', 2), ('EngineeringPorn', 2), ('gonenatural', 2), ('metacanada', 2), ('Amazing2', 2), ('SNSD', 2), ('FittitBuddy', 2), ('RedditMCWorld', 2), ('Heavymind', 2), ('dropspaceintertime', 2), ('medicalmysteries', 2), ('Vegetarianism', 2), ('Percussionists', 2), ('Juicing', 2), ('sc2partners', 2), ('raw', 2), ('ufl', 2), ('NUFC', 2), ('Costco', 2), ('Redditch', 2), ('Korean', 2), ('chicagobeer', 2), ('Shambhala', 2), ('flossdaily', 2), ('witcher', 2), ('Cplusplus', 2), ('UCI', 2), ('NYCbike', 2), ('occult', 2), ('psu', 2), ('neuroscience', 2), ('VegRecipes', 2), ('ps3trophies', 2), ('ExplainLikeImCalvin', 2), ('haiti', 2), ('VXJunkies', 2), ('hipsters', 2), ('Internet', 2), ('Filevo', 2), ('csun', 2), ('CyclingMSP', 2), ('EdmontonGoneWild', 2), ('DessertPorn', 2), ('hiphoptruth', 2), ('winemaking', 2), ('CFD', 2), ('TouringMusicians', 2), ('futureofreddit', 2), ('xss', 2), ('diablo2', 2), ('pdxgunnuts', 2), ('AsianNSFW', 2), ('trippy', 2), ('sanmarcos', 2), ('Demotivational', 2), ('SXSW', 2), ('Yakima', 2), ('akron', 2), ('college', 2), ('futureworldproblems', 2), ('fortwayne', 2), ('lovegaymale', 2), ('mctradedepot', 2), ('SubGenius', 2), ('brighton', 2), ('futanari', 2), ('TvTrailers', 2), ('painting', 2), ('rpac', 2), ('firstworldanarchists', 2), ('urbanplanning', 2), ('MapInfo', 2), ('GaState', 2), ('Eesti', 2), ('CWU', 2), ('tax', 2), ('Mariners', 2), ('SocialEngineering', 2), ('killingfloor', 2), ('Bioshock', 2), ('CoWM', 2), ('FinancialCareers', 2), ('FreeEnergy', 2), ('mnc', 2), ('crime', 2), ('LadyGaga', 2), ('OregonStateUniv', 2), ('excatholic', 2), ('cancer', 2), ('welldrawthat', 2), ('Gundam', 2), ('cuboulder', 2), ('minipainting', 2), ('joomla', 2), ('simonfraser', 2), ('MyLittleInsanity', 2), ('byu', 2), ('Pyongyang', 2), ('CFBdynasty', 2), ('capoeira', 2), ('V2Blast', 2), ('bristol', 2), ('minecraftau', 2), ('CalPolyPomona', 2), ('GreenBay', 2), ('Advice', 2), ('ogden', 2), ('dreamcast', 2), ('motorsports', 2), ('rush', 2), ('PixelArt', 2), ('secondlife', 2), ('xbox', 2), ('SQL', 2), ('DeadPeople', 2), ('oxforduni', 2), ('BikingATX', 2), ('selfhelp', 2), ('Tobacco', 2), ('mcprivate', 2), ('sharepoint', 2), ('badphilosophy', 2), ('txstate', 2), ('MW3Elite', 2), ('skrillex', 2), ('TheRapture', 2), ('GoogleTV', 2), ('musicmakers', 2), ('CrappyArt', 2), ('mylittledaww', 2), ('EntExchange', 2), ('ClimbingPorn', 2), ('fantasybball', 2), ('mylittleonions', 2), ('CarletonU', 2), ('Mankato', 2), ('feet', 2), ('general', 2), ('barter', 2), ('ScenesFromAHat', 2), ('pug', 2), ('HappyBirthday', 2), ('RedditizeME', 2), ('aperson', 2), ('nicechips', 2), ('baldursgate', 2), ('ImaginaryLandscapes', 2), ('Montana', 2), ('shutupandbuildthis', 2), ('MLPSecretSanta', 2), ('mississauga', 2), ('podcasts', 2), ('giveaways', 2), ('ambientmusic', 2), ('CityOfLA', 2), ('LARP', 2), ('atheistgems', 2), ('PicsOfDeadKids', 2), ('MTU', 2), ('vfx', 2), ('newyork', 2), ('sad', 2), ('okc', 2), ('csharp', 2), ('mathrock', 2), ('comic_crits', 2), ('Stitchy', 2), ('Rockband', 2), ('TheProxy', 2), ('springfieldMO', 2), ('writingthroughmedia', 2), ('Dublin', 2), ('BBQ', 2), ('bonnaroo', 2), ('fr', 2), ('PigJargon', 2), ('cheeseburgervacation', 2), ('KingdomHearts', 2), ('desmoines', 2), ('LittleRock', 2), ('TCSBeerMeetup', 2), ('Groups', 2), ('LearnANewLanguage', 2), ('PSP', 2), ('hinduism', 2), ('BrownU', 2), ('wc2010_crests', 2), ('uCinci', 2), ('celebrities', 2), ('SFSU', 2), ('Texans', 2), ('ClimateSplattergate', 2), ('CSULB', 2), ('noboundariesgaming', 2), ('Militaryraging', 2), ('gay', 2), ('umass', 2), ('Illustration', 2), ('brussels', 2), ('ThriftStoreFashion', 2), ('virtualstock', 2), ('MSOE', 2), ('awtheory', 2), ('Broadway', 2), ('kol', 2), ('winnipegjets', 2), ('tinycode', 2), ('webos', 2), ('evidenceofgod', 2), ('Wales', 2), ('BIKEPOLO', 2), ('israelexposed', 2), ('classicalguitar', 2), ('NBA2k', 2), ('Etsy', 2), ('UCSC', 2), ('Rights4Men', 2), ('Hypothyroidism', 2), ('TRADE', 2), ('GoneWildPlusSize', 2), ('SecretSubreddit', 2), ('Emory', 2), ('RFL', 2), ('psych', 2), ('Alternativerock', 2), ('mumbai', 2), ('mmo', 2), ('Relax', 2), ('yale', 2), ('iphonehelp', 2), ('Loans', 2), ('anonymous', 2), ('johndollarfullofcrap', 2), ('AfterEffects', 2), ('Home', 2), ('gamemechanics', 2), ('diagnosed', 2), ('rails', 2), ('geospatial', 2), ('Beekeeping', 2), ('RacistReddit', 2), ('csdthegreat', 2), ('Breadit', 2), ('spotifyinvites', 2), ('PBnW', 2), ('olympia', 2), ('minecraftfaq', 2), ('indie', 2), ('Liverpool', 2), ('80sHairMetal', 2), ('shemale', 2), ('chinchilla', 2), ('Kayaking', 2), ('lol', 2), ('collegebaseball', 2), ('Nobodylikesonions', 2), ('VisualGames', 2), ('Antiques', 2), ('wilco', 2), ('dragoncon', 2), ('M12_PS3_Franchise', 2), ('mississippi', 2), ('grool', 2), ('rickygervais', 2), ('customization', 2), ('Swapnote', 2), ('ebolters', 2), ('Cryptogon', 2), ('insects', 2), ('selfpublish', 2), ('berlinsocialclub', 2), ('AlisonBrie', 2), ('occupytheinternet', 2), ('OneParagraph', 2), ('JAX', 2), ('kravmaga', 2), ('DelawarePolitics', 2), ('2012Elections', 2), ('DrugNerds', 2), ('trianglejerk', 2), ('idm', 2), ('projectzomboid', 2), ('socialanxiety', 2), ('sandbox', 2), ('Flute', 2), ('nsfw2', 2), ('PalinProblem', 2), ('wadsworth', 2), ('HHSsubreddit', 2), ('wowbro', 2), ('COents', 2), ('workaholics', 2), ('macapps', 2), ('naturalstate', 2), ('RepublicOfAtheism', 2), ('monarchism', 2), ('readitnow', 2), ('athiesm', 2), ('minnesotapolitics', 2), ('MotionDesign', 2), ('denverjobs', 2), ('flaglercollege', 2), ('uvic', 2), ('fffuuuuckedup', 2), ('tabletennis', 2), ('Dalhousie', 2), ('AtheistHavens', 2), ('dresdenfiles', 2), ('germanshepherds', 2), ('Epilepsy', 2), ('Entmeet', 2), ('appletv', 2), ('MusicInTheMaking', 2), ('columbia', 2), ('DeadBedrooms', 2), ('LibertarianLeft', 2), ('MonsterHunter', 2), ('mk9', 2), ('ServerPorn', 2), ('commandline', 2), ('CanadaPolitics', 2), ('nosql', 1), ('programmingchallenges', 1), ('VVVVVV', 1), ('bioshock2bundles', 1), ('tvtropes', 1), ('Picard', 1), ('dickoftheyear', 1), ('EdmontonOilers', 1), ('unicycling', 1), ('CaptchaArt', 1), ('battlefield4', 1), ('capetown', 1), ('gundem', 1), ('bestof2009', 1), ('ComeTogether', 1), ('foosball', 1), ('flightsim', 1), ('whitewater', 1), ('ChristopherLower', 1), ('ryerson', 1), ('babies', 1), ('theoffice', 1), ('poi', 1), ('renfaire', 1), ('uakron', 1), ('LAGTV', 1), ('chickflixxx', 1), ('Fixxit', 1), ('mazes', 1), ('redditdeals', 1), ('Glitchop', 1), ('Finland', 1), ('Trombone', 1), ('composer', 1), ('MinecraftSuccession', 1), ('RotMG', 1), ('derpit', 1), ('aquaponics', 1), ('TheDailyMuslimRage', 1), ('privvit', 1), ('electronica', 1), ('bboy', 1), ('LouisianaTech', 1), ('regularshow', 1), ('steamtrades', 1), ('NBASpurs', 1), ('Gamebundles', 1), ('rac', 1), ('TheShoals', 1), ('RateMy', 1), ('omahaWHS', 1), ('redwall', 1), ('GirlsFinishingTheJob', 1), ('volleyball', 1), ('mbti', 1), ('ASKFELICIA', 1), ('dubexchange', 1), ('christiananarchism', 1), ('TheGourdAndBombilla', 1), ('Lethbridge', 1), ('littleapple', 1), ('WhichChamp', 1), ('llua', 1), ('MaleStudies', 1), ('couchsurfing', 1), ('Postleftanarchism', 1), ('keys', 1), ('Wilmington', 1), ('Sherlock', 1), ('DeviousIdeas', 1), ('WBB', 1), ('raldi', 1), ('Photoessay', 1), ('PaperAirplanes', 1), ('Tees', 1), ('forsakenworld', 1), ('discordianism', 1), ('unm', 1), ('academiceconomics', 1), ('RealJournalism', 1), ('MUD', 1), ('statenisland', 1), ('polityka', 1), ('Conspiratard2', 1), ('OperatorOFD', 1), ('kof', 1), ('computerforensics', 1), ('ThreadGames', 1), ('sysadminjobs', 1), ('Mylittlebookclub', 1), ('cannabisconnoisseurs', 1), ('TellMeImPretty', 1), ('StAugustine', 1), ('jerrys_mod', 1), ('Thrifty', 1), ('clayfuckingmatthews', 1), ('BoulderUncut', 1), ('dunedin', 1), ('reachclan', 1), ('processing', 1), ('piratenpartei', 1), ('gcsu', 1), ('ebooks', 1), ('Marxism', 1), ('japanese', 1), ('reactiongifs', 1), ('Ghosts', 1), ('OccupyRichmond', 1), ('Dyrus', 1), ('photoshopfavors', 1), ('flaminglips', 1), ('psychonauts', 1), ('oaklandraiders', 1), ('KoengApps', 1), ('regina', 1), ('openant', 1), ('nzpolitics', 1), ('HartfordWhalers', 1), ('gents', 1), ('photomarket', 1), ('imgur', 1), ('umassd', 1), ('plano', 1), ('kittycaitadventures', 1), ('3dsmax', 1), ('yacht_cruise', 1), ('hoarding', 1), ('MMORPG', 1), ('SanAngelo', 1), ('MusicNews', 1), ('UserCars', 1), ('birthcontrol', 1), ('html5', 1), ('pobweekday', 1), ('bioethics', 1), ('Mesothelioma_treat', 1), ('redditchoir', 1), ('Bottomless_Vixens', 1), ('wowguilds', 1), ('treesparents', 1), ('CSUC', 1), ('Torchlight', 1), ('Dinosaurs', 1), ('prolife', 1), ('domesticviolence', 1), ('fakeid', 1), ('simpleliving', 1), ('austinjobs', 1), ('TRUST', 1), ('bvanmanonly', 1), ('TeenMFA', 1), ('Shropshire', 1), ('Madrid', 1), ('theater', 1), ('nsfw_video', 1), ('soccerr', 1), ('Trainme', 1), ('wacrover', 1), ('LimpBizkit', 1), ('coheedandcambria', 1), ('bfbc2au', 1), ('ItsNotOnion', 1), ('cork', 1), ('umadbro', 1), ('fountainpens', 1), ('checkthisout', 1), ('dynamo', 1), ('bm_sandbox', 1), ('AnswerReddit', 1), ('firstpage', 1), ('UofR_MassComm', 1), ('ripeoldage', 1), ('guessthegame', 1), ('mathpsych', 1), ('LOLGod', 1), ('redditforest', 1), ('transhumanism', 1), ('REDDITGUILDRESOURCE', 1), ('medical', 1), ('deutschland', 1), ('socialscience', 1), ('3rb', 1), ('Syracuse', 1), ('TexasTech', 1), ('NewGov', 1), ('DramaQueenCirclejerk', 1), ('MusicCritics', 1), ('bravenewwords', 1), ('bubbling', 1), ('UTPA', 1), ('futurebeatproducers', 1), ('sixers', 1), ('AndroidGaming', 1), ('the99', 1), ('Gunsforsale', 1), ('Degus', 1), ('Plumbing', 1), ('modclub', 1), ('artificial', 1), ('garden', 1), ('ClarksonU', 1), ('AskTechnology', 1), ('ahl', 1), ('Lesbients', 1), ('iOSProgramming', 1), ('olathenorthwest', 1), ('FML', 1), ('workingon', 1), ('SpoofysWorld', 1), ('OU_Norman', 1), ('DanE3030SupportGroup', 1), ('steamswap', 1), ('gameoflaw', 1), ('psychedelicrock', 1), ('Demoscene', 1), ('catcentral', 1), ('MinecraftCirclejerk', 1), ('watersports', 1), ('pcicompliance', 1), ('SRSGaming', 1), ('SVRiders', 1), ('HappyWheels', 1), ('carporn', 1), ('teamlast', 1), ('conservatives', 1), ('FinalFantasy', 1), ('AmeriCorps', 1), ('UNCW', 1), ('UniversityofKansas', 1), ('atlantamusic', 1), ('thehubhub', 1), ('RollerDerbyReddit', 1), ('sailingcrew', 1), ('classicbattlefield', 1), ('Aleague', 1), ('moddit', 1), ('left4dead', 1), ('ModReview', 1), ('mcDFTC', 1), ('katyperry', 1), ('Leakspin', 1), ('utc', 1), ('timelapse', 1), ('FORAJE', 1), ('MiddleEastNews', 1), ('telaviv', 1), ('Torchwood', 1), ('ainbowdash', 1), ('toosoon', 1), ('Colombia', 1), ('LAjobs', 1), ('karate', 1), ('religiousdebate', 1), ('UWEauClaire', 1), ('DarkSoulsHelp', 1), ('ableton', 1), ('redtaboo', 1), ('sick', 1), ('Models', 1), ('blink182news', 1), ('additive', 1), ('coldfusion', 1), ('batmanadvice', 1), ('timberwolves', 1), ('Tennesseetitans', 1), ('muohio', 1), ('XboxLiveMaddenTourny', 1), ('RotLTourney', 1), ('20Q', 1), ('osdev', 1), ('imdrunk', 1), ('Library', 1), ('toledo', 1), ('orioles', 1), ('vanguard', 1), ('oldschool', 1), ('askakiwi', 1), ('letsplaysomething', 1), ('horrormoviechallenge', 1), ('quantfinance', 1), ('WhatWouldYouRather', 1), ('atmosphericmetal', 1), ('cpop', 1), ('caDnD', 1), ('ragelationships', 1), ('PovertyTips', 1), ('GT5Trades', 1), ('malkovich', 1), ('acbrotherhood', 1), ('klauserichs', 1), ('thevenomsite', 1), ('MuayThai', 1), ('HeadBangToThis', 1), ('SimCity', 1), ('midlifecrisis', 1), ('PoeticReddit', 1), ('improv', 1), ('magicka', 1), ('MusicEssentials', 1), ('japanesemusic', 1), ('bukkit', 1), ('ParallelWorldProblems', 1), ('newcastle', 1), ('moombahton', 1), ('peacecorps', 1), ('sooners', 1), ('ucmerced', 1), ('cesky', 1), ('Nebraska', 1), ('tedtalks', 1), ('AppalachianTrail', 1), ('teenlove', 1), ('daebat', 1), ('cevre', 1), ('HaloCustomGames', 1), ('CasualMath', 1), ('projectChristchurch', 1), ('BF360CLAN', 1), ('Nurse', 1), ('shutup', 1), ('soxfanpdx', 1), ('Realty', 1), ('justanotherreddit', 1), ('Steamgiftsinvites', 1), ('Astroturfers', 1), ('TCU', 1), ('Brampton', 1), ('uicwhatshot', 1), ('urbantransport', 1), ('DrFunkesMC', 1), ('trumpet', 1), ('trains', 1), ('choppers', 1), ('darktower', 1), ('CKHPHighlanderTeam', 1), ('girlsinyogapants', 1), ('shaving', 1), ('reddit_dead', 1), ('McMaster', 1), ('freesia', 1), ('lezsaysmoargaming', 1), ('tf2gifts', 1), ('thrashmetal', 1), ('nanaimo', 1), ('designthought', 1), ('USNEWS', 1), ('poland', 1), ('Winona', 1), ('30daysit', 1), ('insomnia', 1), ('UniversityofHawaii', 1), ('StakeMePlease', 1), ('IFinallyNoticed', 1), ('codtalk', 1), ('WisconsinBadgers', 1), ('ShastaClimb', 1), ('disability', 1), ('unheardof', 1), ('f7u12awards', 1), ('ETF2LHighlander', 1), ('rct', 1), ('bikinis', 1), ('texasbeer', 1), ('IowaArtsAndCrafts', 1), ('octopustomfoolery', 1), ('mobile', 1), ('Skweee', 1), ('promptoftheday', 1), ('RRP', 1), ('fence', 1), ('windows7', 1), ('reddittraveljetblue', 1), ('Mylittlegamer', 1), ('uofu', 1), ('firefall', 1), ('Edinburgh', 1), ('vinylscratch', 1), ('transit', 1), ('uwcse', 1), ('socceroos', 1), ('merlinbbc', 1), ('rescuedogs', 1), ('numismatics', 1), ('angelsbaseball', 1), ('AnneHathaway', 1), ('shill', 1), ('NDSU', 1), ('religiousright', 1), ('OffensiveQuestions', 1), ('colorreddit', 1), ('filmfashion', 1), ('Spiritpokemon', 1), ('lithuania', 1), ('HorriblePerson', 1), ('Samplehunters', 1), ('nationalinstruments', 1), ('electro', 1), ('bjarkeproblems', 1), ('translator', 1), ('reptiles', 1), ('MK7RC', 1), ('audiology', 1), ('crazyhair', 1), ('BlogDelNarco', 1), ('louie', 1), ('humanism', 1), ('CelebFakes', 1), ('Unashamed', 1), ('arlington', 1), ('xbmc', 1), ('cyclocross', 1), ('environment2', 1), ('DateRape', 1), ('bottlesofbeer', 1), ('ChristianSafezone', 1), ('dependent_types', 1), ('TheCAT', 1), ('December', 1), ('Reddinati', 1), ('Osaka', 1), ('blueberryjam', 1), ('Acadiana', 1), ('photoshopcontest', 1), ('fossilid', 1), ('ASRoma', 1), ('Adoption', 1), ('flyfishing', 1), ('loungegonewild', 1), ('ted', 1), ('solaris', 1), ('dpdr', 1), ('losingfaith', 1), ('Quinnipiac', 1), ('premed', 1), ('amirez', 1), ('rambunctious', 1), ('grooveshark', 1), ('CAbookclub', 1), ('Intactivists', 1), ('Nevada', 1), ('riddeit', 1), ('chicagomusicscene', 1), ('MW2for360', 1), ('smallprog', 1), ('contra', 1), ('gameDevClassifieds', 1), ('GrannyPanties', 1), ('artrockmusicvideos', 1), ('upvote', 1), ('Kentucky', 1), ('Msstate', 1), ('4x4', 1), ('BP_Gulf_Oil_Spill', 1), ('arielwinter', 1), ('men', 1), ('UKMeetUp2011', 1), ('guam', 1), ('CuteWriting', 1), ('Technologyzone', 1), ('HouseMD', 1), ('Honda', 1), ('finalcutprox', 1), ('Fish', 1), ('SwingDancing', 1), ('teslore', 1), ('Gymnastics', 1), ('overclocking', 1), ('CBC_Radio', 1), ('TheLateShow', 1), ('wsu', 1), ('UKhistory', 1), ('Ambientalmente', 1), ('Gamingcirclejerk', 1), ('plur', 1), ('york', 1), ('unjokes', 1), ('infertility', 1), ('Vitamix', 1), ('cripplingsobriety', 1), ('unthink', 1), ('occupylosangeles', 1), ('RepublicOfGaming', 1), ('Towns', 1), ('primeinstantvideos', 1), ('YAlit', 1), ('ParanormalOccult', 1), ('grilling', 1), ('predictions', 1), ('Portuguese', 1), ('unh', 1), ('xfce', 1), ('holidays', 1), ('OGTruthorDare', 1), ('grimm', 1), ('brawl', 1), ('SydneyStoners', 1), ('RepublicOfMusic', 1), ('FindAGame', 1), ('asian', 1), ('treess', 1), ('quickquestions', 1), ('CrappyGames', 1), ('salukis', 1), ('WWE', 1), ('Badass', 1), ('costa_rica', 1), ('top40', 1), ('Reddiverse', 1), ('queen', 1), ('USMC', 1), ('VirginiaBeach', 1), ('CodeLyoko', 1), ('symphonicmetal', 1), ('uoit', 1), ('MITocw600', 1), ('ChatRoulette', 1), ('reddittown', 1), ('Vacations', 1), ('Paleontology', 1), ('stanford', 1), ('rockhounds', 1), ('pokemonscramble', 1), ('fagonewild', 1), ('HairyPussy', 1), ('Summit', 1), ('TrackMania', 1), ('Oswego', 1), ('Habs', 1), ('Imperial', 1), ('ftm', 1), ('redditdynasty', 1), ('Pirate', 1), ('Liberty', 1), ('Hungover', 1), ('macedonia', 1), ('skylanders', 1), ('Femdom', 1), ('WahoosTipi', 1), ('Mylittlesprayschool', 1), ('NJTech', 1), ('djmixes', 1), ('stlouisblues', 1), ('whattowear', 1), ('Cinephiles', 1), ('frozensynapse', 1), ('DCUnited', 1), ('Mandalore', 1), ('trees_IRL', 1), ('csusm', 1), ('ModestMouse', 1), ('thebeachboys', 1), ('ThunderBay', 1), ('DCcomics', 1), ('guitarpedals', 1), ('ducks', 1), ('DemocracyWatch', 1), ('friendship', 1), ('visualization', 1), ('RobotBuilders', 1), ('camarillo', 1), ('swanseauni', 1), ('aerogarden', 1), ('RandomActsOfPizza', 1), ('raweddits', 1), ('Hiphopcirclejerk', 1), ('HAWP', 1), ('photo', 1), ('ChloeMoretz', 1), ('Saints', 1), ('freelanceWriters', 1), ('modelmakers', 1), ('Redditchess', 1), ('videogamebabes', 1), ('scotus', 1), ('grammarwatch', 1), ('Communist', 1), ('DeclineofUS', 1), ('frankfurt', 1), ('FoodDev', 1), ('shawngupta', 1), ('TrueMetal', 1), ('utarlington', 1), ('nsfw_videos', 1), ('dubai', 1), ('gwu', 1), ('NeoAnarchism', 1), ('TokyoUnderground', 1), ('fellatio', 1), ('VinylCollectors', 1), ('galway', 1), ('LambdaChiAlpha', 1), ('vstheearthship', 1), ('UCA', 1), ('guineapigs', 1), ('UCalgary', 1), ('PhantomandFriends', 1), ('AlternativeHealth', 1), ('ccna', 1), ('lincoln', 1), ('expos', 1), ('erba', 1), ('Pumpkins', 1), ('discexchange', 1), ('ChicagoStarcraft', 1), ('animeworldproblems', 1), ('EnemyTerritory', 1), ('bf3au', 1), ('PlatonicFriends', 1), ('electoralreformact', 1), ('cubeworldproblems', 1), ('retell', 1), ('ScotchSwap', 1), ('BigFriendlyRobot', 1), ('NotchsFuckingInbox', 1), ('saskatchewan', 1), ('war', 1), ('Entlantis', 1), ('stalker', 1), ('BritishJewishPower', 1), ('ECU', 1), ('WhyWeSmoke', 1), ('Haveyoueverconsidered', 1), ('anarchafeminism', 1), ('3dsFCswap', 1), ('teamspearhead', 1), ('warpprism', 1), ('Trixie', 1), ('alameda', 1), ('weeaboo', 1), ('t4p', 1), ('urbandesign', 1), ('RGAs', 1), ('orchestra', 1), ('portlandtrees', 1), ('AmericanGovernment', 1), ('purplemusic', 1), ('invest', 1), ('scribblenauts', 1), ('BostonSocialClub', 1), ('CSUS', 1), ('TokyoSeddit', 1), ('recordstore', 1), ('RedwallROC', 1), ('OperationCorkscrew', 1), ('mit', 1), ('mlb', 1), ('hightimes', 1), ('RangeMeetups', 1), ('shittyadviceanimals', 1), ('postmetal', 1), ('PhotoEdited', 1), ('Zoids', 1), ('postapocalyptic', 1), ('ytp', 1), ('towerofbabel', 1), ('stairescraft', 1), ('supersicknastymusic', 1), ('TenYearsAgo', 1), ('heinlein', 1), ('vorg', 1), ('greatdanes', 1), ('DwalinCraft', 1), ('NativeAmerican', 1), ('SkyPorn', 1), ('nakajima', 1), ('PhotoBlog', 1), ('Flagstaff', 1), ('hamiltoncollege', 1), ('steamcoupons', 1), ('miltonkeynes', 1), ('puerto_rico', 1), ('gingerpride', 1), ('RickSnyder', 1), ('Crysis', 1), ('QUTreddit', 1), ('subdiaries', 1), ('Welding', 1), ('fairytail', 1), ('rum', 1), ('bitchimabus', 1), ('gamedevresources', 1), ('bradford', 1), ('Lib3rtyServer', 1), ('motogp', 1), ('Ebay', 1), ('WalkingTheRoom', 1), ('chipdesign', 1), ('COsnow', 1), ('nicolascage', 1), ('animeclub', 1), ('plime', 1), ('ChicagoSuburbs', 1), ('macon', 1), ('parksandrec', 1), ('altmed', 1), ('CB22_Th', 1), ('sexxit', 1), ('mexicanStaringFrog', 1), ('chillwave', 1), ('ScapeRune', 1), ('TalesFromRetail', 1), ('retailstoreproblems', 1), ('gaysports', 1), ('KeepAustinWeird', 1), ('sociallyawkward', 1), ('bostonboardgames', 1), ('SantaBarbara', 1), ('ibeatportal2', 1), ('White_Pride', 1), ('Insurance', 1), ('givemeaquest', 1), ('RedditProperty', 1), ('xmonad', 1), ('descent', 1), ('RedditForGrownups', 1), ('swedishsnus', 1), ('everyoneisjohn', 1), ('Canning', 1), ('deaf', 1), ('tasker', 1), ('TriangleStarcraft', 1), ('HDR', 1), ('AusCraft', 1), ('Eureka', 1), ('Concordia', 1), ('bootroom', 1), ('TheVent', 1), ('AdvancedRunning', 1), ('SanDiegoJobs', 1), ('cerealguy', 1), ('Sikh', 1), ('chinesefood', 1), ('god', 1), ('nes', 1), ('BGSU', 1), ('airsoftmarket', 1), ('ambien', 1), ('Nantes', 1), ('bloggerdal', 1), ('fail', 1), ('oldgamers', 1), ('poop', 1), ('skminecraft', 1), ('Mixdown', 1), ('NuclearPower', 1), ('PoliceBox', 1), ('Upskirt', 1), ('ShittyPoetry', 1), ('nycmeetups', 1), ('UNCCharlotte', 1), ('xtoysasiatan', 1), ('WordsWithFriends', 1), ('words', 1), ('IT_CERT_STUDY', 1), ('MW3rddt', 1), ('dyke', 1), ('lebanon', 1), ('dystopia', 1), ('GTA', 1), ('OffGrid', 1), ('University_Of_Regina', 1), ('ACMilan', 1), ('english_articles', 1), ('MinecraftDAE', 1), ('GrahamCracker', 1), ('specialkindofdouche', 1), ('Ocin', 1), ('stcatharinesON', 1), ('gameconceptart', 1), ('artswap', 1), ('mylittledramaticstory', 1), ('slowcooking', 1), ('Nudedudes', 1), ('ithappenedtome', 1), ('jambands', 1), ('wheatpaste', 1), ('roundrobin', 1), ('GVSU', 1), ('socialskills', 1), ('XBLIG', 1), ('commonroom', 1), ('ValenciaCollege', 1), ('sticker', 1), ('kasseyk', 1), ('loneliness', 1), ('streetfood', 1), ('eroticliterature', 1), ('truthordare', 1), ('wildcats', 1), ('FirePorn', 1), ('IthacaCollege', 1), ('allmsu', 1), ('Citrix', 1), ('talesfromtamriel', 1), ('gaygineers', 1), ('MARIOPARTY', 1), ('AppleUncensored', 1), ('DSP', 1), ('usenet', 1), ('HipsterJokes', 1), ('redditbooks', 1), ('Ordoliberalism', 1), ('Charlottesville', 1), ('depaul', 1), ('soundtracks', 1), ('TheBrewery', 1), ('triplemetacirclejerk', 1), ('CoachellaValley', 1), ('perl6', 1), ('TampaBayLightning', 1), ('Newsupd', 1), ('hashhouseharriers', 1), ('telecaster', 1), ('thistypeofpicture', 1), ('procurement', 1), ('Ringtones', 1), ('mcobj', 1), ('comedy', 1), ('e_lucas', 1), ('cansomeoneexplain', 1), ('l4dbundles', 1), ('CalgaryFlames', 1), ('cassetteculture', 1), ('redneckproblems', 1), ('landogriffin', 1), ('treejams', 1), ('dust514', 1), ('quantum', 1), ('deadmau5', 1), ('language', 1), ('fffffffuuuuuuuuuuu', 1), ('PostModernF7U12', 1), ('Fencing', 1), ('Malazan', 1), ('bigwallpapers', 1), ('reginaspektor', 1), ('wouldudateme', 1), ('Reddionic', 1), ('F7U14', 1), ('MacUni', 1), ('AskPhotography', 1), ('Augusta', 1), ('mangonewild', 1), ('hip_hop', 1), ('Reign', 1), ('juggling', 1), ('Djent', 1), ('TF2Admins', 1), ('UKhiphop', 1), ('askpseudoscience', 1), ('Babson', 1), ('MassiveCock', 1), ('pharmacy', 1), ('twincitiesmusic', 1), ('Edgeworld', 1), ('gamedevcollab', 1), ('thecloset', 1), ('q4q', 1), ('villanova', 1), ('unicornporn', 1), ('numberwang', 1), ('windows8', 1), ('starlets', 1), ('puzzles', 1), ('vimcommands', 1), ('Webmaster', 1), ('password', 1), ('DearPrincessCelestia', 1), ('GenerousGamers', 1), ('LawCanada', 1), ('pnplan', 1), ('libraryofshadows', 1), ('OperationPullRyan', 1), ('Exercise', 1), ('filmfest', 1), ('gonewildflicks', 1), ('ReefTank', 1), ('Nokia', 1), ('StPetersburgFL', 1), ('IWW', 1), ('Gulf', 1), ('femalepov', 1), ('TodayIAte', 1), ('namethemovie', 1), ('AustEnts', 1), ('SAP', 1), ('CODYoutube', 1), ('Mavericks', 1), ('NarwhalNation', 1), ('AustinClassifieds', 1), ('AustinRP', 1), ('PizzaDrivers', 1), ('opensourcehardware', 1), ('Ciderporn', 1), ('WatchShopping', 1), ('C_Programming', 1), ('GWCouples', 1), ('starcraftvods', 1), ('harvestmoon', 1), ('talkradioreddit', 1), ('auckland', 1), ('SpookyCast', 1), ('sport', 1), ('Sealand', 1), ('360playdate', 1), ('TheDarkKnightRises', 1), ('mmafights', 1), ('labor', 1), ('minimal', 1), ('Peterborough', 1), ('Tricking', 1), ('vintage', 1), ('saintcloud', 1), ('CapeCod', 1), ('miamidolphins', 1), ('tradingfaces', 1), ('chartchess', 1), ('fuckingawesome', 1), ('AlphaInputs', 1), ('radioheadmusicians', 1), ('AskAmericanReddit', 1), ('LinuxArgentina', 1), ('tinydick', 1), ('BlueJackets', 1), ('sewcrazy', 1), ('CTFxC', 1), ('Creationism', 1), ('centralmich', 1), ('utulsa', 1), ('Gurnee', 1), ('ChineseReddit', 1), ('scrooges', 1), ('Genealogy', 1), ('done', 1), ('upstate_new_york', 1), ('hordeguild', 1), ('newhaven', 1), ('learnios', 1), ('TreesSketchbook', 1), ('vaporization', 1), ('RedditEWB', 1), ('GreaseMonkey', 1), ('Infographics', 1), ('rockytop', 1), ('Elantris', 1), ('Daytrotter', 1), ('stropsblog', 1), ('DanceDanceRevolution', 1), ('Hearthlings', 1), ('earworm', 1), ('stupidshitredditsays', 1), ('DavidBowie', 1), ('bmovies', 1), ('jewelry', 1), ('moderatorjerk', 1), ('SteamXmass2011Trading', 1), ('Tabs', 1), ('core', 1), ('IndependentThinking', 1), ('HollabackReddit', 1), ('SaintLouisRams', 1), ('GameAudio', 1), ('ragecomics', 1), ('Monterrey', 1), ('security', 1), ('sheffield', 1), ('annualkpopawards', 1), ('InYourCountry', 1), ('melodicdeathmetal', 1), ('firespin', 1), ('UMiami', 1), ('BetaArmy', 1), ('cleaningknowhow', 1), ('systemwars', 1), ('serbia', 1), ('redditores', 1), ('newenglandrevolution', 1), ('soflatrees', 1), ('littlebigreddit', 1), ('Employment', 1), ('MainstreamMusic', 1), ('academicpublishing', 1), ('EmersonCollege', 1), ('mgmt', 1), ('thegreatproject', 1), ('acting', 1), ('moosedongs', 1), ('RandomActsofClass', 1), ('rhps', 1), ('DMA', 1), ('lipstick.com', 1), ('TGDisc', 1), ('___', 1), ('Swirclejerk', 1), ('StarcraftCirclejerk', 1), ('bronymeetup', 1), ('musicrequests', 1), ('Cello', 1), ('mathematics', 1), ('UTEP', 1), ('malefashion', 1), ('NewsPorn', 1), ('OttawaSenators', 1), ('911dispatchers', 1), ('denvernuggets', 1), ('gamemaker', 1), ('foundfootage', 1), ('EliteLinks', 1), ('RESAnnouncements', 1), ('mountaineers', 1), ('PanicParty', 1), ('ScavengerSpies', 1), ('simracing', 1), ('andSec', 1), ('filmnoir', 1), ('Capitalism', 1), ('knots', 1), ('changelog', 1), ('SexyButNotPorn', 1), ('crappymusic', 1), ('christianitycensor', 1), ('thecryptoexchange', 1), ('MeetPeople', 1), ('PointsPlus', 1), ('ows', 1), ('Throwers', 1), ('googleio', 1), ('Endo', 1), ('bobbyandjeremy', 1), ('princeton', 1), ('pissing', 1), ('xboxlive', 1), ('mylittlelinux', 1), ('Hipster', 1), ('Awww', 1), ('annatorv', 1), ('dxm', 1), ('cyberlinks', 1), ('chillmusic', 1), ('herps', 1), ('snes', 1), ('boss', 1), ('johnstown', 1), ('InformedOWS', 1), ('kratom', 1), ('ICoveredASong', 1), ('compscipapers', 1), ('thinkpad', 1), ('foxvalleywi', 1), ('OrangeCountySeddit', 1), ('Cyberpunk_Music', 1), ('joplinmo', 1), ('IndianFood', 1), ('speakfreely', 1), ('ifuckinghatecats', 1), ('beergeek', 1), ('NewRedditCookbook', 1), ('AppEngine', 1), ('svc', 1), ('phdstudents', 1), ('needsattention', 1), ('NAU', 1), ('MCchallengemaps', 1), ('fit', 1), ('3DMA', 1), ('WDP', 1), ('novelexicon', 1), ('gopct', 1), ('straightedge', 1), ('Bendigo', 1), ('ausenviro', 1), ('OnLive', 1), ('matheducation', 1), ('mansformation', 1), ('MinecraftHelp', 1), ('fredericksburg', 1), ('RdvTech', 1), ('xbox360games', 1), ('vagina', 1), ('startrekmemes', 1), ('exSistersinZion', 1), ('calvincollege', 1), ('skulls', 1), ('jquery', 1), ('auslaw', 1), ('mspainttoday', 1), ('fuckingphilosophy', 1), ('Trading', 1), ('Utah', 1), ('robinhoode', 1), ('ratemyband', 1), ('pharmacology', 1), ('Newport', 1), ('Muppets', 1), ('rpgtrade', 1), ('Mohawks', 1), ('IAmARequests', 1), ('moderndrinker', 1), ('AmateurArchives', 1), ('arsenal', 1), ('communitylend', 1), ('FluffyRooks', 1), ('cimigo', 1), ('cocoa', 1), ('trollcave', 1), ('sassygayadvice', 1), ('mormon', 1), ('lynchburg', 1), ('EQUIPnTRIP', 1), ('onions', 1), ('malton', 1), ('personaltheories', 1), ('askdrugs', 1), ('Sundown', 1), ('BurnNotice', 1), ('sensiblewashington', 1), ('mcnsabans', 1), ('hardcoreglamourporn', 1), ('britishproblems', 1), ('PlayBook', 1), ('openmic', 1), ('calupa', 1), ('homicidewatch', 1), ('MW2_Tourney', 1), ('weirdfears', 1), ('Moscow', 1), ('tech_house', 1), ('fanshawe', 1), ('cmubuggy', 1), ('survivalfood', 1), ('animemusic', 1), ('pregnant', 1), ('stunfisk', 1), ('VietNam', 1), ('TMS', 1), ('nmt', 1), ('firewater', 1), ('whitneyyoung', 1), ('Mario', 1), ('tryptonaut', 1), ('universityofsussex', 1), ('BearAndFriends', 1), ('ponypapers', 1), ('overthirtyandawesome', 1), ('discworld', 1), ('neurophilosophy', 1), ('AnimalCollective', 1), ('AstateSkeptic', 1), ('Clarinet', 1), ('Megaten', 1), ('brooklinemine', 1), ('freemusic', 1), ('republicans', 1), ('hellgate', 1), ('PhilosophyofReligion', 1), ('humansvszombies', 1), ('maturewomen', 1), ('ScarlettJohansson', 1), ('caving', 1), ('guildhat', 1), ('ragefiction', 1), ('RDFRS_unofficial', 1), ('TVShowsDirectory', 1), ('thaiTravel', 1), ('lansing', 1), ('BF3UK', 1), ('tvcritic', 1), ('fixit', 1), ('bandmembers', 1), ('NAE2', 1), ('fisaspleef', 1), ('MyLittleOutOfContext', 1), ('croatia', 1), ('TheDarkBrotherhood', 1), ('ElPaso', 1), ('HalfLife', 1), ('SeattleSports', 1), ('hrw', 1), ('darkmists', 1), ('falsemetal', 1), ('mylittlehuman', 1), ('TheistVsAtheist', 1), ('lojban', 1), ('silky', 1), ('trailer', 1), ('CoolDesigns', 1), ('smokerslounge', 1), ('Doesthisexist', 1), ('lolphp', 1), ('peyups', 1), ('BostonU', 1), ('NFLZ', 1), ('crazystairs', 1), ('Ultralight', 1), ('InspectorSpacetime', 1), ('Jeopardy', 1), ('fitlog', 1), ('RandomDeclarations', 1), ('LAPhotos', 1), ('UniversityOfWarwick', 1), ('TellMeAbout', 1), ('broodwar', 1), ('superhoops', 1), ('aarecovery', 1), ('Themepark', 1), ('nsit', 1), ('Scary', 1), ('patriciacaprice', 1), ('Athens', 1), ('Hamiltonents', 1), ('HIVGoneWild', 1), ('needamod', 1), ('redditbookclub', 1), ('GameDevelopment', 1), ('thankkickme', 1), ('HBD', 1), ('eCards', 1), ('conlangs', 1), ('circlejerknyc', 1), ('CNU', 1), ('FIU', 1), ('32bites', 1), ('livestock', 1), ('eastside', 1), ('redditlists', 1), ('randomacts', 1), ('blacksburg', 1), ('Marietta', 1), ('warlizard', 1), ('Deniath', 1), ('yaoi', 1), ('protips', 1), ('GearPorn', 1), ('PCCB', 1), ('OKState', 1), ('hotmanflesh', 1), ('Brian01', 1), ('mybestcomments', 1), ('WriterFriends', 1), ('UFC_MMA', 1), ('Navajo', 1), ('buccaneers', 1), ('fitmeme', 1), ('crybaby', 1), ('cannabiscultivation', 1), ('daytraders', 1), ('SAIT', 1), ('only10subscribers', 1), ('EnoughInternet', 1), ('greenville', 1), ('TornadoPorn', 1), ('webbit', 1), ('Aberystwyth', 1), ('Jung', 1), ('b24', 1), ('AcousticOriginals', 1), ('femalesgonewild', 1), ('leedsmet', 1), ('WhoWantsToBeAMod', 1), ('opera', 1), ('Redditpitboss', 1), ('williamandmary', 1), ('BikeShop', 1), ('yourmom', 1), ('Mathematica', 1), ('Dieselpunks', 1), ('KHGuide', 1), ('Eredivisie', 1), ('penguins', 1), ('shroomers', 1), ('motorcitykitties', 1), ('ReligiousDebates', 1), ('BDSMerotica', 1), ('Biophysics', 1), ('rock', 1), ('mtgtrades', 1), ('Magento', 1), ('drone', 1), ('boxee', 1), ('UTFootball', 1), ('NoveltyAccounts', 1), ('terriers', 1), ('electronic_circuits', 1), ('cleverbot', 1), ('Pennsylvania', 1), ('AsianGirls', 1), ('ThisMovedMe', 1), ('Image', 1), ('Blink182', 1), ('Darkroom', 1), ('SodaSwap', 1), ('libertarian_theory', 1), ('chrisandandy', 1), ('Frasier', 1), ('rcw', 1), ('AskNetsec', 1), ('Drumming', 1), ('tothemoon', 1), ('joos', 1), ('unsw', 1), ('studentchallenge', 1), ('SFV', 1), ('raggajungle', 1), ('mylittlemagic', 1), ('Defcon', 1), ('RedditvFCC', 1), ('fcdallas', 1), ('TrollingAnimals', 1), ('guitarporn', 1), ('OnOff', 1), ('upugetsound', 1), ('noisemusic', 1), ('mylittletrottinggag', 1), ('cannabiscultivators', 1), ('formylover', 1), ('Esperanto', 1), ('chicagovolleyball', 1), ('puremathematics', 1), ('CivWorld', 1), ('Honda_Performance', 1), ('SpecialNeedsChildren', 1), ('Veterans', 1), ('country', 1), ('lacrossewi', 1), ('UNLPiKapp', 1), ('SelenaGomez', 1), ('Miniswap', 1), ('modded', 1), ('Bundesliga', 1), ('natalieportman', 1), ('BlackMetal', 1), ('Riddle', 1), ('kirkyboi07', 1), ('manass', 1), ('inmemoryof', 1), ('TopAndroidApps', 1), ('comiccon', 1), ('applesucks', 1), ('blackwebspace', 1), ('Porsche', 1), ('thepale', 1), ('conspiracies', 1), ('grilledcheese', 1), ('plastic', 1), ('manlove', 1), ('breastplay', 1), ('Fahrvergnugen', 1), ('Dodgers', 1), ('gamign', 1), ('UVA', 1), ('Mapleton', 1), ('whoilooklike', 1), ('evangelion', 1), ('kvariety', 1), ('MineCorp', 1), ('rutgersents', 1), ('darkstep', 1), ('historicalrage', 1), ('thingsmykidsaid', 1), ('Jerkies2011', 1), ('fictioncircus', 1), ('ProgrammingProblems', 1), ('iPhoneDev', 1), ('TF2east', 1), ('NBAPowerRankings', 1), ('gaaaaaaayyyyyyyyyyyy', 1), ('IndieFolk', 1), ('idea', 1), ('onetimeI', 1), ('alexjones', 1), ('metacodcirclejerk', 1), ('weddingdress', 1), ('BoyScouts', 1), ('Erasmus', 1), ('xmopxtest', 1), ('PlanetMcAwesomesauce', 1), ('MichiganWolverines', 1), ('FantasyMuscle', 1), ('toycameras', 1), ('whatwouldyoudo', 1), ('greenoval', 1), ('chicagofood', 1), ('projectEquestria', 1), ('types', 1), ('ios', 1), ('metalworking', 1), ('thenewdubstep', 1), ('nottingham', 1), ('ariel_model', 1), ('SoundersFC', 1), ('gamingsuggestions', 1), ('EnterShikari', 1), ('politics_new', 1), ('programmingclub', 1), ('enloe', 1), ('Socialize', 1), ('nederlands', 1), ('HampshireCollege', 1), ('meridian59', 1), ('Ashland', 1), ('PERU', 1), ('Dreamtheater', 1), ('WestVirginia', 1), ('diablo3', 1), ('yuma', 1), ('DinoBalls', 1), ('ArtofPlanning', 1), ('AttachmentParenting', 1), ('survivorsofabuse', 1), ('DevonUK', 1), ('supermoto', 1), ('ocala', 1), ('F1U1', 1), ('craigferguson', 1), ('chicagocolleges', 1), ('unix', 1), ('yester', 1), ('UtahValley', 1), ('NSFR', 1), ('HunterCollege', 1), ('thezombieapocolypse', 1), ('ChangeNow', 1), ('HTCDesire', 1), ('EireCraft', 1), ('Sithit', 1), ('KMFDM', 1), ('disco_biscuits', 1), ('asl', 1), ('VolvoRWD', 1), ('MeetandEat', 1), ('siena', 1), ('lgbtcirclejerk', 1), ('corpus', 1), ('Muse', 1), ('Gamer', 1), ('csbooks', 1), ('PlayByRedditRPG', 1), ('middleearthproblems', 1), ('lawpractice', 1), ('LaSalle', 1), ('taminecraft', 1), ('TAtalk', 1), ('fonts', 1), ('lifehacks', 1), ('AlamoBarCraft', 1), ('whyitisterrible', 1), ('Janesville', 1), ('nyancat', 1), ('Jersey', 1), ('Minneapolis', 1), ('tampabayrays', 1), ('RespectfulDebate', 1), ('brocku', 1), ('Anaheim', 1), ('criminalminds', 1), ('olemiss', 1), ('ShinyPokemon', 1), ('twincitiesents', 1), ('EDRecovery_public', 1), ('thewestwing', 1), ('Megaman', 1), ('arma', 1), ('babel', 1), ('KentStateUniversity', 1), ('shreveport', 1), ('fifapc', 1), ('DCInterns', 1), ('militantatheism', 1), ('browncoats', 1), ('golang', 1), ('UPenn', 1), ('zinesters', 1), ('yiff', 1), ('Saltwater', 1), ('GoProCamera', 1), ('PirateParty', 1), ('collectivestory', 1), ('ChristianHardcore', 1), ('ehlersdanlos', 1), ('wp7dev', 1), ('SOPAfunny', 1), ('Forex', 1), ('moddingguides', 1), ('infograffiti', 1), ('stoners', 1), ('facebookquotes', 1), ('2mod', 1), ('Cisco', 1), ('Rhetoric', 1), ('ChiList', 1), ('NSFW_Wallpapers', 1), ('dirtjumping', 1), ('OnePieceRP', 1), ('leaves', 1), ('pdokeeganlovesbabies', 1), ('trailrunning', 1), ('HotShotGG', 1), ('CuteGuyButts', 1), ('beauty', 1), ('jewelers', 1), ('SteamGifts', 1), ('AnimatedGifs', 1), ('bicycleculture', 1), ('awesome', 1), ('rangebuddy', 1), ('ICallBullshit', 1), ('Kuwait', 1), ('brewing', 1), ('Annapolis', 1), ('sonic', 1), ('Dance', 1), ('LAWestside', 1), ('PunkGirls', 1), ('kurtland', 1), ('AnimalCrossing', 1), ('Xenonauts', 1), ('ArtBattle', 1), ('necrophilia', 1), ('canton', 1), ('Neuropsychology', 1), ('a7w12', 1), ('drklausch', 1), ('FlightTraining', 1), ('Scrolls', 1), ('TeenGamers', 1), ('singularity', 1), ('jkd', 1), ('SF_Book_Club', 1), ('MinusTheBear', 1), ('UNI', 1), ('git', 1), ('Equus', 1), ('IrelandGames', 1), ('NKU', 1), ('ColoradoAvalanche', 1), ('farming', 1), ('holodeck', 1), ('kindlefire', 1), ('OhGodWhatHaveIDone', 1), ('themarsvolta', 1), ('FloridaPanthers', 1), ('SCW', 1), ('budgetfood', 1), ('antfarm', 1), ('retrogames', 1), ('translationparty', 1), ('Mylittlenosleep', 1), ('OCC', 1), ('Thunder', 1), ('whitesox', 1), ('sfuchoir', 1), ('timetravel', 1), ('Reddit_startup', 1), ('shittydatingadvice', 1), ('roomdetective', 1), ('WhiteLabels', 1), ('hyderabad', 1), ('NewParents', 1), ('wowscrolls', 1), ('dumpijusttook', 1), ('nofx', 1), ('Quite', 1), ('redstrype', 1), ('Tallahassee', 1), ('oxeyegames', 1), ('Madden', 1), ('Brunei', 1), ('moncton', 1), ('Munich', 1), ('Marin', 1), ('Blogging', 1), ('pho', 1), ('redalert2', 1), ('loveandlogic', 1), ('Crainn', 1), ('fiction', 1), ('geeks', 1), ('FanshaweCollege', 1), ('PokePorn', 1), ('1337', 1), ('RedditMD', 1), ('leanex', 1), ('temporaryname', 1), ('lovereddit', 1), ('erlang', 1), ('Denison', 1), ('A6a8i', 1), ('lesbians', 1), ('counterstrike', 1), ('ASPNET', 1), ('columbusmusic', 1), ('wausau', 1), ('Bath', 1), ('HouseMusic', 1), ('adventuregames', 1), ('g2x', 1), ('OHSU', 1), ('transgamers', 1), ('photoclass2012a', 1), ('radicalqueers', 1), ('MontgomeryCountyMD', 1), ('vcu', 1), ('buccos', 1), ('Lambsauce', 1), ('grasshopper06', 1), ('OSOM', 1), ('Fighters', 1), ('Cinemagraphs', 1), ('Blogsnreviews', 1), ('gnome', 1), ('FtMPorn', 1), ('powerviolence', 1), ('CFLcomics', 1), ('friskydingo', 1), ('lordsofuberdark', 1), ('homeschool', 1), ('autoresindie', 1), ('SMSGG', 1), ('ClimateCrisis', 1), ('brainsgonewild', 1), ('lexington', 1), ('MultipleSclerosis', 1), ('under18', 1), ('our', 1), ('LibertarianSocialism', 1), ('redditfest', 1), ('WAYWT', 1), ('sv', 1), ('USPE08', 1), ('MoscowIdaho', 1), ('Intro_to_Plato', 1), ('Revival', 1), ('Erotica', 1), ('nflcirclejerk', 1), ('CB22_W', 1), ('stockings', 1), ('linuxrage', 1), ('Libraries', 1), ('fried', 1), ('ChristianityPolicy', 1), ('uwyo', 1)]\n"
     ]
    }
   ],
   "source": [
    "print(len(sub_count_mr))\n",
    "print(sorted(sub_count_mr, key=lambda sub_cnt: sub_cnt[1], reverse=True))"
   ]
  },
  {
   "cell_type": "code",
   "execution_count": 185,
   "metadata": {},
   "outputs": [
    {
     "name": "stdout",
     "output_type": "stream",
     "text": [
      "+-------------------+-----+\n",
      "|          subreddit|count|\n",
      "+-------------------+-----+\n",
      "|          AskReddit|38907|\n",
      "|               pics|18693|\n",
      "|         reddit.com|16228|\n",
      "|           politics|10680|\n",
      "|             gaming|10358|\n",
      "|              funny| 9590|\n",
      "|               IAmA| 7895|\n",
      "|fffffffuuuuuuuuuuuu| 6876|\n",
      "|            atheism| 6753|\n",
      "|                WTF| 6696|\n",
      "|              trees| 4824|\n",
      "|          worldnews| 4191|\n",
      "|             videos| 3849|\n",
      "|          starcraft| 3246|\n",
      "|        programming| 2715|\n",
      "|      todayilearned| 2622|\n",
      "|            science| 2619|\n",
      "|          Minecraft| 2479|\n",
      "|         technology| 2211|\n",
      "|           gonewild| 1961|\n",
      "+-------------------+-----+\n",
      "only showing top 20 rows\n",
      "\n"
     ]
    }
   ],
   "source": [
    "spark.sql(\"\\\n",
    "SELECT subreddit, COUNT(*) as count \\\n",
    "FROM rc_t \\\n",
    "GROUP BY subreddit \\\n",
    "ORDER BY count DESC\").show()"
   ]
  },
  {
   "cell_type": "code",
   "execution_count": null,
   "metadata": {},
   "outputs": [],
   "source": []
  },
  {
   "cell_type": "code",
   "execution_count": null,
   "metadata": {},
   "outputs": [],
   "source": []
  },
  {
   "cell_type": "code",
   "execution_count": 186,
   "metadata": {},
   "outputs": [
    {
     "data": {
      "text/plain": [
       "[Row(count=4097)]"
      ]
     },
     "execution_count": 186,
     "metadata": {},
     "output_type": "execute_result"
    }
   ],
   "source": [
    "spark.sql(\"\\\n",
    "SELECT COUNT(DISTINCT subreddit) AS count \\\n",
    "FROM rc_t\").collect()"
   ]
  },
  {
   "cell_type": "code",
   "execution_count": 187,
   "metadata": {},
   "outputs": [
    {
     "name": "stdout",
     "output_type": "stream",
     "text": [
      "+-------------------+-----+\n",
      "|          subreddit|count|\n",
      "+-------------------+-----+\n",
      "|          AskReddit|38907|\n",
      "|               pics|18693|\n",
      "|         reddit.com|16228|\n",
      "|           politics|10680|\n",
      "|             gaming|10358|\n",
      "|              funny| 9590|\n",
      "|               IAmA| 7895|\n",
      "|fffffffuuuuuuuuuuuu| 6876|\n",
      "|            atheism| 6753|\n",
      "|                WTF| 6696|\n",
      "|              trees| 4824|\n",
      "|          worldnews| 4191|\n",
      "|             videos| 3849|\n",
      "|          starcraft| 3246|\n",
      "|        programming| 2715|\n",
      "|      todayilearned| 2622|\n",
      "|            science| 2619|\n",
      "|          Minecraft| 2479|\n",
      "|         technology| 2211|\n",
      "|           gonewild| 1961|\n",
      "+-------------------+-----+\n",
      "only showing top 20 rows\n",
      "\n"
     ]
    }
   ],
   "source": [
    "from pyspark.sql import functions as F\n",
    "sub_count = rc_t.groupBy('subreddit').count().orderBy('count', ascending=False)\n",
    "sub_count.show()"
   ]
  },
  {
   "cell_type": "markdown",
   "metadata": {},
   "source": [
    "## Social Network Analysis with Spark\n",
    "\n",
    "We perform analysis on the text of Reddit comments (found in the `body` field) to discover and communities (i.e. `subreddit`s) of interest on the social network. We can calculate established or custom metrics to find, for example, the following:\n",
    "\n",
    "- the most scream-y subreddits (custom metric)\n",
    "- the most positive/negative subreddits (sentiment analysis)\n",
    "- the discussion topics on the subreddits (key terms/tf-idf)"
   ]
  },
  {
   "cell_type": "markdown",
   "metadata": {},
   "source": [
    "### Custom Metric: Screamer Subreddits\n",
    "We find top subreddits for scream-y comments, for when we really want to get something off our chest, by calculating a \"screamer score\" (a metric expressed as the percentage of uppercase letters)."
   ]
  },
  {
   "cell_type": "code",
   "execution_count": 133,
   "metadata": {},
   "outputs": [
    {
     "name": "stdout",
     "output_type": "stream",
     "text": [
      "CPU times: user 50.4 ms, sys: 9.97 ms, total: 60.3 ms\n",
      "Wall time: 59.1 s\n"
     ]
    }
   ],
   "source": [
    "%%time\n",
    "\n",
    "import string\n",
    "\n",
    "def screamer_sub_mapper(comment):\n",
    "    n_upper = len(list(filter(lambda c: c in string.ascii_uppercase, comment['body'])))\n",
    "    n_alpha = len(list(filter(lambda c: c in string.ascii_letters, comment['body'])))\n",
    "    return (comment['subreddit'], (n_upper, n_alpha))\n",
    "\n",
    "def screamer_reducer(value_list):\n",
    "    total_upper = 0\n",
    "    total_alpha = 0\n",
    "    for value in value_list:\n",
    "        (n_upper, n_alpha) = value\n",
    "        total_upper += n_upper\n",
    "        total_alpha += n_alpha\n",
    "    screamer_score = total_upper / total_alpha if total_alpha else 0\n",
    "    return (screamer_score, len(value_list))\n",
    "    \n",
    "screamer_subs = rc_samp.rdd \\\n",
    "    .map(screamer_sub_mapper) \\\n",
    "    .groupByKey() \\\n",
    "    .mapValues(screamer_reducer) \\\n",
    "\n",
    "screamer_subs.cache()"
   ]
  },
  {
   "cell_type": "code",
   "execution_count": 144,
   "metadata": {},
   "outputs": [
    {
     "data": {
      "text/plain": [
       "[('spacedicks', (0.5781305686052163, 1385)),\n",
       " ('circlejerk', (0.18934631577970992, 45861)),\n",
       " ('googleplusinvites', (0.11052298941380945, 1089))]"
      ]
     },
     "execution_count": 144,
     "metadata": {},
     "output_type": "execute_result"
    }
   ],
   "source": [
    "screamer_subs \\\n",
    "    .filter(lambda sub_rval: sub_rval[1][1] > 1000) \\\n",
    "    .sortBy(lambda sub_rval: sub_rval[1][0], False) \\\n",
    "    .take(3)"
   ]
  },
  {
   "cell_type": "markdown",
   "metadata": {},
   "source": [
    "### Sentiment Analysis: Positive/Negative Subreddits\n",
    "\n",
    "We find the most positive and negative subreddits by using [Sentiment Analysis](https://en.wikipedia.org/wiki/Sentiment_analysis) to calculate a sentiment score for each comment, and an average sentiment score for each subreddit."
   ]
  },
  {
   "cell_type": "code",
   "execution_count": 48,
   "metadata": {},
   "outputs": [],
   "source": [
    "import nltk\n",
    "from nltk.sentiment.vader import SentimentIntensityAnalyzer\n",
    "sid = SentimentIntensityAnalyzer()"
   ]
  },
  {
   "cell_type": "code",
   "execution_count": 70,
   "metadata": {},
   "outputs": [],
   "source": [
    "def sentiment_mapper(comment):\n",
    "    # Note: the VADER sentiment analyzer is trained on a single sentence as input\n",
    "    # We take a naive initial approach here and simply treat a comment as single sentence\n",
    "    score = sid.polarity_scores(comment['body'])['compound']\n",
    "    return (comment['subreddit'], score)\n",
    "\n",
    "sentiment = rc_t.rdd \\\n",
    "    .map(sentiment_mapper)"
   ]
  },
  {
   "cell_type": "code",
   "execution_count": 67,
   "metadata": {},
   "outputs": [
    {
     "name": "stdout",
     "output_type": "stream",
     "text": [
      "CPU times: user 95.8 ms, sys: 7.38 ms, total: 103 ms\n",
      "Wall time: 10.1 s\n"
     ]
    }
   ],
   "source": [
    "%%time\n",
    "avg_sentiment = sentiment \\\n",
    "    .mapValues(lambda v: (v, 1)) \\ # score, one\n",
    "    .reduceByKey(lambda a,b: (a[0]+b[0], a[1]+b[1])) \\ # sum(scores), sum(ones)\n",
    "    .mapValues(lambda v: (v[0]/v[1], v[1])) \\ # avg_score=(sum_scores/count), count\n",
    "    .filter(lambda k_v: k_v[1][1] > 1000) \\ # filter by count\n",
    "    .sortBy(lambda k_v: k_v[1][0], False) # sort by avg_score"
   ]
  },
  {
   "cell_type": "code",
   "execution_count": 72,
   "metadata": {},
   "outputs": [
    {
     "data": {
      "text/plain": [
       "[('gonewild', (0.2941499235084141, 1961)),\n",
       " ('Fitness', (0.19091240875912405, 1370)),\n",
       " ('Music', (0.1868072727272727, 1485)),\n",
       " ('mylittlepony', (0.17997485322896284, 1022)),\n",
       " ('TwoXChromosomes', (0.1782817759421786, 1937)),\n",
       " ('Android', (0.1760810091743119, 1090)),\n",
       " ('trees', (0.1685991500829187, 4824)),\n",
       " ('soccer', (0.15145398655139292, 1041)),\n",
       " ('programming', (0.15078088397790054, 2715)),\n",
       " ('leagueoflegends', (0.14420487948265726, 1701))]"
      ]
     },
     "execution_count": 72,
     "metadata": {},
     "output_type": "execute_result"
    }
   ],
   "source": [
    "avg_sentiment.takeOrdered(10, key=lambda k_v: -k_v[1][0]) # take by avg_score desceding"
   ]
  },
  {
   "cell_type": "code",
   "execution_count": 73,
   "metadata": {},
   "outputs": [
    {
     "data": {
      "text/plain": [
       "[('worldnews', (-0.044262133142448104, 4191)),\n",
       " ('WTF', (-0.0032822580645161217, 6696)),\n",
       " ('politics', (-0.0011439325842696566, 10680)),\n",
       " ('Libertarian', (0.02533822091886608, 1023)),\n",
       " ('funny', (0.04700525547445254, 9590)),\n",
       " ('reddit.com', (0.04863151959576039, 16228)),\n",
       " ('fffffffuuuuuuuuuuuu', (0.048675159976730664, 6876)),\n",
       " ('todayilearned', (0.049298474446987046, 2622)),\n",
       " ('guns', (0.05428072390572392, 1188)),\n",
       " ('videos', (0.05748225513120292, 3849))]"
      ]
     },
     "execution_count": 73,
     "metadata": {},
     "output_type": "execute_result"
    }
   ],
   "source": [
    "avg_sentiment.takeOrdered(10, key=lambda k_v: k_v[1][0]) # take by avg_score ascending"
   ]
  },
  {
   "cell_type": "markdown",
   "metadata": {},
   "source": [
    "### Key Terms (TFIDF): Subreddit Discussion Topics\n",
    "We find the key terms through the collection of comments in the dataset to discover a subreddits' discussion topics at the time. To do so, we calculate the Term frequency-Inverse document frequency ([TFIDF](https://en.wikipedia.org/wiki/Tf–idf)) for the subreddit. We can cache each step/Spark job in the pipeline to calculate the successive results more efficiently."
   ]
  },
  {
   "cell_type": "markdown",
   "metadata": {},
   "source": [
    "#### Term Frequency (TF)\n",
    "We calculate the term frequency/count for a subreddit by summing the term frequencies of all comments in the subreddit, treating them collectively as a single 'document' representing that subreddit. \n",
    "\n",
    "We show the frequency of top terms in a subreddit below. "
   ]
  },
  {
   "cell_type": "code",
   "execution_count": null,
   "metadata": {},
   "outputs": [],
   "source": [
    "%%time\n",
    "from collections import Counter\n",
    "import string\n",
    "import nltk\n",
    "\n",
    "def term_freq_mapper(comment):\n",
    "    body = comment['body']\n",
    "#     tokens = nltk.tokenize.word_tokenize(body.lower())\n",
    "    tokens = [word.strip(string.punctuation) for word in body.lower().split()]\n",
    "    counter = Counter(tokens)\n",
    "    return (comment['subreddit'], counter)\n",
    "\n",
    "term_freq = rc_t.rdd \\\n",
    "    .map(term_freq_mapper) \\\n",
    "    .reduceByKey(lambda a,b: a+b)\n",
    "term_freq.cache()"
   ]
  },
  {
   "cell_type": "code",
   "execution_count": 123,
   "metadata": {},
   "outputs": [
    {
     "name": "stdout",
     "output_type": "stream",
     "text": [
      "politics\n",
      "[('the', 21326), ('to', 13160), ('a', 10442), ('of', 9538), ('and', 9389), ('that', 7717), ('is', 7363), ('i', 6311), ('you', 6176), ('in', 6128), ('it', 5226), ('for', 4320), ('are', 3678), ('not', 3626), ('be', 3237), ('have', 3221), ('they', 3160), ('this', 3019), ('on', 2864), ('as', 2696), ('with', 2596), ('but', 2565), ('if', 2421), ('people', 2388), ('was', 2055), ('or', 1942), ('what', 1927), ('we', 1883), ('would', 1872), ('he', 1836), ('just', 1770), ('your', 1741), ('do', 1736), ('all', 1732), ('so', 1685), ('no', 1630), ('about', 1623), (\"don't\", 1580), ('their', 1579), ('like', 1566), (\"it's\", 1563), ('', 1554), ('at', 1530), ('more', 1521), ('by', 1474), ('an', 1473), ('can', 1472), ('who', 1449), ('from', 1444), ('will', 1365)]\n"
     ]
    }
   ],
   "source": [
    "sub_term_freq_res_0 = term_freq.take(1)\n",
    "sub_0 = sub_term_freq_res_0[0]\n",
    "term_freq_res_0 = sub_term_freq_res_0[1]\n",
    "print(sub_0)\n",
    "print(sorted(list(term_freq_res_0.items()), key=lambda t_f:t_f[1], reverse=True)[0:50])"
   ]
  },
  {
   "cell_type": "markdown",
   "metadata": {},
   "source": [
    "#### Inverse Document Frequency (IDF)\n",
    "We calculate inverse document frequency, a 'measure of how much information the word provides, i.e., if it's common or rare across all documents' (Wikipedia). To do so, we must first calculate the:\n",
    "- document frequency \n",
    "- number of documents"
   ]
  },
  {
   "cell_type": "markdown",
   "metadata": {},
   "source": [
    "##### Document Frequency\n",
    "We calculate the terms' document frequency (i.e. how common the word is) as the number of 'documents' (subreddits) the word appears in. "
   ]
  },
  {
   "cell_type": "code",
   "execution_count": null,
   "metadata": {},
   "outputs": [],
   "source": [
    "%%time\n",
    "\n",
    "doc_freq = term_freq \\\n",
    "    .flatMap(lambda sub_counter: list(sub_counter[1])) \\\n",
    "    .map(lambda word: (word, 1)) \\\n",
    "    .reduceByKey(lambda a, b: a + b) \\\n",
    "    .sortBy(lambda word_docfreq: word_docfreq[1], False)\n",
    "doc_freq.cache()"
   ]
  },
  {
   "cell_type": "markdown",
   "metadata": {},
   "source": [
    "We show the some of the most common words with their document frequencies below."
   ]
  },
  {
   "cell_type": "code",
   "execution_count": 4,
   "metadata": {},
   "outputs": [
    {
     "name": "stdout",
     "output_type": "stream",
     "text": [
      "[('the', 2818), ('i', 2677), ('a', 2612), ('to', 2601), ('and', 2404), ('of', 2290), ('is', 2232), ('it', 2216), ('you', 2186), ('that', 2148), ('in', 2148), ('for', 2087), ('this', 1938), ('but', 1852), ('on', 1840), ('have', 1805), ('be', 1792), ('with', 1700), ('not', 1666), ('are', 1647), ('if', 1646), ('my', 1588), ('just', 1588), ('so', 1560), ('like', 1519), ('as', 1484), ('was', 1477), ('', 1468), ('at', 1468), ('or', 1464), ('can', 1420), (\"it's\", 1409), (\"i'm\", 1375), ('they', 1373), ('do', 1359), ('one', 1358), ('what', 1355), ('all', 1349), ('me', 1344), ('out', 1340), ('from', 1325), ('get', 1323), ('your', 1314), ('about', 1311), ('there', 1309), ('deleted', 1303), ('up', 1296), ('would', 1283), ('an', 1279), (\"don't\", 1264)]\n",
      "CPU times: user 151 ms, sys: 20.2 ms, total: 171 ms\n",
      "Wall time: 1.5 s\n"
     ]
    }
   ],
   "source": [
    "print(doc_freq.collect()[0:50])"
   ]
  },
  {
   "cell_type": "markdown",
   "metadata": {},
   "source": [
    "##### Number of Documents\n",
    "We get the number of 'documents' in the 'corpus', i.e. the number of subreddits (in the dataset sample). This will be used to calculate the 'inverse document frequency' in the next step."
   ]
  },
  {
   "cell_type": "code",
   "execution_count": 3,
   "metadata": {},
   "outputs": [
    {
     "name": "stdout",
     "output_type": "stream",
     "text": [
      "4097\n",
      "CPU times: user 14.4 ms, sys: 5.29 ms, total: 19.7 ms\n",
      "Wall time: 200 ms\n"
     ]
    }
   ],
   "source": [
    "%%time\n",
    "num_docs = term_freq.count()\n",
    "print(num_docs)"
   ]
  },
  {
   "cell_type": "markdown",
   "metadata": {},
   "source": [
    "##### Inverse Document Frequency\n",
    "Now, we calculate the inverse document frequency (the logarithmically scaled inverse fraction of the documents that contain the word)."
   ]
  },
  {
   "cell_type": "code",
   "execution_count": null,
   "metadata": {},
   "outputs": [],
   "source": [
    "%%time\n",
    "import math\n",
    "\n",
    "inv_doc_freq = doc_freq \\\n",
    "    .map(lambda t_df: (t_df[0], math.log(num_docs / t_df[1]))) \\\n",
    "    .sortBy(lambda t_idf: t_idf[1], True)\n",
    "inv_doc_freq.cache()"
   ]
  },
  {
   "cell_type": "markdown",
   "metadata": {},
   "source": [
    "We show some of the least informative words with their IDF metric below."
   ]
  },
  {
   "cell_type": "code",
   "execution_count": 5,
   "metadata": {},
   "outputs": [
    {
     "name": "stdout",
     "output_type": "stream",
     "text": [
      "[('the', 0.3742275850882455), ('i', 0.4255582340265186), ('a', 0.45013878715054945), ('to', 0.4543590120982195), ('and', 0.5331209818917729), ('of', 0.5817031809985858), ('is', 0.6073569540456695), ('it', 0.6145512296796967), ('you', 0.6281816088103872), ('that', 0.6457178219181158), ('in', 0.6457178219181158), ('for', 0.6745273704696704), ('this', 0.7485984850961596), ('but', 0.7939888623407463), ('on', 0.8004894269438397), ('have', 0.8196944067798898), ('be', 0.8269226840119954), ('with', 0.8796267475025636), ('not', 0.899829454820083), ('are', 0.9112995473692307), ('if', 0.911906896309856), ('my', 0.94777963573979), ('just', 0.94777963573979), ('so', 0.9655691773032884), ('like', 0.9922027749510982), ('as', 1.0155138538195454), ('was', 1.0202419950154913), ('', 1.0263540683724102), ('at', 1.0263540683724102), ('or', 1.0290825830256143), ('can', 1.0595981269515646), (\"it's\", 1.067374765648191), (\"i'm\", 1.0918012674461994), ('they', 1.0932568717789), ('do', 1.1035058633957273), ('one', 1.1042419694282297), ('what', 1.1064535442330699), ('all', 1.1108914213391152), ('me', 1.1146047564637762), ('out', 1.117585384601914), ('from', 1.1288425391265486), ('get', 1.1303531134319154), ('your', 1.1371790785023153), ('about', 1.1394647937831712), ('there', 1.140991511636971), ('deleted', 1.145585700422026), ('up', 1.1509724006346511), ('would', 1.1610539129312345), ('an', 1.1641764759680284), (\"don't\", 1.1759737028400683)]\n",
      "CPU times: user 103 ms, sys: 25.3 ms, total: 129 ms\n",
      "Wall time: 1.15 s\n"
     ]
    }
   ],
   "source": [
    "inv_doc_freq_res = inv_doc_freq.collect();\n",
    "print(inv_doc_freq_res[0:50])"
   ]
  },
  {
   "cell_type": "markdown",
   "metadata": {},
   "source": [
    "#### Term Frequency - Inverse Document Frequency (TFIDF)\n",
    "Finally, we find the TFIDF metric for a specified document (subreddit) by multiplying the frequency of each term by the term's inverse document frequency.\n",
    "\n",
    "We show some of top terms for chosen subreddits below:"
   ]
  },
  {
   "cell_type": "code",
   "execution_count": 125,
   "metadata": {},
   "outputs": [
    {
     "name": "stdout",
     "output_type": "stream",
     "text": [
      "politics\n",
      "[('the', 21326), ('to', 13160), ('a', 10442), ('of', 9538), ('and', 9389), ('that', 7717), ('is', 7363), ('i', 6311), ('you', 6176), ('in', 6128), ('it', 5226), ('for', 4320), ('are', 3678), ('not', 3626), ('be', 3237), ('have', 3221), ('they', 3160), ('this', 3019), ('on', 2864), ('as', 2696), ('with', 2596), ('but', 2565), ('if', 2421), ('people', 2388), ('was', 2055), ('or', 1942), ('what', 1927), ('we', 1883), ('would', 1872), ('he', 1836), ('just', 1770), ('your', 1741), ('do', 1736), ('all', 1732), ('so', 1685), ('no', 1630), ('about', 1623), (\"don't\", 1580), ('their', 1579), ('like', 1566), (\"it's\", 1563), ('', 1554), ('at', 1530), ('more', 1521), ('by', 1474), ('an', 1473), ('can', 1472), ('who', 1449), ('from', 1444), ('will', 1365)]\n",
      "CPU times: user 27.5 ms, sys: 5.58 ms, total: 33.1 ms\n",
      "Wall time: 368 ms\n"
     ]
    }
   ],
   "source": [
    "%%time\n",
    "sub_1 = 'politics'\n",
    "term_freq_res_1 = term_freq.sortByKey().lookup(sub_1)[0]\n",
    "print(sub_1)\n",
    "print(sorted(list(term_freq_res_1.items()), key=lambda t_f:t_f[1], reverse=True)[0:50])"
   ]
  },
  {
   "cell_type": "code",
   "execution_count": 126,
   "metadata": {},
   "outputs": [
    {
     "name": "stdout",
     "output_type": "stream",
     "text": [
      "programming\n",
      "[('the', 4242), ('to', 2970), ('a', 2631), ('of', 2040), ('and', 2008), ('i', 1859), ('is', 1834), ('that', 1759), ('it', 1662), ('you', 1592), ('in', 1357), ('for', 1130), ('', 915), ('with', 786), ('not', 777), ('be', 776), ('but', 767), ('have', 722), ('on', 719), ('this', 710), ('are', 692), ('as', 626), ('if', 615), ('or', 517), ('can', 495), (\"it's\", 488), ('just', 466), ('they', 445), ('like', 442), ('so', 433), ('an', 431), ('your', 429), ('was', 428), ('do', 414), ('my', 399), (\"don't\", 398), ('what', 398), ('at', 378), ('all', 360), ('use', 352), ('would', 337), ('more', 337), ('from', 326), ('gt', 326), ('about', 322), ('some', 298), ('there', 291), (\"i'm\", 290), ('one', 289), ('when', 285)]\n",
      "CPU times: user 20 ms, sys: 3.16 ms, total: 23.2 ms\n",
      "Wall time: 332 ms\n"
     ]
    }
   ],
   "source": [
    "%%time\n",
    "sub_2 = 'programming'\n",
    "term_freq_res_2 = term_freq.sortByKey().lookup(sub_2)[0]\n",
    "print(sub_2)\n",
    "print(sorted(list(term_freq_res_2.items()), key=lambda t_f:t_f[1], reverse=True)[0:50])"
   ]
  },
  {
   "cell_type": "code",
   "execution_count": 69,
   "metadata": {},
   "outputs": [
    {
     "data": {
      "text/plain": [
       "{'the': 0.3742275850882455,\n",
       " 'i': 0.4255582340265186,\n",
       " 'a': 0.45013878715054945,\n",
       " 'to': 0.4543590120982195,\n",
       " 'and': 0.5331209818917729,\n",
       " 'of': 0.5817031809985858,\n",
       " 'is': 0.6073569540456695,\n",
       " 'it': 0.6145512296796967,\n",
       " 'you': 0.6281816088103872,\n",
       " 'in': 0.6457178219181158,\n",
       " 'that': 0.6457178219181158,\n",
       " 'for': 0.6745273704696704,\n",
       " 'this': 0.7485984850961596,\n",
       " 'but': 0.7939888623407463,\n",
       " 'on': 0.8004894269438397,\n",
       " 'have': 0.8196944067798898,\n",
       " 'be': 0.8269226840119954,\n",
       " 'with': 0.8796267475025636,\n",
       " 'not': 0.899829454820083,\n",
       " 'are': 0.9112995473692307,\n",
       " 'if': 0.911906896309856,\n",
       " 'my': 0.94777963573979,\n",
       " 'just': 0.94777963573979,\n",
       " 'so': 0.9655691773032884,\n",
       " 'like': 0.9922027749510982,\n",
       " 'as': 1.0155138538195454,\n",
       " 'was': 1.0202419950154913,\n",
       " '': 1.0263540683724102,\n",
       " 'at': 1.0263540683724102,\n",
       " 'or': 1.0290825830256143,\n",
       " 'can': 1.0595981269515646,\n",
       " \"it's\": 1.067374765648191,\n",
       " \"i'm\": 1.0918012674461994,\n",
       " 'they': 1.0932568717789,\n",
       " 'do': 1.1035058633957273,\n",
       " 'one': 1.1042419694282297,\n",
       " 'what': 1.1064535442330699,\n",
       " 'all': 1.1108914213391152,\n",
       " 'me': 1.1146047564637762,\n",
       " 'out': 1.117585384601914,\n",
       " 'from': 1.1288425391265486,\n",
       " 'get': 1.1303531134319154,\n",
       " 'your': 1.1371790785023153,\n",
       " 'about': 1.1394647937831712,\n",
       " 'there': 1.140991511636971,\n",
       " 'deleted': 1.145585700422026,\n",
       " 'up': 1.1509724006346511,\n",
       " 'would': 1.1610539129312345,\n",
       " 'an': 1.1641764759680284,\n",
       " \"don't\": 1.1759737028400683,\n",
       " 'more': 1.1943374923422638,\n",
       " 'will': 1.2089481418596988,\n",
       " 'some': 1.2163343059274274,\n",
       " 'good': 1.2262681624517182,\n",
       " 'think': 1.233783855448955,\n",
       " 'when': 1.2515433074099132,\n",
       " 'no': 1.2687554362910345,\n",
       " 'really': 1.2731051604175003,\n",
       " 'time': 1.2906957635070948,\n",
       " 'know': 1.297819569234946,\n",
       " 'how': 1.306796290196504,\n",
       " 'also': 1.3131282878340111,\n",
       " 'them': 1.3249951546139105,\n",
       " 'has': 1.3454040262451177,\n",
       " 'people': 1.3472801994033456,\n",
       " 'by': 1.3510431389328879,\n",
       " 'only': 1.3652816329220028,\n",
       " 'see': 1.367195509104287,\n",
       " 'we': 1.3681538225460985,\n",
       " 'much': 1.3691130552335589,\n",
       " 'well': 1.393397881498311,\n",
       " 'go': 1.405267457053695,\n",
       " 'then': 1.4072594895849355,\n",
       " 'because': 1.4142630199622728,\n",
       " 'now': 1.437626195360866,\n",
       " 'any': 1.438654473086432,\n",
       " 'been': 1.441745665656105,\n",
       " 'too': 1.4438117820935767,\n",
       " 'other': 1.4542068860939168,\n",
       " \"i've\": 1.4604962150014806,\n",
       " 'make': 1.4604962150014806,\n",
       " 'than': 1.4657677084949927,\n",
       " 'want': 1.4721304022828214,\n",
       " 'way': 1.4742603285406466,\n",
       " 'going': 1.4763948010692791,\n",
       " 'had': 1.4806774628612798,\n",
       " 'could': 1.4849785447606705,\n",
       " 'should': 1.493636607503785,\n",
       " 'very': 1.493636607503785,\n",
       " 'here': 1.493636607503785,\n",
       " 'even': 1.5012743969519027,\n",
       " \"that's\": 1.5167272430752508,\n",
       " \"you're\": 1.5245441449668617,\n",
       " 'sure': 1.5290385345547008,\n",
       " 'their': 1.5301652952372917,\n",
       " 'who': 1.534685076942911,\n",
       " 'he': 1.5358182215400797,\n",
       " 'though': 1.550667152281479,\n",
       " 'into': 1.5564375087428155,\n",
       " 'which': 1.5564375087428155,\n",
       " 'right': 1.5564375087428155,\n",
       " 'something': 1.5622413555626156,\n",
       " 'where': 1.5680790837583012,\n",
       " 'still': 1.572773928062509,\n",
       " 'most': 1.579857782950914,\n",
       " 'great': 1.583418617573923,\n",
       " 'pretty': 1.5846083857095117,\n",
       " 'work': 1.5893816644621694,\n",
       " 'first': 1.5953804826914229,\n",
       " 'did': 1.613595922582764,\n",
       " 'need': 1.6185099373851932,\n",
       " 'got': 1.6222113604883794,\n",
       " 'thanks': 1.6234482190257757,\n",
       " 'back': 1.6234482190257757,\n",
       " 'lot': 1.6309016696803567,\n",
       " 'were': 1.6434488857324452,\n",
       " 'same': 1.6472439567009969,\n",
       " 'use': 1.6472439567009969,\n",
       " 'say': 1.6510534851176644,\n",
       " 'why': 1.65615553700156,\n",
       " 'take': 1.6587163578632336,\n",
       " 'those': 1.6625699271792236,\n",
       " \"can't\": 1.6638577573636524,\n",
       " 'after': 1.665147248193524,\n",
       " 'actually': 1.666438403957144,\n",
       " 'am': 1.667731228959449,\n",
       " 'find': 1.6703219039835415,\n",
       " 'over': 1.6755234761796147,\n",
       " 'off': 1.6768281078062797,\n",
       " 'thing': 1.6860085001512413,\n",
       " 'look': 1.6860085001512413,\n",
       " 'better': 1.6886470241094222,\n",
       " 'being': 1.689968901367338,\n",
       " 'down': 1.7086610343794908,\n",
       " 'never': 1.7140664529463985,\n",
       " 'these': 1.7235968177970926,\n",
       " 'its': 1.724965743404434,\n",
       " 'things': 1.726336545538213,\n",
       " 'new': 1.7290838000133517,\n",
       " 'probably': 1.7346010553881064,\n",
       " 'love': 1.7359851386540448,\n",
       " 'his': 1.7373711402619219,\n",
       " 'might': 1.7387590655367702,\n",
       " \"i'll\": 1.7429344369472508,\n",
       " 'around': 1.7443301105862254,\n",
       " \"didn't\": 1.7457277348528635,\n",
       " 'try': 1.7457277348528635,\n",
       " 'before': 1.7612319213888286,\n",
       " 'does': 1.7626533857362061,\n",
       " 'always': 1.7683595353130608,\n",
       " 'anything': 1.7755383170400665,\n",
       " 'best': 1.7784243219292015,\n",
       " \"doesn't\": 1.7798704537792012,\n",
       " \"i'd\": 1.7842214396135274,\n",
       " 'few': 1.7842214396135274,\n",
       " 'two': 1.792980619703409,\n",
       " 'maybe': 1.800339004634596,\n",
       " 'while': 1.801817201503907,\n",
       " 'many': 1.804780166634564,\n",
       " 'someone': 1.8062649479021433,\n",
       " 'little': 1.8122262174186428,\n",
       " 'getting': 1.816720607006482,\n",
       " 'said': 1.8288053462215539,\n",
       " 'doing': 1.8303262590622604,\n",
       " 'yeah': 1.8395006353383019,\n",
       " 'made': 1.842577560842781,\n",
       " 'since': 1.8534219738569098,\n",
       " \"isn't\": 1.8596719942020812,\n",
       " '2': 1.8612406219747077,\n",
       " 'every': 1.8612406219747077,\n",
       " 'may': 1.8691208834000137,\n",
       " 'through': 1.870704415005658,\n",
       " 'long': 1.8738790208464304,\n",
       " 'nice': 1.8754701110786725,\n",
       " 'used': 1.8802586278104696,\n",
       " 'years': 1.8802586278104696,\n",
       " 'point': 1.8818599091774435,\n",
       " \"there's\": 1.8850701848076916,\n",
       " 'year': 1.8882907995077338,\n",
       " 'give': 1.889905004862275,\n",
       " 'enough': 1.9029133183752758,\n",
       " 'him': 1.907835395580704,\n",
       " 'bit': 1.907835395580704,\n",
       " 'day': 1.9094814864873728,\n",
       " 'bad': 1.914436079612056,\n",
       " 'us': 1.914436079612056,\n",
       " 'come': 1.91775283223805,\n",
       " 'feel': 1.9210806223307246,\n",
       " 'last': 1.9210806223307246,\n",
       " 'thought': 1.936194260140773,\n",
       " 'put': 1.9412833296482441,\n",
       " 'again': 1.9463984303150146,\n",
       " 'stuff': 1.948109294718644,\n",
       " 'ever': 1.95325952069496,\n",
       " 'keep': 1.95325952069496,\n",
       " 'different': 1.9567077999738758,\n",
       " 'looking': 1.9653808812273048,\n",
       " 'awesome': 1.9653808812273048,\n",
       " 'yes': 1.9653808812273048,\n",
       " 'idea': 1.9671245608321315,\n",
       " 'part': 1.9671245608321315,\n",
       " 'another': 1.9688712861670732,\n",
       " 'post': 1.9688712861670732,\n",
       " 'help': 1.9688712861670732,\n",
       " 'place': 1.9723739167182752,\n",
       " 'least': 1.9723739167182752,\n",
       " 'makes': 1.97412984342054,\n",
       " 'big': 1.979416199343688,\n",
       " 'seems': 1.9847306494071806,\n",
       " 'trying': 1.98650842765318,\n",
       " 'our': 1.98650842765318,\n",
       " 'kind': 1.9900734938176763,\n",
       " 'both': 1.9900734938176763,\n",
       " 'already': 1.991860804391772,\n",
       " 'done': 1.9936513151655602,\n",
       " 'oh': 1.9954450376195871,\n",
       " 'once': 1.9954450376195871,\n",
       " 'far': 2.0026522760245364,\n",
       " 'having': 2.004462231269776,\n",
       " 'end': 2.0062754683939565,\n",
       " 'next': 2.0117349905988555,\n",
       " 'either': 2.01356147512489,\n",
       " 'start': 2.0153913018019662,\n",
       " '1': 2.0153913018019662,\n",
       " 'without': 2.0209009576129358,\n",
       " 'using': 2.0245909987003894,\n",
       " 'looks': 2.026441137988551,\n",
       " 'own': 2.0301517173850865,\n",
       " '3': 2.0301517173850865,\n",
       " 'mean': 2.0357435306508647,\n",
       " 'hard': 2.0376144385866763,\n",
       " 'shit': 2.0394888533810267,\n",
       " \"they're\": 2.043248256304932,\n",
       " 'problem': 2.043248256304932,\n",
       " 'let': 2.0470218456885716,\n",
       " 'else': 2.050809729005509,\n",
       " 'read': 2.0527090648091613,\n",
       " 'anyone': 2.0527090648091613,\n",
       " 'definitely': 2.0546120149552474,\n",
       " 'until': 2.0546120149552474,\n",
       " 'such': 2.0546120149552474,\n",
       " 'able': 2.056518593225829,\n",
       " 'nothing': 2.0603426896642323,\n",
       " 'guy': 2.069967403038442,\n",
       " 'tell': 2.069967403038442,\n",
       " 'reason': 2.075787012091706,\n",
       " 'check': 2.075787012091706,\n",
       " 'edit': 2.0816406873431665,\n",
       " 'her': 2.089499273955688,\n",
       " 'etc': 2.0914736082594056,\n",
       " 'quite': 2.0974201074471317,\n",
       " 'live': 2.1014041764620064,\n",
       " 'life': 2.1034021791246795,\n",
       " 'found': 2.1034021791246795,\n",
       " 'she': 2.1054041817953526,\n",
       " 'everything': 2.1054041817953526,\n",
       " 'seen': 2.1134525149781807,\n",
       " 'man': 2.1134525149781807,\n",
       " 'old': 2.125647788071999,\n",
       " 'everyone': 2.125647788071999,\n",
       " 'guess': 2.1297461544642813,\n",
       " 'gt': 2.1318016536463773,\n",
       " 'game': 2.1318016536463773,\n",
       " 'times': 2.133861386609388,\n",
       " 'however': 2.1359253708302393,\n",
       " \"wouldn't\": 2.1442241736449343,\n",
       " 'yet': 2.148399545055415,\n",
       " 'less': 2.148399545055415,\n",
       " 'hope': 2.152592423315451,\n",
       " 'away': 2.152592423315451,\n",
       " 'real': 2.15469547351223,\n",
       " 'cool': 2.158914889054938,\n",
       " 'play': 2.1610312919613155,\n",
       " 'money': 2.1631521835304532,\n",
       " 'reddit': 2.1631521835304532,\n",
       " 'each': 2.1631521835304532,\n",
       " 'sorry': 2.1631521835304532,\n",
       " 'thank': 2.1674075091005918,\n",
       " 'whole': 2.1695419816292243,\n",
       " 'making': 2.1716810198779735,\n",
       " 'wrong': 2.1759728719595146,\n",
       " 'free': 2.1781257253206157,\n",
       " 'show': 2.180283223460637,\n",
       " 'fun': 2.1824453864651323,\n",
       " 'mind': 2.1824453864651323,\n",
       " 'remember': 2.1933268866526663,\n",
       " 'went': 2.1977128585959207,\n",
       " \"you'll\": 2.199913079505523,\n",
       " 'agree': 2.202118152063837,\n",
       " 'saying': 2.20432809771464,\n",
       " 'case': 2.2065429380441928,\n",
       " 'almost': 2.208762694782506,\n",
       " 'sounds': 2.215451682933302,\n",
       " 'between': 2.215451682933302,\n",
       " 'world': 2.217691325526807,\n",
       " 'guys': 2.217691325526807,\n",
       " 'works': 2.219935995380631,\n",
       " 'understand': 2.2221857151146462,\n",
       " 'ago': 2.2221857151146462,\n",
       " 'believe': 2.2244405075017353,\n",
       " \"won't\": 2.226700395469173,\n",
       " '4': 2.226700395469173,\n",
       " 'person': 2.226700395469173,\n",
       " 'high': 2.226700395469173,\n",
       " \"haven't\": 2.228965402100025,\n",
       " \"he's\": 2.228965402100025,\n",
       " '5': 2.235791367170425,\n",
       " 'set': 2.238077082451281,\n",
       " \"aren't\": 2.242664246458187,\n",
       " \"wasn't\": 2.2449657434464663,\n",
       " 'please': 2.2472725495443813,\n",
       " 'especially': 2.2495846893027607,\n",
       " 'small': 2.251902187443123,\n",
       " 'job': 2.254225068859263,\n",
       " 'usually': 2.254225068859263,\n",
       " 'rather': 2.256553358618854,\n",
       " 'fuck': 2.2588870819650744,\n",
       " 'couple': 2.2612262643182466,\n",
       " 'top': 2.2635709312775005,\n",
       " 'fact': 2.2635709312775005,\n",
       " 'instead': 2.2682768223149132,\n",
       " 'second': 2.2730049635108593,\n",
       " 'run': 2.27537744386449,\n",
       " 'worth': 2.277755566269457,\n",
       " 'exactly': 2.277755566269457,\n",
       " 'true': 2.280139357624733,\n",
       " 'seem': 2.2849240557480694,\n",
       " 'myself': 2.2873250172856077,\n",
       " 'buy': 2.2897317573161726,\n",
       " 'full': 2.2994170630506363,\n",
       " 'course': 2.3018531178485175,\n",
       " 'days': 2.3067431031427095,\n",
       " 'fine': 2.3067431031427095,\n",
       " 'gets': 2.3067431031427095,\n",
       " 'link': 2.3067431031427095,\n",
       " 'working': 2.3116571179451384,\n",
       " 'add': 2.3141232104403318,\n",
       " 'name': 2.319073715600188,\n",
       " 'started': 2.32155818892785,\n",
       " 'ones': 2.32155818892785,\n",
       " 'heard': 2.32155818892785,\n",
       " 'comes': 2.32155818892785,\n",
       " 'saw': 2.3265457304388892,\n",
       " 'others': 2.3290488606570077,\n",
       " 'interesting': 2.3290488606570077,\n",
       " 'friends': 2.3290488606570077,\n",
       " 'd': 2.3315582722624333,\n",
       " 'completely': 2.3315582722624333,\n",
       " 'means': 2.3365960662923904,\n",
       " 'week': 2.3365960662923904,\n",
       " 'thinking': 2.3391245126457494,\n",
       " 'change': 2.341659368248937,\n",
       " 'came': 2.341659368248937,\n",
       " 'left': 2.3442006656776098,\n",
       " 'question': 2.3442006656776098,\n",
       " 'side': 2.3442006656776098,\n",
       " 'ask': 2.3467484377564087,\n",
       " 'talking': 2.3467484377564087,\n",
       " 'call': 2.349302717561505,\n",
       " 'night': 2.3544309339284246,\n",
       " 'home': 2.3544309339284246,\n",
       " 'tried': 2.3544309339284246,\n",
       " 'must': 2.3570049379235978,\n",
       " 'under': 2.3595855845170894,\n",
       " 'yourself': 2.3621729080820404,\n",
       " 'wait': 2.3647669432590868,\n",
       " 'sort': 2.3673677249591445,\n",
       " 'often': 2.3725896689402957,\n",
       " 'took': 2.37521090242017,\n",
       " 'fucking': 2.37783902482644,\n",
       " 'stop': 2.3804740724644446,\n",
       " \"you've\": 2.3831160819272834,\n",
       " 'easy': 2.3831160819272834,\n",
       " 'care': 2.3831160819272834,\n",
       " '10': 2.3831160819272834,\n",
       " 'possible': 2.3857650900988605,\n",
       " 'ok': 2.3857650900988605,\n",
       " 'similar': 2.3884211341569763,\n",
       " 'goes': 2.3884211341569763,\n",
       " 'experience': 2.3884211341569763,\n",
       " 'wanted': 2.3884211341569763,\n",
       " 'lol': 2.3910842515764603,\n",
       " 'hear': 2.393754480132339,\n",
       " 'sense': 2.3964318579030555,\n",
       " 'called': 2.3991164232737243,\n",
       " 'matter': 2.3991164232737243,\n",
       " 'happy': 2.401808214939436,\n",
       " 'unless': 2.40992733937794,\n",
       " 'whatever': 2.40992733937794,\n",
       " 'system': 2.4126484294923007,\n",
       " 'against': 2.4153769441455046,\n",
       " 'wish': 2.4153769441455046,\n",
       " 'anyway': 2.4153769441455046,\n",
       " \"we're\": 2.4208564099101304,\n",
       " 'pay': 2.4208564099101304,\n",
       " 'taking': 2.4208564099101304,\n",
       " 'friend': 2.4236074432820205,\n",
       " 'coming': 2.4236074432820205,\n",
       " 'amazing': 2.4263660657211,\n",
       " 'open': 2.4291323192139904,\n",
       " 'hell': 2.4319062460967156,\n",
       " 'needs': 2.4374772911461706,\n",
       " 'line': 2.4430795466948405,\n",
       " 'comment': 2.4458924880714554,\n",
       " 'learn': 2.4487133644130967,\n",
       " 'school': 2.4515422206135744,\n",
       " 'basically': 2.4515422206135744,\n",
       " 'video': 2.4543791019487737,\n",
       " 'past': 2.4543791019487737,\n",
       " 'head': 2.4543791019487737,\n",
       " 'close': 2.457224054081005,\n",
       " 'based': 2.460077123063412,\n",
       " \"what's\": 2.460077123063412,\n",
       " 'talk': 2.460077123063412,\n",
       " 'damn': 2.462938355344444,\n",
       " 'interested': 2.465807797772397,\n",
       " 'deal': 2.465807797772397,\n",
       " 'half': 2.4686854976000117,\n",
       " 'today': 2.4686854976000117,\n",
       " 'move': 2.4715715024891467,\n",
       " 'level': 2.4715715024891467,\n",
       " 'wow': 2.4715715024891467,\n",
       " 'rest': 2.474465860515511,\n",
       " 'hate': 2.477368620173473,\n",
       " 'seriously': 2.4831995404842657,\n",
       " 'sometimes': 2.4831995404842657,\n",
       " 'issue': 2.4861278002633544,\n",
       " 'months': 2.4861278002633544,\n",
       " 'says': 2.4861278002633544,\n",
       " 'likely': 2.489064659936664,\n",
       " 'during': 2.4920101701664206,\n",
       " 'type': 2.4920101701664206,\n",
       " 'p': 2.4920101701664206,\n",
       " 'important': 2.494964382063852,\n",
       " 'number': 2.500899117583667,\n",
       " 'haha': 2.500899117583667,\n",
       " 'sound': 2.5038797457218047,\n",
       " 'enjoy': 2.5068692845701706,\n",
       " 'god': 2.5068692845701706,\n",
       " 'mine': 2.5128753086303823,\n",
       " 'later': 2.5128753086303823,\n",
       " 'power': 2.515891902169808,\n",
       " 'although': 2.515891902169808,\n",
       " 'three': 2.5189176230863453,\n",
       " 'leave': 2.521952526781499,\n",
       " \"couldn't\": 2.5280501066496175,\n",
       " 'example': 2.531112896180163,\n",
       " 'happen': 2.537266761754542,\n",
       " 'list': 2.537266761754542,\n",
       " 'together': 2.537266761754542,\n",
       " 'hit': 2.5403579543242145,\n",
       " 'absolutely': 2.543458732002463,\n",
       " 'single': 2.546569154416855,\n",
       " 'reading': 2.546569154416855,\n",
       " '6': 2.546569154416855,\n",
       " 'huge': 2.549689281753099,\n",
       " 'playing': 2.549689281753099,\n",
       " 'story': 2.5528191747620266,\n",
       " 'watch': 2.5559588947666945,\n",
       " 'hours': 2.5559588947666945,\n",
       " 'totally': 2.5591085036695906,\n",
       " 'posted': 2.5591085036695906,\n",
       " 'area': 2.565437638721238,\n",
       " 'luck': 2.565437638721238,\n",
       " 'order': 2.568617291638618,\n",
       " 'simply': 2.571807087006718,\n",
       " 'state': 2.575007089737389,\n",
       " 'games': 2.578217365367637,\n",
       " 'hand': 2.578217365367637,\n",
       " 'seeing': 2.581437980067679,\n",
       " 'information': 2.5846690006491255,\n",
       " 'subreddit': 2.5879104945732965,\n",
       " 'favorite': 2.5911625299596737,\n",
       " 'hey': 2.5911625299596737,\n",
       " 'personally': 2.5911625299596737,\n",
       " 'soon': 2.5944251755944903,\n",
       " '20': 2.5976985009394595,\n",
       " 'running': 2.5976985009394595,\n",
       " 'lots': 2.6009825761406495,\n",
       " 'turn': 2.6009825761406495,\n",
       " 'along': 2.6009825761406495,\n",
       " 'problems': 2.6009825761406495,\n",
       " 'house': 2.6042774720375017,\n",
       " 'general': 2.6042774720375017,\n",
       " 'large': 2.6075832601720013,\n",
       " 'become': 2.6075832601720013,\n",
       " 'takes': 2.6075832601720013,\n",
       " 'issues': 2.610900012797995,\n",
       " 'except': 2.610900012797995,\n",
       " 'difference': 2.610900012797995,\n",
       " 'plan': 2.61422780289067,\n",
       " '100': 2.6175667041561845,\n",
       " 'amount': 2.6175667041561845,\n",
       " 'obviously': 2.6175667041561845,\n",
       " 'whether': 2.6209167910414664,\n",
       " 'given': 2.6209167910414664,\n",
       " 'lost': 2.6242781387441716,\n",
       " 'short': 2.6242781387441716,\n",
       " \"you'd\": 2.6242781387441716,\n",
       " 'face': 2.6242781387441716,\n",
       " 'original': 2.627650823222811,\n",
       " 'picture': 2.627650823222811,\n",
       " 'looked': 2.627650823222811,\n",
       " 'entire': 2.627650823222811,\n",
       " 'site': 2.631034921207051,\n",
       " 'behind': 2.631034921207051,\n",
       " 'outside': 2.631034921207051,\n",
       " 'honestly': 2.631034921207051,\n",
       " 'class': 2.631034921207051,\n",
       " 'recommend': 2.6344305102081895,\n",
       " 'mostly': 2.6344305102081895,\n",
       " 'version': 2.6344305102081895,\n",
       " 'minutes': 2.6344305102081895,\n",
       " 'bring': 2.6378376685298037,\n",
       " 'above': 2.641256475278589,\n",
       " 'plus': 2.641256475278589,\n",
       " 'internet': 2.6446870103753786,\n",
       " 'told': 2.6481293545663513,\n",
       " 'support': 2.6481293545663513,\n",
       " 'happened': 2.651583589434439,\n",
       " 'due': 2.651583589434439,\n",
       " 'chance': 2.651583589434439,\n",
       " 'local': 2.651583589434439,\n",
       " 'pick': 2.651583589434439,\n",
       " 'stay': 2.651583589434439,\n",
       " \"here's\": 2.651583589434439,\n",
       " 'month': 2.6550497974109253,\n",
       " 'word': 2.6550497974109253,\n",
       " 'consider': 2.65852806178725,\n",
       " 'thread': 2.6620184667270186,\n",
       " 'easily': 2.6620184667270186,\n",
       " 'book': 2.6655210972782206,\n",
       " 'group': 2.6655210972782206,\n",
       " 'certainly': 2.6655210972782206,\n",
       " 'article': 2.6655210972782206,\n",
       " 'bunch': 2.669036039385665,\n",
       " 'wants': 2.669036039385665,\n",
       " 'actual': 2.669036039385665,\n",
       " 'im': 2.669036039385665,\n",
       " 'stupid': 2.669036039385665,\n",
       " 'somewhere': 2.669036039385665,\n",
       " 'room': 2.6725633799036332,\n",
       " 'food': 2.6725633799036332,\n",
       " 'amp': 2.6725633799036332,\n",
       " 'black': 2.6761032066087576,\n",
       " 'answer': 2.6761032066087576,\n",
       " 'opinion': 2.679655608213125,\n",
       " 'front': 2.679655608213125,\n",
       " 'current': 2.6832206743776217,\n",
       " 'certain': 2.6832206743776217,\n",
       " 'worked': 2.6832206743776217,\n",
       " 'decent': 2.6867984957255056,\n",
       " 'otherwise': 2.690389163856234,\n",
       " 'break': 2.690389163856234,\n",
       " 'easier': 2.690389163856234,\n",
       " 'perhaps': 2.690389163856234,\n",
       " 'dude': 2.690389163856234,\n",
       " 'water': 2.6939927713595324,\n",
       " 'spend': 2.6939927713595324,\n",
       " 'imagine': 2.697609411829721,\n",
       " 'situation': 2.697609411829721,\n",
       " 'clear': 2.697609411829721,\n",
       " 'starting': 2.697609411829721,\n",
       " 'longer': 2.7012391798802997,\n",
       " 'themselves': 2.7012391798802997,\n",
       " 'save': 2.7012391798802997,\n",
       " 'online': 2.7012391798802997,\n",
       " 'figure': 2.704882171158801,\n",
       " 'super': 2.704882171158801,\n",
       " 'taken': 2.704882171158801,\n",
       " 'itself': 2.704882171158801,\n",
       " 'white': 2.708538482361911,\n",
       " 'perfect': 2.708538482361911,\n",
       " 'weeks': 2.708538482361911,\n",
       " 'cheap': 2.708538482361911,\n",
       " 'family': 2.708538482361911,\n",
       " 'near': 2.708538482361911,\n",
       " 'okay': 2.7122082112508736,\n",
       " 'simple': 2.7122082112508736,\n",
       " 'city': 2.7122082112508736,\n",
       " 'places': 2.7122082112508736,\n",
       " 'thats': 2.7122082112508736,\n",
       " 'quality': 2.7122082112508736,\n",
       " 'crazy': 2.7122082112508736,\n",
       " 'generally': 2.7158914566671704,\n",
       " 'kinda': 2.7158914566671704,\n",
       " 'ass': 2.7195883185484964,\n",
       " 'meant': 2.723298897945032,\n",
       " 'dont': 2.7270232970360144,\n",
       " 'knew': 2.7270232970360144,\n",
       " 'alone': 2.7270232970360144,\n",
       " 'kids': 2.7270232970360144,\n",
       " 'cause': 2.7307616191466217,\n",
       " 'several': 2.7307616191466217,\n",
       " 'main': 2.7307616191466217,\n",
       " 'glad': 2.7307616191466217,\n",
       " 'asking': 2.7307616191466217,\n",
       " 'happens': 2.7307616191466217,\n",
       " 'style': 2.7307616191466217,\n",
       " 'realize': 2.734513968765172,\n",
       " \"shouldn't\": 2.734513968765172,\n",
       " 'community': 2.738280451560649,\n",
       " 'low': 2.738280451560649,\n",
       " 'hold': 2.738280451560649,\n",
       " 'common': 2.738280451560649,\n",
       " 'major': 2.742061174400555,\n",
       " 'early': 2.742061174400555,\n",
       " 'currently': 2.742061174400555,\n",
       " 'correct': 2.7458562453691067,\n",
       " 'funny': 2.7458562453691067,\n",
       " 'control': 2.7458562453691067,\n",
       " 'needed': 2.7496657737857744,\n",
       " 'gonna': 2.7496657737857744,\n",
       " 'red': 2.7496657737857744,\n",
       " '7': 2.7496657737857744,\n",
       " 'price': 2.7496657737857744,\n",
       " 'within': 2.7496657737857744,\n",
       " 'giving': 2.7496657737857744,\n",
       " 'hot': 2.7573286465313434,\n",
       " 'points': 2.7573286465313434,\n",
       " 'cannot': 2.761182215847333,\n",
       " 'suggest': 2.761182215847333,\n",
       " 'serious': 2.761182215847333,\n",
       " 'note': 2.761182215847333,\n",
       " 'gave': 2.7650506926252536,\n",
       " 'page': 2.7650506926252536,\n",
       " 'choice': 2.7650506926252536,\n",
       " 'advice': 2.7650506926252536,\n",
       " 'cut': 2.7650506926252536,\n",
       " 'questions': 2.7689341926516513,\n",
       " 'gives': 2.7689341926516513,\n",
       " 'comments': 2.7689341926516513,\n",
       " 'asked': 2.7689341926516513,\n",
       " 'normal': 2.7689341926516513,\n",
       " 'extra': 2.7728328330673087,\n",
       " 'light': 2.7728328330673087,\n",
       " 'college': 2.7728328330673087,\n",
       " 'worse': 2.7767467323884447,\n",
       " 'music': 2.7767467323884447,\n",
       " 'played': 2.7806760105283344,\n",
       " 'store': 2.7806760105283344,\n",
       " 'future': 2.7806760105283344,\n",
       " 'country': 2.7846207888193506,\n",
       " 'cost': 2.7846207888193506,\n",
       " 'explain': 2.7846207888193506,\n",
       " 'personal': 2.7846207888193506,\n",
       " 'fair': 2.7846207888193506,\n",
       " 'late': 2.788581190035448,\n",
       " 'across': 2.788581190035448,\n",
       " 'body': 2.788581190035448,\n",
       " 'mention': 2.788581190035448,\n",
       " 'girl': 2.792557338415087,\n",
       " 'fan': 2.792557338415087,\n",
       " 'bought': 2.796549359684625,\n",
       " \"let's\": 2.796549359684625,\n",
       " 'specific': 2.796549359684625,\n",
       " 'build': 2.796549359684625,\n",
       " 'account': 2.8005573810821636,\n",
       " 'per': 2.8005573810821636,\n",
       " 'living': 2.8005573810821636,\n",
       " 'feeling': 2.8005573810821636,\n",
       " 'difficult': 2.8005573810821636,\n",
       " 'company': 2.8005573810821636,\n",
       " 'computer': 2.8005573810821636,\n",
       " 'process': 2.8005573810821636,\n",
       " 'crap': 2.804581531381889,\n",
       " 'expect': 2.804581531381889,\n",
       " 'send': 2.804581531381889,\n",
       " 'worry': 2.804581531381889,\n",
       " 'team': 2.808621940918894,\n",
       " 'watching': 2.808621940918894,\n",
       " 'public': 2.808621940918894,\n",
       " 'words': 2.808621940918894,\n",
       " 'unfortunately': 2.808621940918894,\n",
       " 'higher': 2.8126787416145085,\n",
       " 'mentioned': 2.8126787416145085,\n",
       " '30': 2.8126787416145085,\n",
       " 'op': 2.816752067002144,\n",
       " 'available': 2.816752067002144,\n",
       " 'lose': 2.8208420522536692,\n",
       " 'finally': 2.8208420522536692,\n",
       " 'apparently': 2.8208420522536692,\n",
       " 'finding': 2.8208420522536692,\n",
       " 'kill': 2.8249488342063227,\n",
       " 'complete': 2.8249488342063227,\n",
       " 'shows': 2.8249488342063227,\n",
       " 'moving': 2.8249488342063227,\n",
       " 'fast': 2.8290725513901847,\n",
       " 'website': 2.833213344056216,\n",
       " 'helps': 2.833213344056216,\n",
       " 'recently': 2.833213344056216,\n",
       " 'expensive': 2.833213344056216,\n",
       " 'forget': 2.833213344056216,\n",
       " 'moment': 2.833213344056216,\n",
       " 'wonder': 2.8415467256153604,\n",
       " '8': 2.8415467256153604,\n",
       " 'drive': 2.8415467256153604,\n",
       " 'form': 2.8415467256153604,\n",
       " 'car': 2.8415467256153604,\n",
       " 'bet': 2.8415467256153604,\n",
       " 'supposed': 2.8415467256153604,\n",
       " 'random': 2.8457396038753964,\n",
       " 'eat': 2.8457396038753964,\n",
       " 'option': 2.8457396038753964,\n",
       " 'poor': 2.8457396038753964,\n",
       " 'dead': 2.84995013641174,\n",
       " 'knows': 2.84995013641174,\n",
       " 'view': 2.84995013641174,\n",
       " 'felt': 2.854178472521261,\n",
       " 'inside': 2.858424763402712,\n",
       " 'fairly': 2.858424763402712,\n",
       " 'ah': 2.858424763402712,\n",
       " 'straight': 2.858424763402712,\n",
       " 'doubt': 2.858424763402712,\n",
       " 'depends': 2.8626891621891697,\n",
       " 'gone': 2.8626891621891697,\n",
       " 'weird': 2.8626891621891697,\n",
       " 'ways': 2.8626891621891697,\n",
       " 'google': 2.8669718239811703,\n",
       " '15': 2.8669718239811703,\n",
       " 'including': 2.8669718239811703,\n",
       " 'willing': 2.8669718239811703,\n",
       " 'worst': 2.8669718239811703,\n",
       " 'win': 2.871272905880561,\n",
       " 'prefer': 2.871272905880561,\n",
       " 'quick': 2.871272905880561,\n",
       " 'decided': 2.871272905880561,\n",
       " 'turned': 2.8755925670250777,\n",
       " 'changed': 2.8755925670250777,\n",
       " 'info': 2.8755925670250777,\n",
       " 'hour': 2.8755925670250777,\n",
       " 'create': 2.879930968623676,\n",
       " 'hopefully': 2.879930968623676,\n",
       " 'business': 2.8842882739926314,\n",
       " 'space': 2.8842882739926314,\n",
       " 'fit': 2.8842882739926314,\n",
       " 'write': 2.8842882739926314,\n",
       " 'terrible': 2.8842882739926314,\n",
       " 'towards': 2.8886646485924303,\n",
       " 'stick': 2.8886646485924303,\n",
       " 'plenty': 2.8886646485924303,\n",
       " 'shot': 2.8886646485924303,\n",
       " 'effect': 2.8930602600654685,\n",
       " 'source': 2.8930602600654685,\n",
       " 'throw': 2.8930602600654685,\n",
       " 'parts': 2.8930602600654685,\n",
       " 'follow': 2.897475278274585,\n",
       " 'stand': 2.901909875342451,\n",
       " 'human': 2.901909875342451,\n",
       " 'middle': 2.901909875342451,\n",
       " 'strong': 2.901909875342451,\n",
       " 'anymore': 2.901909875342451,\n",
       " 'building': 2.9063642256918314,\n",
       " 'size': 2.9063642256918314,\n",
       " 'eventually': 2.9063642256918314,\n",
       " 'spent': 2.910838506086752,\n",
       " 'extremely': 2.910838506086752,\n",
       " 'party': 2.910838506086752,\n",
       " 'posts': 2.910838506086752,\n",
       " 'share': 2.910838506086752,\n",
       " 'known': 2.9153328956745916,\n",
       " 'special': 2.9153328956745916,\n",
       " 'beautiful': 2.9153328956745916,\n",
       " 'american': 2.9153328956745916,\n",
       " 'posting': 2.9198475760291185,\n",
       " 'terms': 2.9198475760291185,\n",
       " 'rules': 2.9198475760291185,\n",
       " 'reasons': 2.9243827311945094,\n",
       " 'possibly': 2.9243827311945094,\n",
       " 'history': 2.9243827311945094,\n",
       " 'standard': 2.9243827311945094,\n",
       " 'none': 2.9243827311945094,\n",
       " 'particular': 2.9243827311945094,\n",
       " '50': 2.9243827311945094,\n",
       " 'women': 2.9289385477303704,\n",
       " 'assume': 2.9289385477303704,\n",
       " 'clearly': 2.9289385477303704,\n",
       " 'box': 2.9289385477303704,\n",
       " 'listen': 2.9289385477303704,\n",
       " 'attention': 2.9289385477303704,\n",
       " 'liked': 2.933515214757782,\n",
       " 'walk': 2.933515214757782,\n",
       " 'drop': 2.933515214757782,\n",
       " 'waiting': 2.933515214757782,\n",
       " 'offer': 2.933515214757782,\n",
       " 'tend': 2.933515214757782,\n",
       " 'quickly': 2.9381129240064117,\n",
       " 'useful': 2.9381129240064117,\n",
       " 'ability': 2.9381129240064117,\n",
       " \"she's\": 2.9381129240064117,\n",
       " 'avoid': 2.9381129240064117,\n",
       " 'added': 2.9381129240064117,\n",
       " 'search': 2.942731869862706,\n",
       " 'appreciate': 2.942731869862706,\n",
       " 'buying': 2.947372249419208,\n",
       " 'movie': 2.947372249419208,\n",
       " 'piece': 2.947372249419208,\n",
       " 'agreed': 2.947372249419208,\n",
       " 'books': 2.9520342625250193,\n",
       " 'fall': 2.9520342625250193,\n",
       " 'access': 2.9520342625250193,\n",
       " 'forward': 2.9520342625250193,\n",
       " 'beat': 2.956718111837446,\n",
       " 'honest': 2.956718111837446,\n",
       " 'continue': 2.956718111837446,\n",
       " 'news': 2.956718111837446,\n",
       " 'hands': 2.956718111837446,\n",
       " 'gotten': 2.956718111837446,\n",
       " 'step': 2.956718111837446,\n",
       " 'test': 2.956718111837446,\n",
       " \"it'll\": 2.9614240028748586,\n",
       " 'learned': 2.9614240028748586,\n",
       " 'excellent': 2.9614240028748586,\n",
       " 'argument': 2.9614240028748586,\n",
       " 'bar': 2.9614240028748586,\n",
       " 'position': 2.9661521440708047,\n",
       " 'multiple': 2.9661521440708047,\n",
       " 'social': 2.9661521440708047,\n",
       " 'considering': 2.9661521440708047,\n",
       " 'sucks': 2.9661521440708047,\n",
       " 'die': 2.9661521440708047,\n",
       " 'fix': 2.9709027468294025,\n",
       " 'young': 2.9709027468294025,\n",
       " 'entirely': 2.9709027468294025,\n",
       " 'basic': 2.9709027468294025,\n",
       " 'lower': 2.9709027468294025,\n",
       " 'pass': 2.9709027468294025,\n",
       " 'death': 2.9709027468294025,\n",
       " 'highly': 2.9709027468294025,\n",
       " 'notice': 2.9709027468294025,\n",
       " 'holy': 2.97567602558206,\n",
       " 'lack': 2.97567602558206,\n",
       " 'phone': 2.97567602558206,\n",
       " 'act': 2.980472197845553,\n",
       " \"they've\": 2.980472197845553,\n",
       " 'miss': 2.980472197845553,\n",
       " 'choose': 2.980472197845553,\n",
       " 'value': 2.980472197845553,\n",
       " 'regular': 2.980472197845553,\n",
       " 'feels': 2.985291484281502,\n",
       " 'meet': 2.985291484281502,\n",
       " 'upvote': 2.985291484281502,\n",
       " 'older': 2.985291484281502,\n",
       " 'market': 2.985291484281502,\n",
       " 'slightly': 2.985291484281502,\n",
       " 'considered': 2.985291484281502,\n",
       " 'science': 2.985291484281502,\n",
       " 'regardless': 2.985291484281502,\n",
       " 'allow': 2.985291484281502,\n",
       " 'title': 2.99013410875729,\n",
       " 'directly': 2.99013410875729,\n",
       " 'further': 2.99013410875729,\n",
       " 'ridiculous': 2.99013410875729,\n",
       " 'focus': 2.99013410875729,\n",
       " 'putting': 2.99013410875729,\n",
       " 'response': 2.995000298408463,\n",
       " 'fantastic': 2.995000298408463,\n",
       " 'total': 2.995000298408463,\n",
       " 'noticed': 2.995000298408463,\n",
       " 'service': 3.004804298505084,\n",
       " 'character': 3.004804298505084,\n",
       " 'force': 3.004804298505084,\n",
       " 'law': 3.004804298505084,\n",
       " 'age': 3.0097425801456663,\n",
       " 'sir': 3.0097425801456663,\n",
       " 'tv': 3.0097425801456663,\n",
       " 'interest': 3.0097425801456663,\n",
       " 'paid': 3.0097425801456663,\n",
       " 'sad': 3.0097425801456663,\n",
       " 'sell': 3.0097425801456663,\n",
       " 'bottom': 3.0097425801456663,\n",
       " 'telling': 3.0097425801456663,\n",
       " 'nobody': 3.0097425801456663,\n",
       " 'research': 3.014705369487795,\n",
       " 'somehow': 3.014705369487795,\n",
       " 'third': 3.014705369487795,\n",
       " \"they'll\": 3.014705369487795,\n",
       " 'exact': 3.014705369487795,\n",
       " 'term': 3.014705369487795,\n",
       " 'welcome': 3.014705369487795,\n",
       " 'series': 3.014705369487795,\n",
       " 'fire': 3.019692910998834,\n",
       " 'learning': 3.019692910998834,\n",
       " 'men': 3.019692910998834,\n",
       " 'involved': 3.019692910998834,\n",
       " 'provide': 3.019692910998834,\n",
       " 'ideas': 3.019692910998834,\n",
       " 'compared': 3.019692910998834,\n",
       " 'dark': 3.0247054528223787,\n",
       " 'key': 3.0247054528223787,\n",
       " 'air': 3.0247054528223787,\n",
       " 'loved': 3.0247054528223787,\n",
       " 'field': 3.0297432468523358,\n",
       " 'popular': 3.0297432468523358,\n",
       " 'changes': 3.0297432468523358,\n",
       " '12': 3.0297432468523358,\n",
       " 'trouble': 3.0297432468523358,\n",
       " 'average': 3.0297432468523358,\n",
       " 'program': 3.0297432468523358,\n",
       " 'speak': 3.0348065488088825,\n",
       " 'ended': 3.0348065488088825,\n",
       " \"we'll\": 3.0348065488088825,\n",
       " 'parents': 3.0348065488088825,\n",
       " 'missed': 3.0348065488088825,\n",
       " 'sent': 3.0348065488088825,\n",
       " 'four': 3.0348065488088825,\n",
       " 'knowledge': 3.0348065488088825,\n",
       " 'eye': 3.0398956183163537,\n",
       " 'smaller': 3.0398956183163537,\n",
       " 'sweet': 3.045010718983124,\n",
       " 'pm': 3.045010718983124,\n",
       " 'specifically': 3.045010718983124,\n",
       " 'assuming': 3.045010718983124,\n",
       " 'message': 3.045010718983124,\n",
       " 'eyes': 3.045010718983124,\n",
       " 'image': 3.050152118483543,\n",
       " 'safe': 3.050152118483543,\n",
       " 'surprised': 3.050152118483543,\n",
       " 'wife': 3.050152118483543,\n",
       " 'kid': 3.050152118483543,\n",
       " 'clean': 3.050152118483543,\n",
       " 'beyond': 3.050152118483543,\n",
       " 'ground': 3.0553200886419853,\n",
       " 'uses': 3.0553200886419853,\n",
       " 'anywhere': 3.0553200886419853,\n",
       " 'weekend': 3.0553200886419853,\n",
       " 'related': 3.0605149055190894,\n",
       " 'seemed': 3.0605149055190894,\n",
       " 'hurt': 3.0605149055190894,\n",
       " 'nearly': 3.0605149055190894,\n",
       " 'twice': 3.0605149055190894,\n",
       " 'slow': 3.0605149055190894,\n",
       " 'sit': 3.0605149055190894,\n",
       " 'sign': 3.0605149055190894,\n",
       " 'fight': 3.0605149055190894,\n",
       " 'speed': 3.065736849500241,\n",
       " 'joke': 3.065736849500241,\n",
       " 'helpful': 3.065736849500241,\n",
       " 'kept': 3.065736849500241,\n",
       " 'beginning': 3.065736849500241,\n",
       " 'data': 3.065736849500241,\n",
       " 'harder': 3.065736849500241,\n",
       " 'pull': 3.065736849500241,\n",
       " 'pictures': 3.070986205386385,\n",
       " 'heart': 3.070986205386385,\n",
       " 'street': 3.070986205386385,\n",
       " 'written': 3.070986205386385,\n",
       " 'return': 3.070986205386385,\n",
       " 'self': 3.070986205386385,\n",
       " 'rule': 3.076263262487229,\n",
       " 'date': 3.076263262487229,\n",
       " 'code': 3.076263262487229,\n",
       " 'cover': 3.076263262487229,\n",
       " 'indeed': 3.0815683147169217,\n",
       " 'ya': 3.0815683147169217,\n",
       " 'earlier': 3.0815683147169217,\n",
       " 'effort': 3.0815683147169217,\n",
       " 'design': 3.0869016606922846,\n",
       " 'writing': 3.0869016606922846,\n",
       " 'curious': 3.0869016606922846,\n",
       " 'content': 3.0869016606922846,\n",
       " 'moved': 3.0869016606922846,\n",
       " 'five': 3.0869016606922846,\n",
       " 'btw': 3.0869016606922846,\n",
       " 'links': 3.0869016606922846,\n",
       " 'literally': 3.0922636038336697,\n",
       " '40': 3.0922636038336697,\n",
       " 'himself': 3.0922636038336697,\n",
       " 'solid': 3.0922636038336697,\n",
       " 'bigger': 3.0922636038336697,\n",
       " 'art': 3.0922636038336697,\n",
       " 'blue': 3.0922636038336697,\n",
       " 'following': 3.0922636038336697,\n",
       " 'text': 3.097654452468546,\n",
       " 'sitting': 3.097654452468546,\n",
       " 'player': 3.097654452468546,\n",
       " 'double': 3.097654452468546,\n",
       " 'forgot': 3.097654452468546,\n",
       " 'suppose': 3.1030745199378855,\n",
       " 'nope': 3.1030745199378855,\n",
       " 'pain': 3.1030745199378855,\n",
       " 'hoping': 3.1030745199378855,\n",
       " 'season': 3.1030745199378855,\n",
       " 'truly': 3.1030745199378855,\n",
       " 'count': 3.1030745199378855,\n",
       " 'goal': 3.10852412470545,\n",
       " 'card': 3.10852412470545,\n",
       " 'knowing': 3.10852412470545,\n",
       " 'allowed': 3.10852412470545,\n",
       " 'x': 3.10852412470545,\n",
       " 'missing': 3.10852412470545,\n",
       " 'lines': 3.10852412470545,\n",
       " 'forever': 3.10852412470545,\n",
       " 'solution': 3.114003590470076,\n",
       " 'vote': 3.114003590470076,\n",
       " 'contact': 3.114003590470076,\n",
       " 'morning': 3.114003590470076,\n",
       " \"we've\": 3.114003590470076,\n",
       " 'weight': 3.114003590470076,\n",
       " 'majority': 3.114003590470076,\n",
       " ...}"
      ]
     },
     "execution_count": 69,
     "metadata": {},
     "output_type": "execute_result"
    }
   ],
   "source": [
    "inv_doc_freq_map_res = inv_doc_freq.collectAsMap()\n",
    "inv_doc_freq_map_res"
   ]
  },
  {
   "cell_type": "code",
   "execution_count": 128,
   "metadata": {
    "scrolled": false
   },
   "outputs": [
    {
     "name": "stdout",
     "output_type": "stream",
     "text": [
      "politics\n",
      "[('the', 7980.777479591923), ('to', 5979.3645992125685), ('of', 5548.284940364511), ('and', 5005.472898981856), ('that', 4983.0044317421), ('a', 4700.3492154260375), ('is', 4471.969252638264), ('in', 3956.9588127142133), ('you', 3879.6496160129514), ('they', 3454.691714821324), ('are', 3351.7597352240305), ('not', 3262.781603177621), ('people', 3217.3051161751896), ('it', 3211.644726306095), ('government', 2956.781859719072), ('for', 2913.958240428976), ('he', 2819.762254747586), ('as', 2737.8253498974946), ('i', 2685.698014941359), ('be', 2676.7487281468293), ('have', 2640.235684238025), ('we', 2576.2336478543034), ('their', 2416.1310011796836), ('on', 2292.601718767157), ('with', 2283.511036516655), ('this', 2260.0188265053057), ('who', 2223.758676490278), ('if', 2207.7265959661613), ('obama', 2192.3983117970974), ('would', 2173.492925007271), ('what', 2132.1359797371256), ('was', 2096.5972997568347), ('no', 2068.071361154386), ('but', 2036.5814319040142), ('or', 1998.4783762357429), ('by', 1991.4375867870767), ('your', 1979.8287756725308), ('all', 1924.0639417593475), ('do', 1915.6861788549827), (\"don't\", 1858.038450487308), ('about', 1849.3513603100869), ('more', 1816.5873258525833), ('because', 1738.1292515336331), ('an', 1714.8319491009058), ('just', 1677.5699552594283), (\"it's\", 1668.3067587081223), ('will', 1650.214213638489), ('has', 1634.665891887818), ('from', 1630.0486264987362), ('so', 1626.984063756041)]\n",
      "CPU times: user 18 ms, sys: 0 ns, total: 18 ms\n",
      "Wall time: 17.9 ms\n"
     ]
    }
   ],
   "source": [
    "%%time\n",
    "tfidf_list_1 = list(map(lambda t_f: (t_f[0], t_f[1] * inv_doc_freq_map_res[t_f[0]]), \n",
    "                 term_freq_res_1.items()))\n",
    "\n",
    "print(sub_1)\n",
    "print(sorted(tfidf_list_1, key = lambda t_fidf: t_fidf[1], reverse = True)[0:50])"
   ]
  },
  {
   "cell_type": "code",
   "execution_count": 130,
   "metadata": {
    "scrolled": false
   },
   "outputs": [
    {
     "name": "stdout",
     "output_type": "stream",
     "text": [
      "programming\n",
      "[('the', 1587.4734159443374), ('to', 1349.4462659317119), ('of', 1186.674489237115), ('a', 1184.3151489930956), ('that', 1135.8176487539656), ('is', 1113.8926537197578), ('and', 1070.50693163868), ('it', 1021.3841437276559), ('you', 1000.0651212261364), ('', 939.1139725607553), ('in', 876.2390843428831), ('code', 818.2860278216028), ('i', 791.1127570552981), ('for', 762.2159286307275), ('not', 699.1674863952045), ('gt', 694.967339088719), ('with', 691.386623537015), ('be', 641.6920027933085), ('as', 635.7116724910354), ('are', 630.6192867795077), ('c', 626.6820159504492), ('but', 608.9894574153524), ('have', 591.8193616950805), ('use', 579.8298727587509), ('on', 575.5518979726207), ('if', 560.8227412305614), ('or', 532.0356954242426), ('this', 531.5049244182733), ('can', 524.5010728410244), ('language', 522.8502962703028), (\"it's\", 520.8788856363171), ('an', 501.76006114222025), ('your', 487.84982467749325), ('they', 486.4993079416105), (\"don't\", 468.0375337303472), ('do', 456.8514274458311), ('languages', 450.835282960784), ('java', 442.17261998463636), ('just', 441.6653102547421), ('what', 440.3685106047618), ('like', 438.5536265283854), ('programming', 438.0645953916532), ('was', 436.66357386663026), ('so', 418.09145377232386), ('more', 402.4917349193429), ('all', 399.9209116820815), ('would', 391.27516865782604), ('at', 387.961837844771), ('which', 385.9965021682182), ('because', 380.4367523698514)]\n",
      "CPU times: user 8.63 ms, sys: 0 ns, total: 8.63 ms\n",
      "Wall time: 8.59 ms\n"
     ]
    }
   ],
   "source": [
    "%%time\n",
    "\n",
    "tfidf_list_2 = list(map(lambda t_f: (t_f[0], t_f[1] * inv_doc_freq_map_res[t_f[0]]), \n",
    "                 term_freq_res_2.items()))\n",
    "\n",
    "print(sub_2)\n",
    "print(sorted(tfidf_list_2, key = lambda t_fidf: t_fidf[1], reverse = True)[0:50])"
   ]
  },
  {
   "cell_type": "markdown",
   "metadata": {},
   "source": [
    "##### Removing Stop-words\n",
    "\n",
    "While weighting the term frequency with the inverse document frequency should deemphasize the most common/least informative words, we may still find some of them at the top of the adjusted frequency list. We thus filter out the [stop-words](https://en.wikipedia.org/wiki/Stop_words) to get the more informative key terms."
   ]
  },
  {
   "cell_type": "code",
   "execution_count": 78,
   "metadata": {},
   "outputs": [],
   "source": [
    "from nltk.corpus import stopwords\n",
    "stop_words = stopwords.words()"
   ]
  },
  {
   "cell_type": "code",
   "execution_count": 131,
   "metadata": {},
   "outputs": [
    {
     "name": "stdout",
     "output_type": "stream",
     "text": [
      "CPU times: user 1.17 s, sys: 0 ns, total: 1.17 s\n",
      "Wall time: 1.17 s\n"
     ]
    }
   ],
   "source": [
    "%%time\n",
    "f_tfidf_list_1 = list(filter(lambda t_fidf: t_fidf[0] not in stop_words, tfidf_list_1))"
   ]
  },
  {
   "cell_type": "code",
   "execution_count": 132,
   "metadata": {},
   "outputs": [
    {
     "name": "stdout",
     "output_type": "stream",
     "text": [
      "CPU times: user 545 ms, sys: 0 ns, total: 545 ms\n",
      "Wall time: 546 ms\n"
     ]
    }
   ],
   "source": [
    "%%time\n",
    "f_tfidf_list_2 = list(filter(lambda t_fidf: t_fidf[0] not in stop_words, tfidf_list_2))"
   ]
  },
  {
   "cell_type": "markdown",
   "metadata": {},
   "source": [
    "#### Key Terms\n",
    "Finally, we can view the key terms for the specified subreddit."
   ]
  },
  {
   "cell_type": "code",
   "execution_count": 107,
   "metadata": {},
   "outputs": [],
   "source": [
    "from pprint import pprint"
   ]
  },
  {
   "cell_type": "code",
   "execution_count": 133,
   "metadata": {
    "scrolled": true
   },
   "outputs": [
    {
     "name": "stdout",
     "output_type": "stream",
     "text": [
      "'politics'\n",
      "[('people', 3217.3051161751896),\n",
      " ('government', 2956.781859719072),\n",
      " ('obama', 2192.3983117970974),\n",
      " ('would', 2173.492925007271),\n",
      " ('money', 1609.3852245466571),\n",
      " ('', 1594.9542222507255),\n",
      " ('us', 1587.0675099983946),\n",
      " ('like', 1553.78954557342),\n",
      " ('think', 1552.1000901547854),\n",
      " ('tax', 1511.3084122659845),\n",
      " ('vote', 1401.3016157115342),\n",
      " ('get', 1333.8166738496602),\n",
      " ('one', 1308.5267337724522),\n",
      " ('right', 1282.50450720408),\n",
      " ('even', 1249.060298263983),\n",
      " ('taxes', 1245.1607177632886),\n",
      " ('paul', 1227.8021700862641),\n",
      " ('country', 1216.8792847140562),\n",
      " ('republicans', 1195.0712944477862),\n",
      " ('make', 1175.699453076192),\n",
      " ('state', 1130.4281123947137),\n",
      " ('republican', 1099.0942182558558),\n",
      " ('ron', 1085.6796530851152),\n",
      " ('say', 1083.091086237188),\n",
      " ('bush', 1073.0548161002976),\n",
      " (\"that's\", 1063.2257973957508),\n",
      " ('way', 1055.570395235103),\n",
      " ('pay', 1045.8099690811764),\n",
      " (\"i'm\", 1040.4866078762282),\n",
      " ('point', 1001.1494716824),\n",
      " ('know', 982.449413910854),\n",
      " ('federal', 980.1279301825874),\n",
      " ('states', 970.1778350244258),\n",
      " ('political', 960.3010414560324),\n",
      " ('much', 948.7953472768563),\n",
      " ('rights', 934.5660399915981),\n",
      " ('president', 931.6409481608518),\n",
      " ('party', 928.5574834416739),\n",
      " ('gt', 925.2019176825278),\n",
      " ('really', 924.2743464631052),\n",
      " ('see', 920.1225776271853),\n",
      " ('deleted', 916.4685603376208),\n",
      " ('time', 907.3591217454876),\n",
      " ('law', 904.4460938500303),\n",
      " ('going', 882.8840910394289),\n",
      " ('things', 878.7053016789504),\n",
      " ('system', 873.3787314762129),\n",
      " ('could', 871.6824057745135),\n",
      " ('said', 870.5113448014597),\n",
      " ('many', 860.880139484687)]\n"
     ]
    }
   ],
   "source": [
    "pprint(sub_1)\n",
    "pprint(sorted(f_tfidf_list_1, key = lambda t_fidf: t_fidf[1], reverse = True)[0:50])"
   ]
  },
  {
   "cell_type": "code",
   "execution_count": 135,
   "metadata": {
    "scrolled": true
   },
   "outputs": [
    {
     "name": "stdout",
     "output_type": "stream",
     "text": [
      "'programming'\n",
      "[('', 939.1139725607553),\n",
      " ('code', 818.2860278216028),\n",
      " ('gt', 694.967339088719),\n",
      " ('use', 579.8298727587509),\n",
      " ('language', 522.8502962703028),\n",
      " ('languages', 450.835282960784),\n",
      " ('java', 442.17261998463636),\n",
      " ('like', 438.5536265283854),\n",
      " ('programming', 438.0645953916532),\n",
      " ('would', 391.27516865782604),\n",
      " ('software', 364.9534705988249),\n",
      " ('python', 334.20355790808793),\n",
      " ('work', 333.7701495370556),\n",
      " ('lisp', 330.98764451023504),\n",
      " ('one', 319.12592916475836),\n",
      " (\"i'm\", 316.62236755939784),\n",
      " ('php', 313.7146518505741),\n",
      " ('people', 311.2217260621728),\n",
      " ('think', 299.8094768740961),\n",
      " ('windows', 295.25457696125284),\n",
      " ('get', 290.50075015200224),\n",
      " ('using', 287.49192181545527),\n",
      " (\"that's\", 282.1112672119966),\n",
      " ('make', 281.87576949528574),\n",
      " ('haskell', 281.76003933473635),\n",
      " ('something', 281.2034440012708),\n",
      " ('write', 279.77596257728527),\n",
      " ('web', 275.12358307753107),\n",
      " ('even', 273.2319402452463),\n",
      " ('linux', 267.6518064333667),\n",
      " ('time', 265.88332728246155),\n",
      " ('deleted', 257.75678259495584),\n",
      " ('data', 257.52189535802023),\n",
      " ('much', 256.0241413286755),\n",
      " ('good', 253.83750962750568),\n",
      " ('know', 243.99007901616983),\n",
      " ('way', 243.25295420920668),\n",
      " ('need', 242.77649060777898),\n",
      " ('actually', 241.63356857378588),\n",
      " ('could', 240.56652425122863),\n",
      " ('well', 238.27103773621118),\n",
      " ('point', 237.11434855635787),\n",
      " ('problem', 237.01679773137212),\n",
      " ('used', 236.91258710411918),\n",
      " ('really', 236.79755983765506),\n",
      " ('things', 233.05543364765873),\n",
      " ('microsoft', 232.30161434286236),\n",
      " ('system', 224.37630394278398),\n",
      " ('programmers', 223.20462123836867),\n",
      " ('compiler', 221.6579378548371)]\n"
     ]
    }
   ],
   "source": [
    "pprint(sub_2)\n",
    "pprint(sorted(f_tfidf_list_2, key = lambda t_fidf: t_fidf[1], reverse = True)[0:50])"
   ]
  },
  {
   "cell_type": "code",
   "execution_count": null,
   "metadata": {},
   "outputs": [],
   "source": []
  }
 ],
 "metadata": {
  "kernelspec": {
   "display_name": "Python 3",
   "language": "python",
   "name": "python3"
  },
  "language_info": {
   "codemirror_mode": {
    "name": "ipython",
    "version": 3
   },
   "file_extension": ".py",
   "mimetype": "text/x-python",
   "name": "python",
   "nbconvert_exporter": "python",
   "pygments_lexer": "ipython3",
   "version": "3.6.5"
  }
 },
 "nbformat": 4,
 "nbformat_minor": 2
}
