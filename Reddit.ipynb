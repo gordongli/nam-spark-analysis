{
 "cells": [
  {
   "cell_type": "markdown",
   "metadata": {},
   "source": [
    "# Social Network Analysis with Spark"
   ]
  },
  {
   "cell_type": "markdown",
   "metadata": {},
   "source": [
    "## Dataset: Reddit comments\n",
    "\n",
    "The dataset consists of about 250 million comments on the social media website Reddit from 2007 to 2011. Each comment is represented as a JSON object which includes fields indicated below: "
   ]
  },
  {
   "cell_type": "code",
   "execution_count": 21,
   "metadata": {},
   "outputs": [],
   "source": [
    "rc = spark.read.format('json').load('hdfs://orion11:15000/rc/*')"
   ]
  },
  {
   "cell_type": "code",
   "execution_count": 25,
   "metadata": {},
   "outputs": [
    {
     "data": {
      "text/plain": [
       "DataFrame[archived: boolean, author: string, author_flair_css_class: string, author_flair_text: string, body: string, controversiality: bigint, created_utc: string, distinguished: string, downs: bigint, edited: string, gilded: bigint, id: string, link_id: string, name: string, parent_id: string, removal_reason: string, retrieved_on: bigint, score: bigint, score_hidden: boolean, stickied: boolean, subreddit: string, subreddit_id: string, ups: bigint]"
      ]
     },
     "execution_count": 25,
     "metadata": {},
     "output_type": "execute_result"
    }
   ],
   "source": [
    "rc"
   ]
  },
  {
   "cell_type": "markdown",
   "metadata": {},
   "source": [
    "### Samples\n",
    "We create samples of successively smaller size for more efficient analysis, creating subsequent subsets from previous subsets in a cacheable pipeline."
   ]
  },
  {
   "cell_type": "code",
   "execution_count": 120,
   "metadata": {
    "scrolled": true
   },
   "outputs": [],
   "source": [
    "rc_samp = rc.sample(False, .1)\n",
    "rc_samp.write.format('json').save('hdfs://orion11:15000/rc_samp')"
   ]
  },
  {
   "cell_type": "code",
   "execution_count": 164,
   "metadata": {},
   "outputs": [
    {
     "name": "stdout",
     "output_type": "stream",
     "text": [
      "26237538\n",
      "CPU times: user 12 ms, sys: 2.97 ms, total: 15 ms\n",
      "Wall time: 57.4 s\n"
     ]
    }
   ],
   "source": [
    "%%time\n",
    "rc_samp = spark.read.format('json').load('hdfs://orion11:15000/rc_samp/*')\n",
    "# rc_samp.cache()\n",
    "print(rc_samp.count())"
   ]
  },
  {
   "cell_type": "code",
   "execution_count": null,
   "metadata": {},
   "outputs": [],
   "source": [
    "rc_s = rc_samp.sample(False, .1)\n",
    "rc_s.write.format('json').save('hdfs://orion11:15000/rc_s')"
   ]
  },
  {
   "cell_type": "code",
   "execution_count": 1,
   "metadata": {},
   "outputs": [
    {
     "name": "stdout",
     "output_type": "stream",
     "text": [
      "2622716\n",
      "CPU times: user 5.8 ms, sys: 3.14 ms, total: 8.94 ms\n",
      "Wall time: 15.8 s\n"
     ]
    }
   ],
   "source": [
    "%%time\n",
    "rc_s = spark.read.format('json').load('hdfs://orion11:15000/rc_s/*')\n",
    "rc_s.cache()\n",
    "print(rc_s.count())"
   ]
  },
  {
   "cell_type": "code",
   "execution_count": 126,
   "metadata": {},
   "outputs": [],
   "source": [
    "rc_t = rc_s.sample(False, .1)\n",
    "rc_t.write.format('json').save('hdfs://orion11:15000/rc_t')"
   ]
  },
  {
   "cell_type": "code",
   "execution_count": 1,
   "metadata": {},
   "outputs": [
    {
     "name": "stdout",
     "output_type": "stream",
     "text": [
      "262372\n",
      "CPU times: user 3.26 ms, sys: 445 µs, total: 3.7 ms\n",
      "Wall time: 9.71 s\n"
     ]
    }
   ],
   "source": [
    "%%time\n",
    "rc_t = spark.read.format('json').load('hdfs://orion11:15000/rc_t/*')\n",
    "rc_t.cache()\n",
    "print(rc_t.count())"
   ]
  },
  {
   "cell_type": "code",
   "execution_count": 38,
   "metadata": {},
   "outputs": [],
   "source": [
    "rc_u = rc_t.sample(False, .1)\n",
    "rc_u.write.format('json').save('hdfs://orion11:15000/rc_u')"
   ]
  },
  {
   "cell_type": "code",
   "execution_count": 39,
   "metadata": {
    "scrolled": true
   },
   "outputs": [
    {
     "name": "stdout",
     "output_type": "stream",
     "text": [
      "26273\n",
      "CPU times: user 1.71 ms, sys: 1.17 ms, total: 2.88 ms\n",
      "Wall time: 1.56 s\n"
     ]
    }
   ],
   "source": [
    "%%time\n",
    "rc_u = spark.read.format('json').load('hdfs://orion11:15000/rc_u/*')\n",
    "rc_u.cache()\n",
    "print(rc_u.count())"
   ]
  },
  {
   "cell_type": "code",
   "execution_count": 75,
   "metadata": {},
   "outputs": [
    {
     "name": "stdout",
     "output_type": "stream",
     "text": [
      "10000\n"
     ]
    }
   ],
   "source": [
    "rc_v = sc.parallelize(rc_t.take(10000))\n",
    "rc_v.cache()\n",
    "print(rc_v.count())"
   ]
  },
  {
   "cell_type": "markdown",
   "metadata": {},
   "source": [
    "## Spark API\n",
    "We explore how Spark enables data analysis with different paradigms, with the API for RDDs, SQL, and DataFrames."
   ]
  },
  {
   "cell_type": "markdown",
   "metadata": {},
   "source": [
    "### Number of comments\n",
    "We find the number of records with the Spark API for RDDs (Map-Reduce style), SQL, and DataFrames."
   ]
  },
  {
   "cell_type": "code",
   "execution_count": 135,
   "metadata": {},
   "outputs": [
    {
     "data": {
      "text/plain": [
       "[('key', 262372)]"
      ]
     },
     "execution_count": 135,
     "metadata": {},
     "output_type": "execute_result"
    }
   ],
   "source": [
    "rc_t.rdd \\\n",
    "    .map(lambda comment: ('key', 1)) \\\n",
    "    .reduceByKey(lambda accum, n: accum + n) \\\n",
    "    .collect()"
   ]
  },
  {
   "cell_type": "code",
   "execution_count": 136,
   "metadata": {},
   "outputs": [],
   "source": [
    "rc_t.createOrReplaceTempView('rc_t')"
   ]
  },
  {
   "cell_type": "code",
   "execution_count": 139,
   "metadata": {},
   "outputs": [
    {
     "data": {
      "text/plain": [
       "[Row(count(1)=262372)]"
      ]
     },
     "execution_count": 139,
     "metadata": {},
     "output_type": "execute_result"
    }
   ],
   "source": [
    "spark.sql(\"\\\n",
    "SELECT COUNT(*) \\\n",
    "FROM rc_t\").collect()"
   ]
  },
  {
   "cell_type": "code",
   "execution_count": 138,
   "metadata": {},
   "outputs": [
    {
     "data": {
      "text/plain": [
       "262372"
      ]
     },
     "execution_count": 138,
     "metadata": {},
     "output_type": "execute_result"
    }
   ],
   "source": [
    "rc_t.count()"
   ]
  },
  {
   "cell_type": "markdown",
   "metadata": {},
   "source": [
    "### Number of subreddits, subreddits' comments\n",
    "Likewise, we use the Spark RDD/SQL/DataFrame API to find the number of records grouped by field and the number of groups. "
   ]
  },
  {
   "cell_type": "code",
   "execution_count": 137,
   "metadata": {
    "scrolled": true
   },
   "outputs": [],
   "source": [
    "sub_count_mr = rc_t.rdd \\\n",
    "    .map(lambda comment: (comment['subreddit'], 1)) \\\n",
    "    .reduceByKey(lambda accum, n: accum + n) \\\n",
    "    .collect()"
   ]
  },
  {
   "cell_type": "code",
   "execution_count": 138,
   "metadata": {},
   "outputs": [
    {
     "name": "stdout",
     "output_type": "stream",
     "text": [
      "4097\n",
      "[('AskReddit', 38907), ('pics', 18693), ('reddit.com', 16228), ('politics', 10680), ('gaming', 10358), ('funny', 9590), ('IAmA', 7895), ('fffffffuuuuuuuuuuuu', 6876), ('atheism', 6753), ('WTF', 6696), ('trees', 4824), ('worldnews', 4191), ('videos', 3849), ('starcraft', 3246), ('programming', 2715), ('todayilearned', 2622), ('science', 2619), ('Minecraft', 2479), ('technology', 2211), ('gonewild', 1961)]\n"
     ]
    }
   ],
   "source": [
    "print(len(sub_count_mr))\n",
    "print(sorted(sub_count_mr, key=lambda sub_cnt: sub_cnt[1], reverse=True)[0:20])"
   ]
  },
  {
   "cell_type": "code",
   "execution_count": 185,
   "metadata": {},
   "outputs": [
    {
     "name": "stdout",
     "output_type": "stream",
     "text": [
      "+-------------------+-----+\n",
      "|          subreddit|count|\n",
      "+-------------------+-----+\n",
      "|          AskReddit|38907|\n",
      "|               pics|18693|\n",
      "|         reddit.com|16228|\n",
      "|           politics|10680|\n",
      "|             gaming|10358|\n",
      "|              funny| 9590|\n",
      "|               IAmA| 7895|\n",
      "|fffffffuuuuuuuuuuuu| 6876|\n",
      "|            atheism| 6753|\n",
      "|                WTF| 6696|\n",
      "|              trees| 4824|\n",
      "|          worldnews| 4191|\n",
      "|             videos| 3849|\n",
      "|          starcraft| 3246|\n",
      "|        programming| 2715|\n",
      "|      todayilearned| 2622|\n",
      "|            science| 2619|\n",
      "|          Minecraft| 2479|\n",
      "|         technology| 2211|\n",
      "|           gonewild| 1961|\n",
      "+-------------------+-----+\n",
      "only showing top 20 rows\n",
      "\n"
     ]
    }
   ],
   "source": [
    "spark.sql(\"\\\n",
    "SELECT subreddit, COUNT(*) as count \\\n",
    "FROM rc_t \\\n",
    "GROUP BY subreddit \\\n",
    "ORDER BY count DESC\").show()"
   ]
  },
  {
   "cell_type": "code",
   "execution_count": 186,
   "metadata": {},
   "outputs": [
    {
     "data": {
      "text/plain": [
       "[Row(count=4097)]"
      ]
     },
     "execution_count": 186,
     "metadata": {},
     "output_type": "execute_result"
    }
   ],
   "source": [
    "spark.sql(\"\\\n",
    "SELECT COUNT(DISTINCT subreddit) AS count \\\n",
    "FROM rc_t\").collect()"
   ]
  },
  {
   "cell_type": "code",
   "execution_count": 139,
   "metadata": {},
   "outputs": [
    {
     "name": "stdout",
     "output_type": "stream",
     "text": [
      "+-------------------+-----+\n",
      "|          subreddit|count|\n",
      "+-------------------+-----+\n",
      "|          AskReddit|38907|\n",
      "|               pics|18693|\n",
      "|         reddit.com|16228|\n",
      "|           politics|10680|\n",
      "|             gaming|10358|\n",
      "|              funny| 9590|\n",
      "|               IAmA| 7895|\n",
      "|fffffffuuuuuuuuuuuu| 6876|\n",
      "|            atheism| 6753|\n",
      "|                WTF| 6696|\n",
      "|              trees| 4824|\n",
      "|          worldnews| 4191|\n",
      "|             videos| 3849|\n",
      "|          starcraft| 3246|\n",
      "|        programming| 2715|\n",
      "|      todayilearned| 2622|\n",
      "|            science| 2619|\n",
      "|          Minecraft| 2479|\n",
      "|         technology| 2211|\n",
      "|           gonewild| 1961|\n",
      "+-------------------+-----+\n",
      "only showing top 20 rows\n",
      "\n"
     ]
    }
   ],
   "source": [
    "rc_t.groupBy('subreddit').count().orderBy('count', ascending=False).show()"
   ]
  },
  {
   "cell_type": "markdown",
   "metadata": {},
   "source": [
    "## Social Network Analysis with Spark\n",
    "\n",
    "We perform analysis on the text of Reddit comments (found in the `body` field) to discover and communities (i.e. `subreddit`s) of interest on the social network. We can calculate established or custom metrics to find, for example, the following:\n",
    "\n",
    "- the most scream-y subreddits (custom metric)\n",
    "- the most positive/negative subreddits (sentiment analysis)\n",
    "- the discussion topics on a subreddit (key terms/tf-idf)"
   ]
  },
  {
   "cell_type": "markdown",
   "metadata": {},
   "source": [
    "### Custom Metric: Screamer Subreddits\n",
    "We find top subreddits for scream-y comments, for when we really want to get something off our chest, by calculating a \"screamer score\" (a metric expressed as the percentage of uppercase letters)."
   ]
  },
  {
   "cell_type": "code",
   "execution_count": 133,
   "metadata": {},
   "outputs": [
    {
     "name": "stdout",
     "output_type": "stream",
     "text": [
      "CPU times: user 50.4 ms, sys: 9.97 ms, total: 60.3 ms\n",
      "Wall time: 59.1 s\n"
     ]
    }
   ],
   "source": [
    "%%time\n",
    "\n",
    "import string\n",
    "\n",
    "def screamer_sub_mapper(comment):\n",
    "    n_upper = len(list(filter(lambda c: c in string.ascii_uppercase, comment['body'])))\n",
    "    n_alpha = len(list(filter(lambda c: c in string.ascii_letters, comment['body'])))\n",
    "    return (comment['subreddit'], (n_upper, n_alpha))\n",
    "\n",
    "def screamer_reducer(value_list):\n",
    "    total_upper = 0\n",
    "    total_alpha = 0\n",
    "    for value in value_list:\n",
    "        (n_upper, n_alpha) = value\n",
    "        total_upper += n_upper\n",
    "        total_alpha += n_alpha\n",
    "    screamer_score = total_upper / total_alpha if total_alpha else 0\n",
    "    return (screamer_score, len(value_list))\n",
    "    \n",
    "screamer_subs = rc_samp.rdd \\\n",
    "    .map(screamer_sub_mapper) \\\n",
    "    .groupByKey() \\\n",
    "    .mapValues(screamer_reducer) \\\n",
    "\n",
    "screamer_subs.cache()"
   ]
  },
  {
   "cell_type": "code",
   "execution_count": 144,
   "metadata": {},
   "outputs": [
    {
     "data": {
      "text/plain": [
       "[('spacedicks', (0.5781305686052163, 1385)),\n",
       " ('circlejerk', (0.18934631577970992, 45861)),\n",
       " ('googleplusinvites', (0.11052298941380945, 1089))]"
      ]
     },
     "execution_count": 144,
     "metadata": {},
     "output_type": "execute_result"
    }
   ],
   "source": [
    "screamer_subs \\\n",
    "    .filter(lambda sub_rval: sub_rval[1][1] > 1000) \\ # filter by count\n",
    "    .sortBy(lambda sub_rval: sub_rval[1][0], False) \\ # sort by score\n",
    "    .take(3)"
   ]
  },
  {
   "cell_type": "markdown",
   "metadata": {},
   "source": [
    "### Sentiment Analysis: Positive/Negative Subreddits\n",
    "\n",
    "We find the most positive and negative subreddits by using [Sentiment Analysis](https://en.wikipedia.org/wiki/Sentiment_analysis) to calculate a sentiment score for each comment, and an average sentiment score for each subreddit."
   ]
  },
  {
   "cell_type": "code",
   "execution_count": 48,
   "metadata": {},
   "outputs": [],
   "source": [
    "import nltk\n",
    "from nltk.sentiment.vader import SentimentIntensityAnalyzer\n",
    "sid = SentimentIntensityAnalyzer()"
   ]
  },
  {
   "cell_type": "code",
   "execution_count": 70,
   "metadata": {},
   "outputs": [],
   "source": [
    "def sentiment_mapper(comment):\n",
    "    # Note: the VADER sentiment analyzer is trained on a single sentence as input\n",
    "    # We take a naive initial approach here and simply treat a comment as single sentence\n",
    "    score = sid.polarity_scores(comment['body'])['compound']\n",
    "    return (comment['subreddit'], score)\n",
    "\n",
    "sentiment = rc_t.rdd \\\n",
    "    .map(sentiment_mapper)"
   ]
  },
  {
   "cell_type": "code",
   "execution_count": 67,
   "metadata": {},
   "outputs": [
    {
     "name": "stdout",
     "output_type": "stream",
     "text": [
      "CPU times: user 95.8 ms, sys: 7.38 ms, total: 103 ms\n",
      "Wall time: 10.1 s\n"
     ]
    }
   ],
   "source": [
    "%%time\n",
    "avg_sentiment = sentiment \\\n",
    "    .mapValues(lambda v: (v, 1)) \\ # score, one\n",
    "    .reduceByKey(lambda a,b: (a[0]+b[0], a[1]+b[1])) \\ # sum(scores), sum(ones)\n",
    "    .mapValues(lambda v: (v[0]/v[1], v[1])) \\ # avg_score=(sum_scores/count), count\n",
    "    .filter(lambda k_v: k_v[1][1] > 1000) \\ # filter by count\n",
    "    .sortBy(lambda k_v: k_v[1][0], False) # sort by avg_score"
   ]
  },
  {
   "cell_type": "markdown",
   "metadata": {},
   "source": [
    "The most positive subreddits are:"
   ]
  },
  {
   "cell_type": "code",
   "execution_count": 72,
   "metadata": {},
   "outputs": [
    {
     "data": {
      "text/plain": [
       "[('gonewild', (0.2941499235084141, 1961)),\n",
       " ('Fitness', (0.19091240875912405, 1370)),\n",
       " ('Music', (0.1868072727272727, 1485)),\n",
       " ('mylittlepony', (0.17997485322896284, 1022)),\n",
       " ('TwoXChromosomes', (0.1782817759421786, 1937)),\n",
       " ('Android', (0.1760810091743119, 1090)),\n",
       " ('trees', (0.1685991500829187, 4824)),\n",
       " ('soccer', (0.15145398655139292, 1041)),\n",
       " ('programming', (0.15078088397790054, 2715)),\n",
       " ('leagueoflegends', (0.14420487948265726, 1701))]"
      ]
     },
     "execution_count": 72,
     "metadata": {},
     "output_type": "execute_result"
    }
   ],
   "source": [
    "avg_sentiment.takeOrdered(10, key=lambda k_v: -k_v[1][0]) # take by avg_score desceding"
   ]
  },
  {
   "cell_type": "markdown",
   "metadata": {},
   "source": [
    "The most negative subreddits are:"
   ]
  },
  {
   "cell_type": "code",
   "execution_count": 73,
   "metadata": {},
   "outputs": [
    {
     "data": {
      "text/plain": [
       "[('worldnews', (-0.044262133142448104, 4191)),\n",
       " ('WTF', (-0.0032822580645161217, 6696)),\n",
       " ('politics', (-0.0011439325842696566, 10680)),\n",
       " ('Libertarian', (0.02533822091886608, 1023)),\n",
       " ('funny', (0.04700525547445254, 9590)),\n",
       " ('reddit.com', (0.04863151959576039, 16228)),\n",
       " ('fffffffuuuuuuuuuuuu', (0.048675159976730664, 6876)),\n",
       " ('todayilearned', (0.049298474446987046, 2622)),\n",
       " ('guns', (0.05428072390572392, 1188)),\n",
       " ('videos', (0.05748225513120292, 3849))]"
      ]
     },
     "execution_count": 73,
     "metadata": {},
     "output_type": "execute_result"
    }
   ],
   "source": [
    "avg_sentiment.takeOrdered(10, key=lambda k_v: k_v[1][0]) # take by avg_score ascending"
   ]
  },
  {
   "cell_type": "markdown",
   "metadata": {},
   "source": [
    "### Key Terms (TFIDF): Subreddit Discussion Topics\n",
    "We find the key terms through the collection of comments in the dataset to discover a subreddits' discussion topics at the time. To do so, we calculate the Term frequency-Inverse document frequency ([TFIDF](https://en.wikipedia.org/wiki/Tf–idf)) for the subreddit. We can cache each step/Spark job in the pipeline to calculate the successive results more efficiently."
   ]
  },
  {
   "cell_type": "markdown",
   "metadata": {},
   "source": [
    "#### Term Frequency (TF)\n",
    "We calculate the term frequency/count for a subreddit by summing the term frequencies of all comments in the subreddit, treating them collectively as a single 'document' representing that subreddit. "
   ]
  },
  {
   "cell_type": "code",
   "execution_count": null,
   "metadata": {},
   "outputs": [],
   "source": [
    "from collections import Counter\n",
    "import string\n",
    "import nltk\n",
    "\n",
    "def term_freq_mapper(comment):\n",
    "    body = comment['body']\n",
    "#     tokens = nltk.tokenize.word_tokenize(body.lower())\n",
    "    tokens = [word.strip(string.punctuation) for word in body.lower().split()]\n",
    "    counter = Counter(tokens)\n",
    "    return (comment['subreddit'], counter)\n",
    "\n",
    "term_freq = rc_t.rdd \\\n",
    "    .map(term_freq_mapper) \\\n",
    "    .reduceByKey(lambda a,b: a+b)\n",
    "term_freq.cache()"
   ]
  },
  {
   "cell_type": "markdown",
   "metadata": {},
   "source": [
    "We show the frequency of top terms in a subreddit below. "
   ]
  },
  {
   "cell_type": "code",
   "execution_count": 150,
   "metadata": {},
   "outputs": [
    {
     "name": "stdout",
     "output_type": "stream",
     "text": [
      "politics\n",
      "[('the', 21326), ('to', 13160), ('a', 10442), ('of', 9538), ('and', 9389), ('that', 7717), ('is', 7363), ('i', 6311), ('you', 6176), ('in', 6128), ('it', 5226), ('for', 4320), ('are', 3678), ('not', 3626), ('be', 3237), ('have', 3221), ('they', 3160), ('this', 3019), ('on', 2864), ('as', 2696), ('with', 2596), ('but', 2565), ('if', 2421), ('people', 2388), ('was', 2055), ('or', 1942), ('what', 1927), ('we', 1883), ('would', 1872), ('he', 1836), ('just', 1770), ('your', 1741), ('do', 1736), ('all', 1732), ('so', 1685), ('no', 1630), ('about', 1623), (\"don't\", 1580), ('their', 1579), ('like', 1566), (\"it's\", 1563), ('', 1554), ('at', 1530), ('more', 1521), ('by', 1474), ('an', 1473), ('can', 1472), ('who', 1449), ('from', 1444), ('will', 1365)]\n",
      "CPU times: user 22.3 ms, sys: 1.59 ms, total: 23.8 ms\n",
      "Wall time: 90.6 ms\n"
     ]
    }
   ],
   "source": [
    "%%time\n",
    "sub_term_freq_res_0 = term_freq.take(1)[0]\n",
    "sub_0 = sub_term_freq_res_0[0]\n",
    "term_freq_res_0 = sub_term_freq_res_0[1]\n",
    "print(sub_0)\n",
    "print(sorted(list(term_freq_res_0.items()), key=lambda t_f:t_f[1], reverse=True)[0:50])"
   ]
  },
  {
   "cell_type": "markdown",
   "metadata": {},
   "source": [
    "#### Inverse Document Frequency (IDF)\n",
    "We calculate inverse document frequency, a 'measure of how much information the word provides, i.e., if it's common or rare across all documents' (Wikipedia). To do so, we must first calculate the:\n",
    "- document frequency \n",
    "- number of documents"
   ]
  },
  {
   "cell_type": "markdown",
   "metadata": {},
   "source": [
    "##### Document Frequency\n",
    "We calculate the terms' document frequency (i.e. how common the word is) as the number of 'documents' (subreddits) the word appears in. "
   ]
  },
  {
   "cell_type": "code",
   "execution_count": null,
   "metadata": {},
   "outputs": [],
   "source": [
    "doc_freq = term_freq \\\n",
    "    .flatMap(lambda sub_counter: list(sub_counter[1])) \\\n",
    "    .map(lambda word: (word, 1)) \\\n",
    "    .reduceByKey(lambda a, b: a + b) \\\n",
    "    .sortBy(lambda word_docfreq: word_docfreq[1], False)\n",
    "doc_freq.cache()"
   ]
  },
  {
   "cell_type": "markdown",
   "metadata": {},
   "source": [
    "We show the some of the most common words with their document frequencies below."
   ]
  },
  {
   "cell_type": "code",
   "execution_count": 4,
   "metadata": {},
   "outputs": [
    {
     "name": "stdout",
     "output_type": "stream",
     "text": [
      "[('the', 2818), ('i', 2677), ('a', 2612), ('to', 2601), ('and', 2404), ('of', 2290), ('is', 2232), ('it', 2216), ('you', 2186), ('that', 2148), ('in', 2148), ('for', 2087), ('this', 1938), ('but', 1852), ('on', 1840), ('have', 1805), ('be', 1792), ('with', 1700), ('not', 1666), ('are', 1647), ('if', 1646), ('my', 1588), ('just', 1588), ('so', 1560), ('like', 1519), ('as', 1484), ('was', 1477), ('', 1468), ('at', 1468), ('or', 1464), ('can', 1420), (\"it's\", 1409), (\"i'm\", 1375), ('they', 1373), ('do', 1359), ('one', 1358), ('what', 1355), ('all', 1349), ('me', 1344), ('out', 1340), ('from', 1325), ('get', 1323), ('your', 1314), ('about', 1311), ('there', 1309), ('deleted', 1303), ('up', 1296), ('would', 1283), ('an', 1279), (\"don't\", 1264)]\n",
      "CPU times: user 151 ms, sys: 20.2 ms, total: 171 ms\n",
      "Wall time: 1.5 s\n"
     ]
    }
   ],
   "source": [
    "print(doc_freq.collect()[0:50])"
   ]
  },
  {
   "cell_type": "markdown",
   "metadata": {},
   "source": [
    "##### Number of Documents\n",
    "We get the number of 'documents' in the 'corpus', i.e. the number of subreddits (in the dataset sample). This will be used to calculate the 'inverse document frequency' in the next step."
   ]
  },
  {
   "cell_type": "code",
   "execution_count": 3,
   "metadata": {},
   "outputs": [
    {
     "name": "stdout",
     "output_type": "stream",
     "text": [
      "4097\n",
      "CPU times: user 14.4 ms, sys: 5.29 ms, total: 19.7 ms\n",
      "Wall time: 200 ms\n"
     ]
    }
   ],
   "source": [
    "%%time\n",
    "num_docs = term_freq.count()\n",
    "print(num_docs)"
   ]
  },
  {
   "cell_type": "markdown",
   "metadata": {},
   "source": [
    "##### Inverse Document Frequency\n",
    "Now, we calculate the inverse document frequency (the logarithmically scaled inverse fraction of the documents that contain the word)."
   ]
  },
  {
   "cell_type": "code",
   "execution_count": null,
   "metadata": {},
   "outputs": [],
   "source": [
    "%%time\n",
    "import math\n",
    "\n",
    "inv_doc_freq = doc_freq \\\n",
    "    .map(lambda t_df: (t_df[0], math.log(num_docs / t_df[1]))) \\\n",
    "    .sortBy(lambda t_idf: t_idf[1], True)\n",
    "inv_doc_freq.cache()"
   ]
  },
  {
   "cell_type": "markdown",
   "metadata": {},
   "source": [
    "We show some of the least informative words with their IDF metric below."
   ]
  },
  {
   "cell_type": "code",
   "execution_count": 5,
   "metadata": {},
   "outputs": [
    {
     "name": "stdout",
     "output_type": "stream",
     "text": [
      "[('the', 0.3742275850882455), ('i', 0.4255582340265186), ('a', 0.45013878715054945), ('to', 0.4543590120982195), ('and', 0.5331209818917729), ('of', 0.5817031809985858), ('is', 0.6073569540456695), ('it', 0.6145512296796967), ('you', 0.6281816088103872), ('that', 0.6457178219181158), ('in', 0.6457178219181158), ('for', 0.6745273704696704), ('this', 0.7485984850961596), ('but', 0.7939888623407463), ('on', 0.8004894269438397), ('have', 0.8196944067798898), ('be', 0.8269226840119954), ('with', 0.8796267475025636), ('not', 0.899829454820083), ('are', 0.9112995473692307), ('if', 0.911906896309856), ('my', 0.94777963573979), ('just', 0.94777963573979), ('so', 0.9655691773032884), ('like', 0.9922027749510982), ('as', 1.0155138538195454), ('was', 1.0202419950154913), ('', 1.0263540683724102), ('at', 1.0263540683724102), ('or', 1.0290825830256143), ('can', 1.0595981269515646), (\"it's\", 1.067374765648191), (\"i'm\", 1.0918012674461994), ('they', 1.0932568717789), ('do', 1.1035058633957273), ('one', 1.1042419694282297), ('what', 1.1064535442330699), ('all', 1.1108914213391152), ('me', 1.1146047564637762), ('out', 1.117585384601914), ('from', 1.1288425391265486), ('get', 1.1303531134319154), ('your', 1.1371790785023153), ('about', 1.1394647937831712), ('there', 1.140991511636971), ('deleted', 1.145585700422026), ('up', 1.1509724006346511), ('would', 1.1610539129312345), ('an', 1.1641764759680284), (\"don't\", 1.1759737028400683)]\n",
      "CPU times: user 103 ms, sys: 25.3 ms, total: 129 ms\n",
      "Wall time: 1.15 s\n"
     ]
    }
   ],
   "source": [
    "inv_doc_freq_res = inv_doc_freq.collect();\n",
    "print(inv_doc_freq_res[0:50])"
   ]
  },
  {
   "cell_type": "markdown",
   "metadata": {},
   "source": [
    "#### Term Frequency - Inverse Document Frequency (TFIDF)\n",
    "Finally, we find the TFIDF metric for a specified document (subreddit) by multiplying the frequency of each term by the term's inverse document frequency."
   ]
  },
  {
   "cell_type": "code",
   "execution_count": 125,
   "metadata": {},
   "outputs": [
    {
     "name": "stdout",
     "output_type": "stream",
     "text": [
      "politics\n",
      "[('the', 21326), ('to', 13160), ('a', 10442), ('of', 9538), ('and', 9389), ('that', 7717), ('is', 7363), ('i', 6311), ('you', 6176), ('in', 6128), ('it', 5226), ('for', 4320), ('are', 3678), ('not', 3626), ('be', 3237), ('have', 3221), ('they', 3160), ('this', 3019), ('on', 2864), ('as', 2696), ('with', 2596), ('but', 2565), ('if', 2421), ('people', 2388), ('was', 2055), ('or', 1942), ('what', 1927), ('we', 1883), ('would', 1872), ('he', 1836), ('just', 1770), ('your', 1741), ('do', 1736), ('all', 1732), ('so', 1685), ('no', 1630), ('about', 1623), (\"don't\", 1580), ('their', 1579), ('like', 1566), (\"it's\", 1563), ('', 1554), ('at', 1530), ('more', 1521), ('by', 1474), ('an', 1473), ('can', 1472), ('who', 1449), ('from', 1444), ('will', 1365)]\n",
      "CPU times: user 27.5 ms, sys: 5.58 ms, total: 33.1 ms\n",
      "Wall time: 368 ms\n"
     ]
    }
   ],
   "source": [
    "%%time\n",
    "sub_1 = 'politics'\n",
    "term_freq_res_1 = term_freq.sortByKey().lookup(sub_1)[0]\n",
    "print(sub_1)\n",
    "print(sorted(list(term_freq_res_1.items()), key=lambda t_f:t_f[1], reverse=True)[0:50])"
   ]
  },
  {
   "cell_type": "code",
   "execution_count": 126,
   "metadata": {},
   "outputs": [
    {
     "name": "stdout",
     "output_type": "stream",
     "text": [
      "programming\n",
      "[('the', 4242), ('to', 2970), ('a', 2631), ('of', 2040), ('and', 2008), ('i', 1859), ('is', 1834), ('that', 1759), ('it', 1662), ('you', 1592), ('in', 1357), ('for', 1130), ('', 915), ('with', 786), ('not', 777), ('be', 776), ('but', 767), ('have', 722), ('on', 719), ('this', 710), ('are', 692), ('as', 626), ('if', 615), ('or', 517), ('can', 495), (\"it's\", 488), ('just', 466), ('they', 445), ('like', 442), ('so', 433), ('an', 431), ('your', 429), ('was', 428), ('do', 414), ('my', 399), (\"don't\", 398), ('what', 398), ('at', 378), ('all', 360), ('use', 352), ('would', 337), ('more', 337), ('from', 326), ('gt', 326), ('about', 322), ('some', 298), ('there', 291), (\"i'm\", 290), ('one', 289), ('when', 285)]\n",
      "CPU times: user 20 ms, sys: 3.16 ms, total: 23.2 ms\n",
      "Wall time: 332 ms\n"
     ]
    }
   ],
   "source": [
    "%%time\n",
    "sub_2 = 'programming'\n",
    "term_freq_res_2 = term_freq.sortByKey().lookup(sub_2)[0]\n",
    "print(sub_2)\n",
    "print(sorted(list(term_freq_res_2.items()), key=lambda t_f:t_f[1], reverse=True)[0:50])"
   ]
  },
  {
   "cell_type": "code",
   "execution_count": 69,
   "metadata": {},
   "outputs": [
    {
     "data": {
      "text/plain": [
       "{'the': 0.3742275850882455,\n",
       " 'i': 0.4255582340265186,\n",
       " 'a': 0.45013878715054945,\n",
       " 'to': 0.4543590120982195,\n",
       " 'and': 0.5331209818917729,\n",
       " 'of': 0.5817031809985858,\n",
       " 'is': 0.6073569540456695,\n",
       " 'it': 0.6145512296796967,\n",
       " 'you': 0.6281816088103872,\n",
       " 'in': 0.6457178219181158,\n",
       " 'that': 0.6457178219181158,\n",
       " 'for': 0.6745273704696704,\n",
       " 'this': 0.7485984850961596,\n",
       " 'but': 0.7939888623407463,\n",
       " 'on': 0.8004894269438397,\n",
       " 'have': 0.8196944067798898,\n",
       " 'be': 0.8269226840119954,\n",
       " 'with': 0.8796267475025636,\n",
       " 'not': 0.899829454820083,\n",
       " 'are': 0.9112995473692307,\n",
       " 'if': 0.911906896309856,\n",
       " 'my': 0.94777963573979,\n",
       " 'just': 0.94777963573979,\n",
       " 'so': 0.9655691773032884,\n",
       " 'like': 0.9922027749510982,\n",
       " 'as': 1.0155138538195454,\n",
       " 'was': 1.0202419950154913,\n",
       " '': 1.0263540683724102,\n",
       " 'at': 1.0263540683724102,\n",
       " 'or': 1.0290825830256143,\n",
       " 'can': 1.0595981269515646,\n",
       " \"it's\": 1.067374765648191,\n",
       " \"i'm\": 1.0918012674461994,\n",
       " 'they': 1.0932568717789,\n",
       " 'do': 1.1035058633957273,\n",
       " 'one': 1.1042419694282297,\n",
       " 'what': 1.1064535442330699,\n",
       " 'all': 1.1108914213391152,\n",
       " 'me': 1.1146047564637762,\n",
       " 'out': 1.117585384601914,\n",
       " 'from': 1.1288425391265486,\n",
       " 'get': 1.1303531134319154,\n",
       " 'your': 1.1371790785023153,\n",
       " 'about': 1.1394647937831712,\n",
       " 'there': 1.140991511636971,\n",
       " 'deleted': 1.145585700422026,\n",
       " 'up': 1.1509724006346511,\n",
       " 'would': 1.1610539129312345,\n",
       " 'an': 1.1641764759680284,\n",
       " \"don't\": 1.1759737028400683,\n",
       " 'more': 1.1943374923422638,\n",
       " 'will': 1.2089481418596988,\n",
       " 'some': 1.2163343059274274,\n",
       " 'good': 1.2262681624517182,\n",
       " 'think': 1.233783855448955,\n",
       " 'when': 1.2515433074099132,\n",
       " 'no': 1.2687554362910345,\n",
       " 'really': 1.2731051604175003,\n",
       " 'time': 1.2906957635070948,\n",
       " 'know': 1.297819569234946,\n",
       " 'how': 1.306796290196504,\n",
       " 'also': 1.3131282878340111,\n",
       " 'them': 1.3249951546139105,\n",
       " 'has': 1.3454040262451177,\n",
       " 'people': 1.3472801994033456,\n",
       " 'by': 1.3510431389328879,\n",
       " 'only': 1.3652816329220028,\n",
       " 'see': 1.367195509104287,\n",
       " 'we': 1.3681538225460985,\n",
       " 'much': 1.3691130552335589,\n",
       " 'well': 1.393397881498311,\n",
       " 'go': 1.405267457053695,\n",
       " 'then': 1.4072594895849355,\n",
       " 'because': 1.4142630199622728,\n",
       " 'now': 1.437626195360866,\n",
       " 'any': 1.438654473086432,\n",
       " 'been': 1.441745665656105,\n",
       " 'too': 1.4438117820935767,\n",
       " 'other': 1.4542068860939168,\n",
       " \"i've\": 1.4604962150014806,\n",
       " 'make': 1.4604962150014806,\n",
       " 'than': 1.4657677084949927,\n",
       " 'want': 1.4721304022828214,\n",
       " 'way': 1.4742603285406466,\n",
       " 'going': 1.4763948010692791,\n",
       " 'had': 1.4806774628612798,\n",
       " 'could': 1.4849785447606705,\n",
       " 'should': 1.493636607503785,\n",
       " 'very': 1.493636607503785,\n",
       " 'here': 1.493636607503785,\n",
       " 'even': 1.5012743969519027,\n",
       " \"that's\": 1.5167272430752508,\n",
       " \"you're\": 1.5245441449668617,\n",
       " 'sure': 1.5290385345547008,\n",
       " 'their': 1.5301652952372917,\n",
       " 'who': 1.534685076942911,\n",
       " 'he': 1.5358182215400797,\n",
       " 'though': 1.550667152281479,\n",
       " 'into': 1.5564375087428155,\n",
       " 'which': 1.5564375087428155,\n",
       " 'right': 1.5564375087428155,\n",
       " 'something': 1.5622413555626156,\n",
       " 'where': 1.5680790837583012,\n",
       " 'still': 1.572773928062509,\n",
       " 'most': 1.579857782950914,\n",
       " 'great': 1.583418617573923,\n",
       " 'pretty': 1.5846083857095117,\n",
       " 'work': 1.5893816644621694,\n",
       " 'first': 1.5953804826914229,\n",
       " 'did': 1.613595922582764,\n",
       " 'need': 1.6185099373851932,\n",
       " 'got': 1.6222113604883794,\n",
       " 'thanks': 1.6234482190257757,\n",
       " 'back': 1.6234482190257757,\n",
       " 'lot': 1.6309016696803567,\n",
       " 'were': 1.6434488857324452,\n",
       " 'same': 1.6472439567009969,\n",
       " 'use': 1.6472439567009969,\n",
       " 'say': 1.6510534851176644,\n",
       " 'why': 1.65615553700156,\n",
       " 'take': 1.6587163578632336,\n",
       " 'those': 1.6625699271792236,\n",
       " \"can't\": 1.6638577573636524,\n",
       " 'after': 1.665147248193524,\n",
       " 'actually': 1.666438403957144,\n",
       " 'am': 1.667731228959449,\n",
       " 'find': 1.6703219039835415,\n",
       " 'over': 1.6755234761796147,\n",
       " 'off': 1.6768281078062797,\n",
       " 'thing': 1.6860085001512413,\n",
       " 'look': 1.6860085001512413,\n",
       " 'better': 1.6886470241094222,\n",
       " 'being': 1.689968901367338,\n",
       " 'down': 1.7086610343794908,\n",
       " 'never': 1.7140664529463985,\n",
       " 'these': 1.7235968177970926,\n",
       " 'its': 1.724965743404434,\n",
       " 'things': 1.726336545538213,\n",
       " 'new': 1.7290838000133517,\n",
       " 'probably': 1.7346010553881064,\n",
       " 'love': 1.7359851386540448,\n",
       " 'his': 1.7373711402619219,\n",
       " 'might': 1.7387590655367702,\n",
       " \"i'll\": 1.7429344369472508,\n",
       " 'around': 1.7443301105862254,\n",
       " \"didn't\": 1.7457277348528635,\n",
       " 'try': 1.7457277348528635,\n",
       " 'before': 1.7612319213888286,\n",
       " 'does': 1.7626533857362061,\n",
       " 'always': 1.7683595353130608,\n",
       " 'anything': 1.7755383170400665,\n",
       " 'best': 1.7784243219292015,\n",
       " \"doesn't\": 1.7798704537792012,\n",
       " \"i'd\": 1.7842214396135274,\n",
       " 'few': 1.7842214396135274,\n",
       " 'two': 1.792980619703409,\n",
       " 'maybe': 1.800339004634596,\n",
       " 'while': 1.801817201503907,\n",
       " 'many': 1.804780166634564,\n",
       " 'someone': 1.8062649479021433,\n",
       " 'little': 1.8122262174186428,\n",
       " 'getting': 1.816720607006482,\n",
       " 'said': 1.8288053462215539,\n",
       " 'doing': 1.8303262590622604,\n",
       " 'yeah': 1.8395006353383019,\n",
       " 'made': 1.842577560842781,\n",
       " 'since': 1.8534219738569098,\n",
       " \"isn't\": 1.8596719942020812,\n",
       " '2': 1.8612406219747077,\n",
       " 'every': 1.8612406219747077,\n",
       " 'may': 1.8691208834000137,\n",
       " 'through': 1.870704415005658,\n",
       " 'long': 1.8738790208464304,\n",
       " 'nice': 1.8754701110786725,\n",
       " 'used': 1.8802586278104696,\n",
       " 'years': 1.8802586278104696,\n",
       " 'point': 1.8818599091774435,\n",
       " \"there's\": 1.8850701848076916,\n",
       " 'year': 1.8882907995077338,\n",
       " 'give': 1.889905004862275,\n",
       " 'enough': 1.9029133183752758,\n",
       " 'him': 1.907835395580704,\n",
       " 'bit': 1.907835395580704,\n",
       " 'day': 1.9094814864873728,\n",
       " 'bad': 1.914436079612056,\n",
       " 'us': 1.914436079612056,\n",
       " 'come': 1.91775283223805,\n",
       " 'feel': 1.9210806223307246,\n",
       " 'last': 1.9210806223307246,\n",
       " 'thought': 1.936194260140773,\n",
       " 'put': 1.9412833296482441,\n",
       " 'again': 1.9463984303150146,\n",
       " 'stuff': 1.948109294718644,\n",
       " 'ever': 1.95325952069496,\n",
       " 'keep': 1.95325952069496,\n",
       " 'different': 1.9567077999738758,\n",
       " 'looking': 1.9653808812273048,\n",
       " 'awesome': 1.9653808812273048,\n",
       " 'yes': 1.9653808812273048,\n",
       " 'idea': 1.9671245608321315,\n",
       " 'part': 1.9671245608321315,\n",
       " 'another': 1.9688712861670732,\n",
       " 'post': 1.9688712861670732,\n",
       " 'help': 1.9688712861670732,\n",
       " 'place': 1.9723739167182752,\n",
       " 'least': 1.9723739167182752,\n",
       " 'makes': 1.97412984342054,\n",
       " 'big': 1.979416199343688,\n",
       " 'seems': 1.9847306494071806,\n",
       " 'trying': 1.98650842765318,\n",
       " 'our': 1.98650842765318,\n",
       " 'kind': 1.9900734938176763,\n",
       " 'both': 1.9900734938176763,\n",
       " 'already': 1.991860804391772,\n",
       " 'done': 1.9936513151655602,\n",
       " 'oh': 1.9954450376195871,\n",
       " 'once': 1.9954450376195871,\n",
       " 'far': 2.0026522760245364,\n",
       " 'having': 2.004462231269776,\n",
       " 'end': 2.0062754683939565,\n",
       " 'next': 2.0117349905988555,\n",
       " 'either': 2.01356147512489,\n",
       " 'start': 2.0153913018019662,\n",
       " '1': 2.0153913018019662,\n",
       " 'without': 2.0209009576129358,\n",
       " 'using': 2.0245909987003894,\n",
       " 'looks': 2.026441137988551,\n",
       " 'own': 2.0301517173850865,\n",
       " '3': 2.0301517173850865,\n",
       " 'mean': 2.0357435306508647,\n",
       " 'hard': 2.0376144385866763,\n",
       " 'shit': 2.0394888533810267,\n",
       " \"they're\": 2.043248256304932,\n",
       " 'problem': 2.043248256304932,\n",
       " 'let': 2.0470218456885716,\n",
       " 'else': 2.050809729005509,\n",
       " 'read': 2.0527090648091613,\n",
       " 'anyone': 2.0527090648091613,\n",
       " 'definitely': 2.0546120149552474,\n",
       " 'until': 2.0546120149552474,\n",
       " 'such': 2.0546120149552474,\n",
       " 'able': 2.056518593225829,\n",
       " 'nothing': 2.0603426896642323,\n",
       " 'guy': 2.069967403038442,\n",
       " 'tell': 2.069967403038442,\n",
       " 'reason': 2.075787012091706,\n",
       " 'check': 2.075787012091706,\n",
       " 'edit': 2.0816406873431665,\n",
       " 'her': 2.089499273955688,\n",
       " 'etc': 2.0914736082594056,\n",
       " 'quite': 2.0974201074471317,\n",
       " 'live': 2.1014041764620064,\n",
       " 'life': 2.1034021791246795,\n",
       " 'found': 2.1034021791246795,\n",
       " 'she': 2.1054041817953526,\n",
       " 'everything': 2.1054041817953526,\n",
       " 'seen': 2.1134525149781807,\n",
       " 'man': 2.1134525149781807,\n",
       " 'old': 2.125647788071999,\n",
       " 'everyone': 2.125647788071999,\n",
       " 'guess': 2.1297461544642813,\n",
       " 'gt': 2.1318016536463773,\n",
       " 'game': 2.1318016536463773,\n",
       " 'times': 2.133861386609388,\n",
       " 'however': 2.1359253708302393,\n",
       " \"wouldn't\": 2.1442241736449343,\n",
       " 'yet': 2.148399545055415,\n",
       " 'less': 2.148399545055415,\n",
       " 'hope': 2.152592423315451,\n",
       " 'away': 2.152592423315451,\n",
       " 'real': 2.15469547351223,\n",
       " 'cool': 2.158914889054938,\n",
       " 'play': 2.1610312919613155,\n",
       " 'money': 2.1631521835304532,\n",
       " 'reddit': 2.1631521835304532,\n",
       " 'each': 2.1631521835304532,\n",
       " 'sorry': 2.1631521835304532,\n",
       " 'thank': 2.1674075091005918,\n",
       " 'whole': 2.1695419816292243,\n",
       " 'making': 2.1716810198779735,\n",
       " 'wrong': 2.1759728719595146,\n",
       " 'free': 2.1781257253206157,\n",
       " 'show': 2.180283223460637,\n",
       " 'fun': 2.1824453864651323,\n",
       " 'mind': 2.1824453864651323,\n",
       " 'remember': 2.1933268866526663,\n",
       " 'went': 2.1977128585959207,\n",
       " \"you'll\": 2.199913079505523,\n",
       " 'agree': 2.202118152063837,\n",
       " 'saying': 2.20432809771464,\n",
       " 'case': 2.2065429380441928,\n",
       " 'almost': 2.208762694782506,\n",
       " 'sounds': 2.215451682933302,\n",
       " 'between': 2.215451682933302,\n",
       " 'world': 2.217691325526807,\n",
       " 'guys': 2.217691325526807,\n",
       " 'works': 2.219935995380631,\n",
       " 'understand': 2.2221857151146462,\n",
       " 'ago': 2.2221857151146462,\n",
       " 'believe': 2.2244405075017353,\n",
       " \"won't\": 2.226700395469173,\n",
       " '4': 2.226700395469173,\n",
       " 'person': 2.226700395469173,\n",
       " 'high': 2.226700395469173,\n",
       " \"haven't\": 2.228965402100025,\n",
       " \"he's\": 2.228965402100025,\n",
       " '5': 2.235791367170425,\n",
       " 'set': 2.238077082451281,\n",
       " \"aren't\": 2.242664246458187,\n",
       " \"wasn't\": 2.2449657434464663,\n",
       " 'please': 2.2472725495443813,\n",
       " 'especially': 2.2495846893027607,\n",
       " 'small': 2.251902187443123,\n",
       " 'job': 2.254225068859263,\n",
       " 'usually': 2.254225068859263,\n",
       " 'rather': 2.256553358618854,\n",
       " 'fuck': 2.2588870819650744,\n",
       " 'couple': 2.2612262643182466,\n",
       " 'top': 2.2635709312775005,\n",
       " 'fact': 2.2635709312775005,\n",
       " 'instead': 2.2682768223149132,\n",
       " 'second': 2.2730049635108593,\n",
       " 'run': 2.27537744386449,\n",
       " 'worth': 2.277755566269457,\n",
       " 'exactly': 2.277755566269457,\n",
       " 'true': 2.280139357624733,\n",
       " 'seem': 2.2849240557480694,\n",
       " 'myself': 2.2873250172856077,\n",
       " 'buy': 2.2897317573161726,\n",
       " 'full': 2.2994170630506363,\n",
       " 'course': 2.3018531178485175,\n",
       " 'days': 2.3067431031427095,\n",
       " 'fine': 2.3067431031427095,\n",
       " 'gets': 2.3067431031427095,\n",
       " 'link': 2.3067431031427095,\n",
       " 'working': 2.3116571179451384,\n",
       " 'add': 2.3141232104403318,\n",
       " 'name': 2.319073715600188,\n",
       " 'started': 2.32155818892785,\n",
       " 'ones': 2.32155818892785,\n",
       " 'heard': 2.32155818892785,\n",
       " 'comes': 2.32155818892785,\n",
       " 'saw': 2.3265457304388892,\n",
       " 'others': 2.3290488606570077,\n",
       " 'interesting': 2.3290488606570077,\n",
       " 'friends': 2.3290488606570077,\n",
       " 'd': 2.3315582722624333,\n",
       " 'completely': 2.3315582722624333,\n",
       " 'means': 2.3365960662923904,\n",
       " 'week': 2.3365960662923904,\n",
       " 'thinking': 2.3391245126457494,\n",
       " 'change': 2.341659368248937,\n",
       " 'came': 2.341659368248937,\n",
       " 'left': 2.3442006656776098,\n",
       " 'question': 2.3442006656776098,\n",
       " 'side': 2.3442006656776098,\n",
       " 'ask': 2.3467484377564087,\n",
       " 'talking': 2.3467484377564087,\n",
       " 'call': 2.349302717561505,\n",
       " 'night': 2.3544309339284246,\n",
       " 'home': 2.3544309339284246,\n",
       " 'tried': 2.3544309339284246,\n",
       " 'must': 2.3570049379235978,\n",
       " 'under': 2.3595855845170894,\n",
       " 'yourself': 2.3621729080820404,\n",
       " 'wait': 2.3647669432590868,\n",
       " 'sort': 2.3673677249591445,\n",
       " 'often': 2.3725896689402957,\n",
       " 'took': 2.37521090242017,\n",
       " 'fucking': 2.37783902482644,\n",
       " 'stop': 2.3804740724644446,\n",
       " \"you've\": 2.3831160819272834,\n",
       " 'easy': 2.3831160819272834,\n",
       " 'care': 2.3831160819272834,\n",
       " '10': 2.3831160819272834,\n",
       " 'possible': 2.3857650900988605,\n",
       " 'ok': 2.3857650900988605,\n",
       " 'similar': 2.3884211341569763,\n",
       " 'goes': 2.3884211341569763,\n",
       " 'experience': 2.3884211341569763,\n",
       " 'wanted': 2.3884211341569763,\n",
       " 'lol': 2.3910842515764603,\n",
       " 'hear': 2.393754480132339,\n",
       " 'sense': 2.3964318579030555,\n",
       " 'called': 2.3991164232737243,\n",
       " 'matter': 2.3991164232737243,\n",
       " 'happy': 2.401808214939436,\n",
       " 'unless': 2.40992733937794,\n",
       " 'whatever': 2.40992733937794,\n",
       " 'system': 2.4126484294923007,\n",
       " 'against': 2.4153769441455046,\n",
       " 'wish': 2.4153769441455046,\n",
       " 'anyway': 2.4153769441455046,\n",
       " \"we're\": 2.4208564099101304,\n",
       " 'pay': 2.4208564099101304,\n",
       " 'taking': 2.4208564099101304,\n",
       " 'friend': 2.4236074432820205,\n",
       " 'coming': 2.4236074432820205,\n",
       " 'amazing': 2.4263660657211,\n",
       " 'open': 2.4291323192139904,\n",
       " 'hell': 2.4319062460967156,\n",
       " 'needs': 2.4374772911461706,\n",
       " 'line': 2.4430795466948405,\n",
       " 'comment': 2.4458924880714554,\n",
       " 'learn': 2.4487133644130967,\n",
       " 'school': 2.4515422206135744,\n",
       " 'basically': 2.4515422206135744,\n",
       " 'video': 2.4543791019487737,\n",
       " 'past': 2.4543791019487737,\n",
       " 'head': 2.4543791019487737,\n",
       " 'close': 2.457224054081005,\n",
       " 'based': 2.460077123063412,\n",
       " \"what's\": 2.460077123063412,\n",
       " 'talk': 2.460077123063412,\n",
       " 'damn': 2.462938355344444,\n",
       " 'interested': 2.465807797772397,\n",
       " 'deal': 2.465807797772397,\n",
       " 'half': 2.4686854976000117,\n",
       " 'today': 2.4686854976000117,\n",
       " 'move': 2.4715715024891467,\n",
       " 'level': 2.4715715024891467,\n",
       " 'wow': 2.4715715024891467,\n",
       " 'rest': 2.474465860515511,\n",
       " 'hate': 2.477368620173473,\n",
       " 'seriously': 2.4831995404842657,\n",
       " 'sometimes': 2.4831995404842657,\n",
       " 'issue': 2.4861278002633544,\n",
       " 'months': 2.4861278002633544,\n",
       " 'says': 2.4861278002633544,\n",
       " 'likely': 2.489064659936664,\n",
       " 'during': 2.4920101701664206,\n",
       " 'type': 2.4920101701664206,\n",
       " 'p': 2.4920101701664206,\n",
       " 'important': 2.494964382063852,\n",
       " 'number': 2.500899117583667,\n",
       " 'haha': 2.500899117583667,\n",
       " 'sound': 2.5038797457218047,\n",
       " 'enjoy': 2.5068692845701706,\n",
       " 'god': 2.5068692845701706,\n",
       " 'mine': 2.5128753086303823,\n",
       " 'later': 2.5128753086303823,\n",
       " 'power': 2.515891902169808,\n",
       " 'although': 2.515891902169808,\n",
       " 'three': 2.5189176230863453,\n",
       " 'leave': 2.521952526781499,\n",
       " \"couldn't\": 2.5280501066496175,\n",
       " 'example': 2.531112896180163,\n",
       " 'happen': 2.537266761754542,\n",
       " 'list': 2.537266761754542,\n",
       " 'together': 2.537266761754542,\n",
       " 'hit': 2.5403579543242145,\n",
       " 'absolutely': 2.543458732002463,\n",
       " 'single': 2.546569154416855,\n",
       " 'reading': 2.546569154416855,\n",
       " '6': 2.546569154416855,\n",
       " 'huge': 2.549689281753099,\n",
       " 'playing': 2.549689281753099,\n",
       " 'story': 2.5528191747620266,\n",
       " 'watch': 2.5559588947666945,\n",
       " 'hours': 2.5559588947666945,\n",
       " 'totally': 2.5591085036695906,\n",
       " 'posted': 2.5591085036695906,\n",
       " 'area': 2.565437638721238,\n",
       " 'luck': 2.565437638721238,\n",
       " 'order': 2.568617291638618,\n",
       " 'simply': 2.571807087006718,\n",
       " 'state': 2.575007089737389,\n",
       " 'games': 2.578217365367637,\n",
       " 'hand': 2.578217365367637,\n",
       " 'seeing': 2.581437980067679,\n",
       " 'information': 2.5846690006491255,\n",
       " 'subreddit': 2.5879104945732965,\n",
       " 'favorite': 2.5911625299596737,\n",
       " 'hey': 2.5911625299596737,\n",
       " 'personally': 2.5911625299596737,\n",
       " 'soon': 2.5944251755944903,\n",
       " '20': 2.5976985009394595,\n",
       " 'running': 2.5976985009394595,\n",
       " 'lots': 2.6009825761406495,\n",
       " 'turn': 2.6009825761406495,\n",
       " 'along': 2.6009825761406495,\n",
       " 'problems': 2.6009825761406495,\n",
       " 'house': 2.6042774720375017,\n",
       " 'general': 2.6042774720375017,\n",
       " 'large': 2.6075832601720013,\n",
       " 'become': 2.6075832601720013,\n",
       " 'takes': 2.6075832601720013,\n",
       " 'issues': 2.610900012797995,\n",
       " 'except': 2.610900012797995,\n",
       " 'difference': 2.610900012797995,\n",
       " 'plan': 2.61422780289067,\n",
       " '100': 2.6175667041561845,\n",
       " 'amount': 2.6175667041561845,\n",
       " 'obviously': 2.6175667041561845,\n",
       " 'whether': 2.6209167910414664,\n",
       " 'given': 2.6209167910414664,\n",
       " 'lost': 2.6242781387441716,\n",
       " 'short': 2.6242781387441716,\n",
       " \"you'd\": 2.6242781387441716,\n",
       " 'face': 2.6242781387441716,\n",
       " 'original': 2.627650823222811,\n",
       " 'picture': 2.627650823222811,\n",
       " 'looked': 2.627650823222811,\n",
       " 'entire': 2.627650823222811,\n",
       " 'site': 2.631034921207051,\n",
       " 'behind': 2.631034921207051,\n",
       " 'outside': 2.631034921207051,\n",
       " 'honestly': 2.631034921207051,\n",
       " 'class': 2.631034921207051,\n",
       " 'recommend': 2.6344305102081895,\n",
       " 'mostly': 2.6344305102081895,\n",
       " 'version': 2.6344305102081895,\n",
       " 'minutes': 2.6344305102081895,\n",
       " 'bring': 2.6378376685298037,\n",
       " 'above': 2.641256475278589,\n",
       " 'plus': 2.641256475278589,\n",
       " 'internet': 2.6446870103753786,\n",
       " 'told': 2.6481293545663513,\n",
       " 'support': 2.6481293545663513,\n",
       " 'happened': 2.651583589434439,\n",
       " 'due': 2.651583589434439,\n",
       " 'chance': 2.651583589434439,\n",
       " 'local': 2.651583589434439,\n",
       " 'pick': 2.651583589434439,\n",
       " 'stay': 2.651583589434439,\n",
       " \"here's\": 2.651583589434439,\n",
       " 'month': 2.6550497974109253,\n",
       " 'word': 2.6550497974109253,\n",
       " 'consider': 2.65852806178725,\n",
       " 'thread': 2.6620184667270186,\n",
       " 'easily': 2.6620184667270186,\n",
       " 'book': 2.6655210972782206,\n",
       " 'group': 2.6655210972782206,\n",
       " 'certainly': 2.6655210972782206,\n",
       " 'article': 2.6655210972782206,\n",
       " 'bunch': 2.669036039385665,\n",
       " 'wants': 2.669036039385665,\n",
       " 'actual': 2.669036039385665,\n",
       " 'im': 2.669036039385665,\n",
       " 'stupid': 2.669036039385665,\n",
       " 'somewhere': 2.669036039385665,\n",
       " 'room': 2.6725633799036332,\n",
       " 'food': 2.6725633799036332,\n",
       " 'amp': 2.6725633799036332,\n",
       " 'black': 2.6761032066087576,\n",
       " 'answer': 2.6761032066087576,\n",
       " 'opinion': 2.679655608213125,\n",
       " 'front': 2.679655608213125,\n",
       " 'current': 2.6832206743776217,\n",
       " 'certain': 2.6832206743776217,\n",
       " 'worked': 2.6832206743776217,\n",
       " 'decent': 2.6867984957255056,\n",
       " 'otherwise': 2.690389163856234,\n",
       " 'break': 2.690389163856234,\n",
       " 'easier': 2.690389163856234,\n",
       " 'perhaps': 2.690389163856234,\n",
       " 'dude': 2.690389163856234,\n",
       " 'water': 2.6939927713595324,\n",
       " 'spend': 2.6939927713595324,\n",
       " 'imagine': 2.697609411829721,\n",
       " 'situation': 2.697609411829721,\n",
       " 'clear': 2.697609411829721,\n",
       " 'starting': 2.697609411829721,\n",
       " 'longer': 2.7012391798802997,\n",
       " 'themselves': 2.7012391798802997,\n",
       " 'save': 2.7012391798802997,\n",
       " 'online': 2.7012391798802997,\n",
       " 'figure': 2.704882171158801,\n",
       " 'super': 2.704882171158801,\n",
       " 'taken': 2.704882171158801,\n",
       " 'itself': 2.704882171158801,\n",
       " 'white': 2.708538482361911,\n",
       " 'perfect': 2.708538482361911,\n",
       " 'weeks': 2.708538482361911,\n",
       " 'cheap': 2.708538482361911,\n",
       " 'family': 2.708538482361911,\n",
       " 'near': 2.708538482361911,\n",
       " 'okay': 2.7122082112508736,\n",
       " 'simple': 2.7122082112508736,\n",
       " 'city': 2.7122082112508736,\n",
       " 'places': 2.7122082112508736,\n",
       " 'thats': 2.7122082112508736,\n",
       " 'quality': 2.7122082112508736,\n",
       " 'crazy': 2.7122082112508736,\n",
       " 'generally': 2.7158914566671704,\n",
       " 'kinda': 2.7158914566671704,\n",
       " 'ass': 2.7195883185484964,\n",
       " 'meant': 2.723298897945032,\n",
       " 'dont': 2.7270232970360144,\n",
       " 'knew': 2.7270232970360144,\n",
       " 'alone': 2.7270232970360144,\n",
       " 'kids': 2.7270232970360144,\n",
       " 'cause': 2.7307616191466217,\n",
       " 'several': 2.7307616191466217,\n",
       " 'main': 2.7307616191466217,\n",
       " 'glad': 2.7307616191466217,\n",
       " 'asking': 2.7307616191466217,\n",
       " 'happens': 2.7307616191466217,\n",
       " 'style': 2.7307616191466217,\n",
       " 'realize': 2.734513968765172,\n",
       " \"shouldn't\": 2.734513968765172,\n",
       " 'community': 2.738280451560649,\n",
       " 'low': 2.738280451560649,\n",
       " 'hold': 2.738280451560649,\n",
       " 'common': 2.738280451560649,\n",
       " 'major': 2.742061174400555,\n",
       " 'early': 2.742061174400555,\n",
       " 'currently': 2.742061174400555,\n",
       " 'correct': 2.7458562453691067,\n",
       " 'funny': 2.7458562453691067,\n",
       " 'control': 2.7458562453691067,\n",
       " 'needed': 2.7496657737857744,\n",
       " 'gonna': 2.7496657737857744,\n",
       " 'red': 2.7496657737857744,\n",
       " '7': 2.7496657737857744,\n",
       " 'price': 2.7496657737857744,\n",
       " 'within': 2.7496657737857744,\n",
       " 'giving': 2.7496657737857744,\n",
       " 'hot': 2.7573286465313434,\n",
       " 'points': 2.7573286465313434,\n",
       " 'cannot': 2.761182215847333,\n",
       " 'suggest': 2.761182215847333,\n",
       " 'serious': 2.761182215847333,\n",
       " 'note': 2.761182215847333,\n",
       " 'gave': 2.7650506926252536,\n",
       " 'page': 2.7650506926252536,\n",
       " 'choice': 2.7650506926252536,\n",
       " 'advice': 2.7650506926252536,\n",
       " 'cut': 2.7650506926252536,\n",
       " 'questions': 2.7689341926516513,\n",
       " 'gives': 2.7689341926516513,\n",
       " 'comments': 2.7689341926516513,\n",
       " 'asked': 2.7689341926516513,\n",
       " 'normal': 2.7689341926516513,\n",
       " 'extra': 2.7728328330673087,\n",
       " 'light': 2.7728328330673087,\n",
       " 'college': 2.7728328330673087,\n",
       " 'worse': 2.7767467323884447,\n",
       " 'music': 2.7767467323884447,\n",
       " 'played': 2.7806760105283344,\n",
       " 'store': 2.7806760105283344,\n",
       " 'future': 2.7806760105283344,\n",
       " 'country': 2.7846207888193506,\n",
       " 'cost': 2.7846207888193506,\n",
       " 'explain': 2.7846207888193506,\n",
       " 'personal': 2.7846207888193506,\n",
       " 'fair': 2.7846207888193506,\n",
       " 'late': 2.788581190035448,\n",
       " 'across': 2.788581190035448,\n",
       " 'body': 2.788581190035448,\n",
       " 'mention': 2.788581190035448,\n",
       " 'girl': 2.792557338415087,\n",
       " 'fan': 2.792557338415087,\n",
       " 'bought': 2.796549359684625,\n",
       " \"let's\": 2.796549359684625,\n",
       " 'specific': 2.796549359684625,\n",
       " 'build': 2.796549359684625,\n",
       " 'account': 2.8005573810821636,\n",
       " 'per': 2.8005573810821636,\n",
       " 'living': 2.8005573810821636,\n",
       " 'feeling': 2.8005573810821636,\n",
       " 'difficult': 2.8005573810821636,\n",
       " 'company': 2.8005573810821636,\n",
       " 'computer': 2.8005573810821636,\n",
       " 'process': 2.8005573810821636,\n",
       " 'crap': 2.804581531381889,\n",
       " 'expect': 2.804581531381889,\n",
       " 'send': 2.804581531381889,\n",
       " 'worry': 2.804581531381889,\n",
       " 'team': 2.808621940918894,\n",
       " 'watching': 2.808621940918894,\n",
       " 'public': 2.808621940918894,\n",
       " 'words': 2.808621940918894,\n",
       " 'unfortunately': 2.808621940918894,\n",
       " 'higher': 2.8126787416145085,\n",
       " 'mentioned': 2.8126787416145085,\n",
       " '30': 2.8126787416145085,\n",
       " 'op': 2.816752067002144,\n",
       " 'available': 2.816752067002144,\n",
       " 'lose': 2.8208420522536692,\n",
       " 'finally': 2.8208420522536692,\n",
       " 'apparently': 2.8208420522536692,\n",
       " 'finding': 2.8208420522536692,\n",
       " 'kill': 2.8249488342063227,\n",
       " 'complete': 2.8249488342063227,\n",
       " 'shows': 2.8249488342063227,\n",
       " 'moving': 2.8249488342063227,\n",
       " 'fast': 2.8290725513901847,\n",
       " 'website': 2.833213344056216,\n",
       " 'helps': 2.833213344056216,\n",
       " 'recently': 2.833213344056216,\n",
       " 'expensive': 2.833213344056216,\n",
       " 'forget': 2.833213344056216,\n",
       " 'moment': 2.833213344056216,\n",
       " 'wonder': 2.8415467256153604,\n",
       " '8': 2.8415467256153604,\n",
       " 'drive': 2.8415467256153604,\n",
       " 'form': 2.8415467256153604,\n",
       " 'car': 2.8415467256153604,\n",
       " 'bet': 2.8415467256153604,\n",
       " 'supposed': 2.8415467256153604,\n",
       " 'random': 2.8457396038753964,\n",
       " 'eat': 2.8457396038753964,\n",
       " 'option': 2.8457396038753964,\n",
       " 'poor': 2.8457396038753964,\n",
       " 'dead': 2.84995013641174,\n",
       " 'knows': 2.84995013641174,\n",
       " 'view': 2.84995013641174,\n",
       " 'felt': 2.854178472521261,\n",
       " 'inside': 2.858424763402712,\n",
       " 'fairly': 2.858424763402712,\n",
       " 'ah': 2.858424763402712,\n",
       " 'straight': 2.858424763402712,\n",
       " 'doubt': 2.858424763402712,\n",
       " 'depends': 2.8626891621891697,\n",
       " 'gone': 2.8626891621891697,\n",
       " 'weird': 2.8626891621891697,\n",
       " 'ways': 2.8626891621891697,\n",
       " 'google': 2.8669718239811703,\n",
       " '15': 2.8669718239811703,\n",
       " 'including': 2.8669718239811703,\n",
       " 'willing': 2.8669718239811703,\n",
       " 'worst': 2.8669718239811703,\n",
       " 'win': 2.871272905880561,\n",
       " 'prefer': 2.871272905880561,\n",
       " 'quick': 2.871272905880561,\n",
       " 'decided': 2.871272905880561,\n",
       " 'turned': 2.8755925670250777,\n",
       " 'changed': 2.8755925670250777,\n",
       " 'info': 2.8755925670250777,\n",
       " 'hour': 2.8755925670250777,\n",
       " 'create': 2.879930968623676,\n",
       " 'hopefully': 2.879930968623676,\n",
       " 'business': 2.8842882739926314,\n",
       " 'space': 2.8842882739926314,\n",
       " 'fit': 2.8842882739926314,\n",
       " 'write': 2.8842882739926314,\n",
       " 'terrible': 2.8842882739926314,\n",
       " 'towards': 2.8886646485924303,\n",
       " 'stick': 2.8886646485924303,\n",
       " 'plenty': 2.8886646485924303,\n",
       " 'shot': 2.8886646485924303,\n",
       " 'effect': 2.8930602600654685,\n",
       " 'source': 2.8930602600654685,\n",
       " 'throw': 2.8930602600654685,\n",
       " 'parts': 2.8930602600654685,\n",
       " 'follow': 2.897475278274585,\n",
       " 'stand': 2.901909875342451,\n",
       " 'human': 2.901909875342451,\n",
       " 'middle': 2.901909875342451,\n",
       " 'strong': 2.901909875342451,\n",
       " 'anymore': 2.901909875342451,\n",
       " 'building': 2.9063642256918314,\n",
       " 'size': 2.9063642256918314,\n",
       " 'eventually': 2.9063642256918314,\n",
       " 'spent': 2.910838506086752,\n",
       " 'extremely': 2.910838506086752,\n",
       " 'party': 2.910838506086752,\n",
       " 'posts': 2.910838506086752,\n",
       " 'share': 2.910838506086752,\n",
       " 'known': 2.9153328956745916,\n",
       " 'special': 2.9153328956745916,\n",
       " 'beautiful': 2.9153328956745916,\n",
       " 'american': 2.9153328956745916,\n",
       " 'posting': 2.9198475760291185,\n",
       " 'terms': 2.9198475760291185,\n",
       " 'rules': 2.9198475760291185,\n",
       " 'reasons': 2.9243827311945094,\n",
       " 'possibly': 2.9243827311945094,\n",
       " 'history': 2.9243827311945094,\n",
       " 'standard': 2.9243827311945094,\n",
       " 'none': 2.9243827311945094,\n",
       " 'particular': 2.9243827311945094,\n",
       " '50': 2.9243827311945094,\n",
       " 'women': 2.9289385477303704,\n",
       " 'assume': 2.9289385477303704,\n",
       " 'clearly': 2.9289385477303704,\n",
       " 'box': 2.9289385477303704,\n",
       " 'listen': 2.9289385477303704,\n",
       " 'attention': 2.9289385477303704,\n",
       " 'liked': 2.933515214757782,\n",
       " 'walk': 2.933515214757782,\n",
       " 'drop': 2.933515214757782,\n",
       " 'waiting': 2.933515214757782,\n",
       " 'offer': 2.933515214757782,\n",
       " 'tend': 2.933515214757782,\n",
       " 'quickly': 2.9381129240064117,\n",
       " 'useful': 2.9381129240064117,\n",
       " 'ability': 2.9381129240064117,\n",
       " \"she's\": 2.9381129240064117,\n",
       " 'avoid': 2.9381129240064117,\n",
       " 'added': 2.9381129240064117,\n",
       " 'search': 2.942731869862706,\n",
       " 'appreciate': 2.942731869862706,\n",
       " 'buying': 2.947372249419208,\n",
       " 'movie': 2.947372249419208,\n",
       " 'piece': 2.947372249419208,\n",
       " 'agreed': 2.947372249419208,\n",
       " 'books': 2.9520342625250193,\n",
       " 'fall': 2.9520342625250193,\n",
       " 'access': 2.9520342625250193,\n",
       " 'forward': 2.9520342625250193,\n",
       " 'beat': 2.956718111837446,\n",
       " 'honest': 2.956718111837446,\n",
       " 'continue': 2.956718111837446,\n",
       " 'news': 2.956718111837446,\n",
       " 'hands': 2.956718111837446,\n",
       " 'gotten': 2.956718111837446,\n",
       " 'step': 2.956718111837446,\n",
       " 'test': 2.956718111837446,\n",
       " \"it'll\": 2.9614240028748586,\n",
       " 'learned': 2.9614240028748586,\n",
       " 'excellent': 2.9614240028748586,\n",
       " 'argument': 2.9614240028748586,\n",
       " 'bar': 2.9614240028748586,\n",
       " 'position': 2.9661521440708047,\n",
       " 'multiple': 2.9661521440708047,\n",
       " 'social': 2.9661521440708047,\n",
       " 'considering': 2.9661521440708047,\n",
       " 'sucks': 2.9661521440708047,\n",
       " 'die': 2.9661521440708047,\n",
       " 'fix': 2.9709027468294025,\n",
       " 'young': 2.9709027468294025,\n",
       " 'entirely': 2.9709027468294025,\n",
       " 'basic': 2.9709027468294025,\n",
       " 'lower': 2.9709027468294025,\n",
       " 'pass': 2.9709027468294025,\n",
       " 'death': 2.9709027468294025,\n",
       " 'highly': 2.9709027468294025,\n",
       " 'notice': 2.9709027468294025,\n",
       " 'holy': 2.97567602558206,\n",
       " 'lack': 2.97567602558206,\n",
       " 'phone': 2.97567602558206,\n",
       " 'act': 2.980472197845553,\n",
       " \"they've\": 2.980472197845553,\n",
       " 'miss': 2.980472197845553,\n",
       " 'choose': 2.980472197845553,\n",
       " 'value': 2.980472197845553,\n",
       " 'regular': 2.980472197845553,\n",
       " 'feels': 2.985291484281502,\n",
       " 'meet': 2.985291484281502,\n",
       " 'upvote': 2.985291484281502,\n",
       " 'older': 2.985291484281502,\n",
       " 'market': 2.985291484281502,\n",
       " 'slightly': 2.985291484281502,\n",
       " 'considered': 2.985291484281502,\n",
       " 'science': 2.985291484281502,\n",
       " 'regardless': 2.985291484281502,\n",
       " 'allow': 2.985291484281502,\n",
       " 'title': 2.99013410875729,\n",
       " 'directly': 2.99013410875729,\n",
       " 'further': 2.99013410875729,\n",
       " 'ridiculous': 2.99013410875729,\n",
       " 'focus': 2.99013410875729,\n",
       " 'putting': 2.99013410875729,\n",
       " 'response': 2.995000298408463,\n",
       " 'fantastic': 2.995000298408463,\n",
       " 'total': 2.995000298408463,\n",
       " 'noticed': 2.995000298408463,\n",
       " 'service': 3.004804298505084,\n",
       " 'character': 3.004804298505084,\n",
       " 'force': 3.004804298505084,\n",
       " 'law': 3.004804298505084,\n",
       " 'age': 3.0097425801456663,\n",
       " 'sir': 3.0097425801456663,\n",
       " 'tv': 3.0097425801456663,\n",
       " 'interest': 3.0097425801456663,\n",
       " 'paid': 3.0097425801456663,\n",
       " 'sad': 3.0097425801456663,\n",
       " 'sell': 3.0097425801456663,\n",
       " 'bottom': 3.0097425801456663,\n",
       " 'telling': 3.0097425801456663,\n",
       " 'nobody': 3.0097425801456663,\n",
       " 'research': 3.014705369487795,\n",
       " 'somehow': 3.014705369487795,\n",
       " 'third': 3.014705369487795,\n",
       " \"they'll\": 3.014705369487795,\n",
       " 'exact': 3.014705369487795,\n",
       " 'term': 3.014705369487795,\n",
       " 'welcome': 3.014705369487795,\n",
       " 'series': 3.014705369487795,\n",
       " 'fire': 3.019692910998834,\n",
       " 'learning': 3.019692910998834,\n",
       " 'men': 3.019692910998834,\n",
       " 'involved': 3.019692910998834,\n",
       " 'provide': 3.019692910998834,\n",
       " 'ideas': 3.019692910998834,\n",
       " 'compared': 3.019692910998834,\n",
       " 'dark': 3.0247054528223787,\n",
       " 'key': 3.0247054528223787,\n",
       " 'air': 3.0247054528223787,\n",
       " 'loved': 3.0247054528223787,\n",
       " 'field': 3.0297432468523358,\n",
       " 'popular': 3.0297432468523358,\n",
       " 'changes': 3.0297432468523358,\n",
       " '12': 3.0297432468523358,\n",
       " 'trouble': 3.0297432468523358,\n",
       " 'average': 3.0297432468523358,\n",
       " 'program': 3.0297432468523358,\n",
       " 'speak': 3.0348065488088825,\n",
       " 'ended': 3.0348065488088825,\n",
       " \"we'll\": 3.0348065488088825,\n",
       " 'parents': 3.0348065488088825,\n",
       " 'missed': 3.0348065488088825,\n",
       " 'sent': 3.0348065488088825,\n",
       " 'four': 3.0348065488088825,\n",
       " 'knowledge': 3.0348065488088825,\n",
       " 'eye': 3.0398956183163537,\n",
       " 'smaller': 3.0398956183163537,\n",
       " 'sweet': 3.045010718983124,\n",
       " 'pm': 3.045010718983124,\n",
       " 'specifically': 3.045010718983124,\n",
       " 'assuming': 3.045010718983124,\n",
       " 'message': 3.045010718983124,\n",
       " 'eyes': 3.045010718983124,\n",
       " 'image': 3.050152118483543,\n",
       " 'safe': 3.050152118483543,\n",
       " 'surprised': 3.050152118483543,\n",
       " 'wife': 3.050152118483543,\n",
       " 'kid': 3.050152118483543,\n",
       " 'clean': 3.050152118483543,\n",
       " 'beyond': 3.050152118483543,\n",
       " 'ground': 3.0553200886419853,\n",
       " 'uses': 3.0553200886419853,\n",
       " 'anywhere': 3.0553200886419853,\n",
       " 'weekend': 3.0553200886419853,\n",
       " 'related': 3.0605149055190894,\n",
       " 'seemed': 3.0605149055190894,\n",
       " 'hurt': 3.0605149055190894,\n",
       " 'nearly': 3.0605149055190894,\n",
       " 'twice': 3.0605149055190894,\n",
       " 'slow': 3.0605149055190894,\n",
       " 'sit': 3.0605149055190894,\n",
       " 'sign': 3.0605149055190894,\n",
       " 'fight': 3.0605149055190894,\n",
       " 'speed': 3.065736849500241,\n",
       " 'joke': 3.065736849500241,\n",
       " 'helpful': 3.065736849500241,\n",
       " 'kept': 3.065736849500241,\n",
       " 'beginning': 3.065736849500241,\n",
       " 'data': 3.065736849500241,\n",
       " 'harder': 3.065736849500241,\n",
       " 'pull': 3.065736849500241,\n",
       " 'pictures': 3.070986205386385,\n",
       " 'heart': 3.070986205386385,\n",
       " 'street': 3.070986205386385,\n",
       " 'written': 3.070986205386385,\n",
       " 'return': 3.070986205386385,\n",
       " 'self': 3.070986205386385,\n",
       " 'rule': 3.076263262487229,\n",
       " 'date': 3.076263262487229,\n",
       " 'code': 3.076263262487229,\n",
       " 'cover': 3.076263262487229,\n",
       " 'indeed': 3.0815683147169217,\n",
       " 'ya': 3.0815683147169217,\n",
       " 'earlier': 3.0815683147169217,\n",
       " 'effort': 3.0815683147169217,\n",
       " 'design': 3.0869016606922846,\n",
       " 'writing': 3.0869016606922846,\n",
       " 'curious': 3.0869016606922846,\n",
       " 'content': 3.0869016606922846,\n",
       " 'moved': 3.0869016606922846,\n",
       " 'five': 3.0869016606922846,\n",
       " 'btw': 3.0869016606922846,\n",
       " 'links': 3.0869016606922846,\n",
       " 'literally': 3.0922636038336697,\n",
       " '40': 3.0922636038336697,\n",
       " 'himself': 3.0922636038336697,\n",
       " 'solid': 3.0922636038336697,\n",
       " 'bigger': 3.0922636038336697,\n",
       " 'art': 3.0922636038336697,\n",
       " 'blue': 3.0922636038336697,\n",
       " 'following': 3.0922636038336697,\n",
       " 'text': 3.097654452468546,\n",
       " 'sitting': 3.097654452468546,\n",
       " 'player': 3.097654452468546,\n",
       " 'double': 3.097654452468546,\n",
       " 'forgot': 3.097654452468546,\n",
       " 'suppose': 3.1030745199378855,\n",
       " 'nope': 3.1030745199378855,\n",
       " 'pain': 3.1030745199378855,\n",
       " 'hoping': 3.1030745199378855,\n",
       " 'season': 3.1030745199378855,\n",
       " 'truly': 3.1030745199378855,\n",
       " 'count': 3.1030745199378855,\n",
       " 'goal': 3.10852412470545,\n",
       " 'card': 3.10852412470545,\n",
       " 'knowing': 3.10852412470545,\n",
       " 'allowed': 3.10852412470545,\n",
       " 'x': 3.10852412470545,\n",
       " 'missing': 3.10852412470545,\n",
       " 'lines': 3.10852412470545,\n",
       " 'forever': 3.10852412470545,\n",
       " 'solution': 3.114003590470076,\n",
       " 'vote': 3.114003590470076,\n",
       " 'contact': 3.114003590470076,\n",
       " 'morning': 3.114003590470076,\n",
       " \"we've\": 3.114003590470076,\n",
       " 'weight': 3.114003590470076,\n",
       " 'majority': 3.114003590470076,\n",
       " ...}"
      ]
     },
     "execution_count": 69,
     "metadata": {},
     "output_type": "execute_result"
    }
   ],
   "source": [
    "inv_doc_freq_map_res = inv_doc_freq.collectAsMap()\n",
    "inv_doc_freq_map_res"
   ]
  },
  {
   "cell_type": "markdown",
   "metadata": {},
   "source": [
    "We show some of top terms for chosen subreddits below:"
   ]
  },
  {
   "cell_type": "code",
   "execution_count": 128,
   "metadata": {
    "scrolled": false
   },
   "outputs": [
    {
     "name": "stdout",
     "output_type": "stream",
     "text": [
      "politics\n",
      "[('the', 7980.777479591923), ('to', 5979.3645992125685), ('of', 5548.284940364511), ('and', 5005.472898981856), ('that', 4983.0044317421), ('a', 4700.3492154260375), ('is', 4471.969252638264), ('in', 3956.9588127142133), ('you', 3879.6496160129514), ('they', 3454.691714821324), ('are', 3351.7597352240305), ('not', 3262.781603177621), ('people', 3217.3051161751896), ('it', 3211.644726306095), ('government', 2956.781859719072), ('for', 2913.958240428976), ('he', 2819.762254747586), ('as', 2737.8253498974946), ('i', 2685.698014941359), ('be', 2676.7487281468293), ('have', 2640.235684238025), ('we', 2576.2336478543034), ('their', 2416.1310011796836), ('on', 2292.601718767157), ('with', 2283.511036516655), ('this', 2260.0188265053057), ('who', 2223.758676490278), ('if', 2207.7265959661613), ('obama', 2192.3983117970974), ('would', 2173.492925007271), ('what', 2132.1359797371256), ('was', 2096.5972997568347), ('no', 2068.071361154386), ('but', 2036.5814319040142), ('or', 1998.4783762357429), ('by', 1991.4375867870767), ('your', 1979.8287756725308), ('all', 1924.0639417593475), ('do', 1915.6861788549827), (\"don't\", 1858.038450487308), ('about', 1849.3513603100869), ('more', 1816.5873258525833), ('because', 1738.1292515336331), ('an', 1714.8319491009058), ('just', 1677.5699552594283), (\"it's\", 1668.3067587081223), ('will', 1650.214213638489), ('has', 1634.665891887818), ('from', 1630.0486264987362), ('so', 1626.984063756041)]\n",
      "CPU times: user 18 ms, sys: 0 ns, total: 18 ms\n",
      "Wall time: 17.9 ms\n"
     ]
    }
   ],
   "source": [
    "%%time\n",
    "tfidf_list_1 = list(map(lambda t_f: (t_f[0], t_f[1] * inv_doc_freq_map_res[t_f[0]]), \n",
    "                 term_freq_res_1.items()))\n",
    "\n",
    "print(sub_1)\n",
    "print(sorted(tfidf_list_1, key = lambda t_fidf: t_fidf[1], reverse = True)[0:50])"
   ]
  },
  {
   "cell_type": "code",
   "execution_count": 130,
   "metadata": {
    "scrolled": false
   },
   "outputs": [
    {
     "name": "stdout",
     "output_type": "stream",
     "text": [
      "programming\n",
      "[('the', 1587.4734159443374), ('to', 1349.4462659317119), ('of', 1186.674489237115), ('a', 1184.3151489930956), ('that', 1135.8176487539656), ('is', 1113.8926537197578), ('and', 1070.50693163868), ('it', 1021.3841437276559), ('you', 1000.0651212261364), ('', 939.1139725607553), ('in', 876.2390843428831), ('code', 818.2860278216028), ('i', 791.1127570552981), ('for', 762.2159286307275), ('not', 699.1674863952045), ('gt', 694.967339088719), ('with', 691.386623537015), ('be', 641.6920027933085), ('as', 635.7116724910354), ('are', 630.6192867795077), ('c', 626.6820159504492), ('but', 608.9894574153524), ('have', 591.8193616950805), ('use', 579.8298727587509), ('on', 575.5518979726207), ('if', 560.8227412305614), ('or', 532.0356954242426), ('this', 531.5049244182733), ('can', 524.5010728410244), ('language', 522.8502962703028), (\"it's\", 520.8788856363171), ('an', 501.76006114222025), ('your', 487.84982467749325), ('they', 486.4993079416105), (\"don't\", 468.0375337303472), ('do', 456.8514274458311), ('languages', 450.835282960784), ('java', 442.17261998463636), ('just', 441.6653102547421), ('what', 440.3685106047618), ('like', 438.5536265283854), ('programming', 438.0645953916532), ('was', 436.66357386663026), ('so', 418.09145377232386), ('more', 402.4917349193429), ('all', 399.9209116820815), ('would', 391.27516865782604), ('at', 387.961837844771), ('which', 385.9965021682182), ('because', 380.4367523698514)]\n",
      "CPU times: user 8.63 ms, sys: 0 ns, total: 8.63 ms\n",
      "Wall time: 8.59 ms\n"
     ]
    }
   ],
   "source": [
    "%%time\n",
    "\n",
    "tfidf_list_2 = list(map(lambda t_f: (t_f[0], t_f[1] * inv_doc_freq_map_res[t_f[0]]), \n",
    "                 term_freq_res_2.items()))\n",
    "\n",
    "print(sub_2)\n",
    "print(sorted(tfidf_list_2, key = lambda t_fidf: t_fidf[1], reverse = True)[0:50])"
   ]
  },
  {
   "cell_type": "markdown",
   "metadata": {},
   "source": [
    "##### Removing Stop-words\n",
    "\n",
    "While weighting the term frequency with the inverse document frequency should deemphasize the most common/least informative words, we may still find some of them at the top of the adjusted frequency list. We thus filter out the [stop-words](https://en.wikipedia.org/wiki/Stop_words) to get the more informative key terms."
   ]
  },
  {
   "cell_type": "code",
   "execution_count": 78,
   "metadata": {},
   "outputs": [],
   "source": [
    "from nltk.corpus import stopwords\n",
    "stop_words = stopwords.words()"
   ]
  },
  {
   "cell_type": "code",
   "execution_count": 131,
   "metadata": {},
   "outputs": [
    {
     "name": "stdout",
     "output_type": "stream",
     "text": [
      "CPU times: user 1.17 s, sys: 0 ns, total: 1.17 s\n",
      "Wall time: 1.17 s\n"
     ]
    }
   ],
   "source": [
    "%%time\n",
    "f_tfidf_list_1 = list(filter(lambda t_fidf: t_fidf[0] not in stop_words, tfidf_list_1))"
   ]
  },
  {
   "cell_type": "code",
   "execution_count": 132,
   "metadata": {},
   "outputs": [
    {
     "name": "stdout",
     "output_type": "stream",
     "text": [
      "CPU times: user 545 ms, sys: 0 ns, total: 545 ms\n",
      "Wall time: 546 ms\n"
     ]
    }
   ],
   "source": [
    "%%time\n",
    "f_tfidf_list_2 = list(filter(lambda t_fidf: t_fidf[0] not in stop_words, tfidf_list_2))"
   ]
  },
  {
   "cell_type": "markdown",
   "metadata": {},
   "source": [
    "#### Key Terms\n",
    "Finally, we can view the key terms for the specified subreddit."
   ]
  },
  {
   "cell_type": "code",
   "execution_count": 107,
   "metadata": {},
   "outputs": [],
   "source": [
    "from pprint import pprint"
   ]
  },
  {
   "cell_type": "code",
   "execution_count": 133,
   "metadata": {
    "scrolled": true
   },
   "outputs": [
    {
     "name": "stdout",
     "output_type": "stream",
     "text": [
      "'politics'\n",
      "[('people', 3217.3051161751896),\n",
      " ('government', 2956.781859719072),\n",
      " ('obama', 2192.3983117970974),\n",
      " ('would', 2173.492925007271),\n",
      " ('money', 1609.3852245466571),\n",
      " ('', 1594.9542222507255),\n",
      " ('us', 1587.0675099983946),\n",
      " ('like', 1553.78954557342),\n",
      " ('think', 1552.1000901547854),\n",
      " ('tax', 1511.3084122659845),\n",
      " ('vote', 1401.3016157115342),\n",
      " ('get', 1333.8166738496602),\n",
      " ('one', 1308.5267337724522),\n",
      " ('right', 1282.50450720408),\n",
      " ('even', 1249.060298263983),\n",
      " ('taxes', 1245.1607177632886),\n",
      " ('paul', 1227.8021700862641),\n",
      " ('country', 1216.8792847140562),\n",
      " ('republicans', 1195.0712944477862),\n",
      " ('make', 1175.699453076192),\n",
      " ('state', 1130.4281123947137),\n",
      " ('republican', 1099.0942182558558),\n",
      " ('ron', 1085.6796530851152),\n",
      " ('say', 1083.091086237188),\n",
      " ('bush', 1073.0548161002976),\n",
      " (\"that's\", 1063.2257973957508),\n",
      " ('way', 1055.570395235103),\n",
      " ('pay', 1045.8099690811764),\n",
      " (\"i'm\", 1040.4866078762282),\n",
      " ('point', 1001.1494716824),\n",
      " ('know', 982.449413910854),\n",
      " ('federal', 980.1279301825874),\n",
      " ('states', 970.1778350244258),\n",
      " ('political', 960.3010414560324),\n",
      " ('much', 948.7953472768563),\n",
      " ('rights', 934.5660399915981),\n",
      " ('president', 931.6409481608518),\n",
      " ('party', 928.5574834416739),\n",
      " ('gt', 925.2019176825278),\n",
      " ('really', 924.2743464631052),\n",
      " ('see', 920.1225776271853),\n",
      " ('deleted', 916.4685603376208),\n",
      " ('time', 907.3591217454876),\n",
      " ('law', 904.4460938500303),\n",
      " ('going', 882.8840910394289),\n",
      " ('things', 878.7053016789504),\n",
      " ('system', 873.3787314762129),\n",
      " ('could', 871.6824057745135),\n",
      " ('said', 870.5113448014597),\n",
      " ('many', 860.880139484687)]\n"
     ]
    }
   ],
   "source": [
    "pprint(sub_1)\n",
    "pprint(sorted(f_tfidf_list_1, key = lambda t_fidf: t_fidf[1], reverse = True)[0:50])"
   ]
  },
  {
   "cell_type": "code",
   "execution_count": 135,
   "metadata": {
    "scrolled": true
   },
   "outputs": [
    {
     "name": "stdout",
     "output_type": "stream",
     "text": [
      "'programming'\n",
      "[('', 939.1139725607553),\n",
      " ('code', 818.2860278216028),\n",
      " ('gt', 694.967339088719),\n",
      " ('use', 579.8298727587509),\n",
      " ('language', 522.8502962703028),\n",
      " ('languages', 450.835282960784),\n",
      " ('java', 442.17261998463636),\n",
      " ('like', 438.5536265283854),\n",
      " ('programming', 438.0645953916532),\n",
      " ('would', 391.27516865782604),\n",
      " ('software', 364.9534705988249),\n",
      " ('python', 334.20355790808793),\n",
      " ('work', 333.7701495370556),\n",
      " ('lisp', 330.98764451023504),\n",
      " ('one', 319.12592916475836),\n",
      " (\"i'm\", 316.62236755939784),\n",
      " ('php', 313.7146518505741),\n",
      " ('people', 311.2217260621728),\n",
      " ('think', 299.8094768740961),\n",
      " ('windows', 295.25457696125284),\n",
      " ('get', 290.50075015200224),\n",
      " ('using', 287.49192181545527),\n",
      " (\"that's\", 282.1112672119966),\n",
      " ('make', 281.87576949528574),\n",
      " ('haskell', 281.76003933473635),\n",
      " ('something', 281.2034440012708),\n",
      " ('write', 279.77596257728527),\n",
      " ('web', 275.12358307753107),\n",
      " ('even', 273.2319402452463),\n",
      " ('linux', 267.6518064333667),\n",
      " ('time', 265.88332728246155),\n",
      " ('deleted', 257.75678259495584),\n",
      " ('data', 257.52189535802023),\n",
      " ('much', 256.0241413286755),\n",
      " ('good', 253.83750962750568),\n",
      " ('know', 243.99007901616983),\n",
      " ('way', 243.25295420920668),\n",
      " ('need', 242.77649060777898),\n",
      " ('actually', 241.63356857378588),\n",
      " ('could', 240.56652425122863),\n",
      " ('well', 238.27103773621118),\n",
      " ('point', 237.11434855635787),\n",
      " ('problem', 237.01679773137212),\n",
      " ('used', 236.91258710411918),\n",
      " ('really', 236.79755983765506),\n",
      " ('things', 233.05543364765873),\n",
      " ('microsoft', 232.30161434286236),\n",
      " ('system', 224.37630394278398),\n",
      " ('programmers', 223.20462123836867),\n",
      " ('compiler', 221.6579378548371)]\n"
     ]
    }
   ],
   "source": [
    "pprint(sub_2)\n",
    "pprint(sorted(f_tfidf_list_2, key = lambda t_fidf: t_fidf[1], reverse = True)[0:50])"
   ]
  }
 ],
 "metadata": {
  "kernelspec": {
   "display_name": "Python 3",
   "language": "python",
   "name": "python3"
  },
  "language_info": {
   "codemirror_mode": {
    "name": "ipython",
    "version": 3
   },
   "file_extension": ".py",
   "mimetype": "text/x-python",
   "name": "python",
   "nbconvert_exporter": "python",
   "pygments_lexer": "ipython3",
   "version": "3.6.5"
  }
 },
 "nbformat": 4,
 "nbformat_minor": 2
}
